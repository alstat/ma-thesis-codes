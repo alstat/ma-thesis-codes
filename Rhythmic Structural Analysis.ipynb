{
 "cells": [
  {
   "cell_type": "code",
   "execution_count": 1,
   "id": "e989d7a7-591a-49cb-8e99-f97adf94cc1d",
   "metadata": {},
   "outputs": [],
   "source": [
    "using QuranTree"
   ]
  },
  {
   "cell_type": "code",
   "execution_count": 2,
   "id": "46f9e1d6-727c-4073-a873-974393d3fa1a",
   "metadata": {},
   "outputs": [],
   "source": [
    "using Yunir"
   ]
  },
  {
   "cell_type": "code",
   "execution_count": 24,
   "id": "6b243f61-bd2a-4d9e-92d7-fcfdb8b15619",
   "metadata": {},
   "outputs": [],
   "source": [
    "using CairoMakie"
   ]
  },
  {
   "cell_type": "code",
   "execution_count": 3,
   "id": "c39c2778-350a-487f-a5b4-490327113ba7",
   "metadata": {},
   "outputs": [],
   "source": [
    "\"\"\"\n",
    "\tHarakaat(char::Union{String, Char}, is_tanween::Bool)\n",
    "Create a `Harakaat` object using `char` as the Arabic orthography, which is expected to be the \n",
    "short vowels, sukūn, and tanween.\n",
    "```julia-repl\n",
    "julia> fatha = arabic(\"a\")\n",
    "julia> Harakaat(fatha, false)\n",
    "Harakaat(\"َ\", false)\n",
    "```\n",
    "\"\"\"\n",
    "struct Harakaat\n",
    "\tchar::Union{String, Char}\n",
    "\tis_tanween::Bool\n",
    "end\n",
    "\n",
    "function Base.string(x::Harakaat)\n",
    "\tHarakaat(string(x.char), x.is_tanween)\n",
    "end\n",
    "Yunir.encode(x::Harakaat) = Harakaat(encode(string(x.char)), x.is_tanween)\n",
    "Yunir.arabic(x::Harakaat) = Harakaat(arabic(string(x.char)), x.is_tanween)\n",
    "\n",
    "Base.occursin(x::String, y::Harakaat) = occursin(x, y.char)\n",
    "function Base.broadcasted(::typeof(in), s::AbstractString, mss::Vector{Harakaat})\n",
    "\treturn [occursin(s, ms) for ms ∈ mss]\n",
    "end"
   ]
  },
  {
   "cell_type": "code",
   "execution_count": 4,
   "id": "661c99b4-3fcd-4284-82c6-92b55da041bd",
   "metadata": {},
   "outputs": [
    {
     "data": {
      "text/plain": [
       "4-element Vector{String}:\n",
       " \"y\"\n",
       " \"w\"\n",
       " \"A\"\n",
       " \"`\""
      ]
     },
     "execution_count": 4,
     "metadata": {},
     "output_type": "execute_result"
    }
   ],
   "source": [
    "const AR_VOWELS = [\n",
    "\tHarakaat(Char(0x064B) |> string, true),\n",
    "\tHarakaat(Char(0x064C) |> string, true),\n",
    "\tHarakaat(Char(0x064D) |> string, true),\n",
    "\tHarakaat(Char(0x064E) |> string, false),\n",
    "\tHarakaat(Char(0x064F) |> string, false),\n",
    "\tHarakaat(Char(0x0650) |> string, false),\n",
    "]\n",
    "const BW_VOWELS = encode.(AR_VOWELS)\n",
    "const AR_LONG_VOWELS = [\n",
    "\tChar(0x064A) |> string,\n",
    "\tChar(0x0648) |> string,\n",
    "\tChar(0x0627) |> string,\n",
    "\tChar(0x0670) |> string\n",
    "]\n",
    "const BW_LONG_VOWELS = encode.(AR_LONG_VOWELS)"
   ]
  },
  {
   "cell_type": "code",
   "execution_count": 5,
   "id": "7d8e0ba5-95a7-45a6-a72f-4ee027c34b24",
   "metadata": {},
   "outputs": [],
   "source": [
    "\"\"\"\n",
    "\tSegment(text::String, harakaat::Array{Harakaat})\n",
    "Create a `Segment` object from `text`, which is the form of the segments of syllables, \n",
    "where vowels of which are also listed as `harakaat`.\n",
    "```julia-repl\n",
    "julia> bw_segment = \"~aH?Hiy\"\n",
    "julia> Segment(bw_segment, Harakaat[Harakaat(\"a\", false), Harakaat(\"i\", false)])\n",
    "Segment(\"~aH?Hiy\", Harakaat[Harakaat(\"a\", false), Harakaat(\"i\", false)])\n",
    "```\n",
    "\"\"\"\n",
    "struct Segment\n",
    "\tsegment::String\n",
    "\tharakaat::Array{Harakaat}\n",
    "end\n",
    "Yunir.encode(x::Segment) = Segment(encode(x.segment), encode.(x.harakaat))\n",
    "Yunir.arabic(x::Segment) = Segment(arabic(x.segment), encode.(x.harakaat))"
   ]
  },
  {
   "cell_type": "code",
   "execution_count": 6,
   "id": "056b5961-bb21-4ff8-8fd5-6d0f9cf4f50d",
   "metadata": {},
   "outputs": [
    {
     "data": {
      "text/plain": [
       "Syllable"
      ]
     },
     "execution_count": 6,
     "metadata": {},
     "output_type": "execute_result"
    }
   ],
   "source": [
    "\"\"\"\n",
    "\tSyllable{T <: Number}(\n",
    "\t    lead_nchars::T,\n",
    "\t    trail_nchars::T,\n",
    "\t    nvowels::T\n",
    "    )\n",
    "Create a `Syllable` object specifying the number of vowels `nvowels` to capture, and \n",
    "also the number of leading (`lead_nchars`) and trailing characters (`trail_nchars`) \n",
    "around the vowel. This object is used as an input for the `Rhyme` object.\n",
    "The following code creates a `Syllable`, which specifies 3 syllables with 1 leading and trailing characters to include.\n",
    "```julia-repl\n",
    "julia> Syllable(1, 1, 3)\n",
    "Syllable{Int64}(1, 1, 3)\n",
    "```\n",
    "\"\"\"\n",
    "struct Syllable{T <: Number}\n",
    "\tlead_nchars::T\n",
    "\ttrail_nchars::T\n",
    "\tnvowels::T\n",
    "end"
   ]
  },
  {
   "cell_type": "code",
   "execution_count": 7,
   "id": "2ed09daa-4a70-45bc-93f1-04adb4028430",
   "metadata": {},
   "outputs": [
    {
     "data": {
      "text/plain": [
       "Syllabification"
      ]
     },
     "execution_count": 7,
     "metadata": {},
     "output_type": "execute_result"
    }
   ],
   "source": [
    "\"\"\"\n",
    "\tRhyme(is_quran::Bool, syllable::Syllable)\n",
    "Create a `Rhyme` object with specifics for the `syllable` contructed through `Syllable`. \n",
    "It also takes argument for `is_quran` to handle Qur'an input, which does not recite the last vowel in every last word of the verse.\n",
    "The following code creates a `Syllable`, which specifies 3 syllables with 1 leading and trailing characters to include.\n",
    "```julia-repl\n",
    "julia> ar_raheem_alamiyn = [\"ٱلرَّحِيمِ\", \"ٱلْعَٰلَمِينَ\"]\n",
    "2-element Vector{String}:\n",
    " \"ٱلرَّحِيمِ\"\n",
    " \"ٱلْعَٰلَمِينَ\"\n",
    "julia> r = Syllabification(true, Syllable(1, 1, 3))\n",
    "Rhyme(true, Syllable{Int64}(1, 1, 3))\n",
    "julia> output = r.(ar_raheem_alamiyn, true)\n",
    "2-element Vector{Segment}:\n",
    " Segment(\"َّح?حِي\", Harakaat[Harakaat(\"َ\", false), Harakaat(\"ِ\", false)])\n",
    " Segment(\"عَٰ?لَم?مِي\", Harakaat[Harakaat(\"َ\", false), Harakaat(\"َ\", false), Harakaat(\"ِ\", false)])\n",
    "julia> encode.(output)\n",
    "2-element Vector{Segment}:\n",
    " Segment(\"~aH?Hiy\", Harakaat[Harakaat(\"a\", false), Harakaat(\"i\", false)])\n",
    " Segment(\"Ea`?lam?miy\", Harakaat[Harakaat(\"a\", false), Harakaat(\"a\", false), Harakaat(\"i\", false)])\n",
    "```\n",
    "\"\"\"\n",
    "struct Syllabification\n",
    "\tsilent_vowel::Bool\n",
    "\tsyllable::Syllable\n",
    "end"
   ]
  },
  {
   "cell_type": "code",
   "execution_count": 8,
   "id": "c87846a8-21f9-427d-80d6-d4325682edf7",
   "metadata": {},
   "outputs": [
    {
     "data": {
      "text/plain": [
       "Syllabification"
      ]
     },
     "execution_count": 8,
     "metadata": {},
     "output_type": "execute_result"
    }
   ],
   "source": [
    "function count_vowels(text::String, isarabic::Bool=false)\n",
    "    text = isarabic ? encode(text) : text\n",
    "\tjvowels = join([c.char for c in BW_VOWELS])\n",
    "    return count(c -> c in jvowels, text)\n",
    "end\n",
    "function vowel_indices(text::String, isarabic::Bool=false)\n",
    "    text = isarabic ? encode(text) : text\n",
    "\tjvowels = join([c.char for c in BW_VOWELS])\n",
    "\treturn findall(c -> c in jvowels, text)\n",
    "end\n",
    "\"\"\"\n",
    "\t(r::Syllabification)(text::String, isarabic::Bool=false)\n",
    "Call function for the `Syllabification` object. It extracts the rhyme features of `text` using the options\n",
    "from the `Syllabification` object specified by `r`. It can handle both Arabic and Buckwalter input by toggling `isarabic`. \n",
    "\n",
    "Note: This will only work with @transliterator :default\n",
    "```julia-repl\n",
    "julia> ar_raheem = \"ٱلرَّحِيمِ\"\n",
    "\"ٱلرَّحِيمِ\"\n",
    "julia> r = Syllabification(true, Syllable(1, 2, 1))\n",
    "Syllabification(true, Syllable{Int64}(1, 2, 1))\n",
    "julia> output = r(ar_raheem, true)\n",
    "Segment(\"حِيم\", Harakaat[Harakaat(\"ِ\", false)])\n",
    "julia> encode(output)\n",
    "Segment(\"Hiym\", Harakaat[Harakaat(\"i\", false)])\n",
    "```\n",
    "\"\"\"\n",
    "function (r::Syllabification)(text::String; isarabic::Bool=false, first_word::Bool=false, silent_last_vowel::Bool=false)\n",
    "    jvowels = join([c.char for c in BW_VOWELS])\n",
    "\ttext = isarabic ? encode(text) : text\n",
    "\t\n",
    "\tvowel_idcs = vowel_indices(text, isarabic)\n",
    "\tharakaat = Harakaat[]\n",
    "\tsegment_text = \"\"\n",
    "\t\n",
    "\tif length(vowel_idcs) == 0\n",
    "\t\t# since there is no vowel here, the name of the orthography as to how it is read will\n",
    "\t\t# be considered in recitation, meaning the vowels in the names of these letters will be used\n",
    "\t\t# instead of the explicit Arabic vowels\n",
    "\t\torthogs = parse(Orthography, arabic(text)).data\n",
    "\t\ti = 1;\n",
    "\t\tfor orthog in orthogs\n",
    "\t\t\torthog = string(orthog)\n",
    "\t\t\tif orthog == \"Maddah\"\n",
    "\t\t\t\ti += 1\n",
    "\t\t\t\tcontinue\n",
    "\t\t\telse\n",
    "\t\t\t\t# if the name of the orthography is spelled with e instead of i, use i\n",
    "\t\t\t\tif occursin('e', orthog)\n",
    "\t\t\t\t\tpush!(harakaat, BW_VOWELS[findfirst(x -> x.char == \"i\", BW_VOWELS)])\n",
    "\t\t\t\telseif occursin('o', orthog) # cases like Noon\n",
    "\t\t\t\t\tpush!(harakaat, BW_VOWELS[findfirst(x -> x.char == \"u\", BW_VOWELS)])\n",
    "\t\t\t\telse\n",
    "\t\t\t\t\t# otherwise, extract the vowels from the name of the orthography\n",
    "\t\t\t\t\tname_vowel_idcs = findall(x -> x in jvowels, lowercase(orthog))\n",
    "\t\t\t\t\tfor vowel in lowercase(orthog[name_vowel_idcs])\n",
    "\t\t\t\t\t\tcond = string(vowel) .∈ BW_VOWELS\n",
    "\t\t\t\t\t\tif sum(cond) > 0\n",
    "\t\t\t\t\t\t\tpush!(harakaat, BW_VOWELS[cond][1])\n",
    "\t\t\t\t\t\telse\n",
    "\t\t\t\t\t\t\tcontinue\n",
    "\t\t\t\t\t\tend\n",
    "\t\t\t\t\tend\n",
    "\t\t\t\tend\n",
    "\n",
    "\t\t\t\tconsonant = \"\"\n",
    "\t\t\t\tif i+1 < length(text)\n",
    "\t\t\t\t\tif text[i+1] != '^'\n",
    "\t\t\t\t\t\tconsonant = text[i] * \"?\"\n",
    "\t\t\t\t\telse\n",
    "\t\t\t\t\t\tconsonant = text[i:i+1] * \"?\"\n",
    "\t\t\t\t\tend \n",
    "\t\t\t\telseif i+1 == length(text)\n",
    "\t\t\t\t\tif text[i+1] == '^'\n",
    "\t\t\t\t\t\tconsonant = text[i:i+1]\n",
    "\t\t\t\t\telseif text[i+1] == '~'\n",
    "\t\t\t\t\t\tconsonant = text[i:i+1]\n",
    "\t\t\t\t\t\tsegment_text *= consonant\n",
    "\t\t\t\t\t\tbreak # break already since the length of the text is equal to i+1\n",
    "\t\t\t\t\telse\n",
    "\t\t\t\t\t\tconsonant = text[i] * \"?\"\n",
    "\t\t\t\t\tend \n",
    "\t\t\t\telse\n",
    "\t\t\t\t\tconsonant = text[i]\n",
    "\t\t\t\tend\n",
    "\n",
    "\t\t\t\tsegment_text *= consonant\n",
    "\t\t\t\ti += 1\n",
    "\t\t\tend\n",
    "\t\tend\n",
    "\t\treturn Segment(segment_text, harakaat)\n",
    "\tend\n",
    "\t\n",
    "\tif silent_last_vowel\n",
    "\t\tcond = string(text[end]) .∈ BW_VOWELS\n",
    "\t\tis_silent = sum(cond)\n",
    "\t\tpenalty = is_silent < 1 ? 1 : 0\n",
    "\telse \n",
    "\t\tis_silent = 0\n",
    "\t\tpenalty = 1\n",
    "\tend\n",
    "\n",
    "\t# uplimit accounts exclusion of silent last vowel\n",
    "\tuplimit = r.syllable.nvowels > (count_vowels(text, isarabic) - is_silent) ? (count_vowels(text, isarabic) - is_silent) : r.syllable.nvowels\n",
    "\tk = 1\n",
    "\tfor i in 0:(uplimit-is_silent-penalty)\n",
    "\t\tvowel_idx = vowel_idcs[end-i-is_silent]\n",
    "\n",
    "\t\t# checks if the input has vowels\n",
    "\t\tcond = string(text[vowel_idx]) .∈ BW_VOWELS\n",
    "\n",
    "\t\t# if it has at least one vowel\n",
    "\t\tif sum(cond) > 0\n",
    "\t\t\tpush!(harakaat, isarabic ? arabic(BW_VOWELS[cond][1]) : BW_VOWELS[cond][1])\n",
    "\t\t\tlead_length = length(text[1:(vowel_idx-1)])\n",
    "\t\t\ttrail_length = length(text[(vowel_idx+1):end])\n",
    "\t\t\tlead_nchars_lwlimit = lead_length > r.syllable.lead_nchars ? r.syllable.lead_nchars : lead_length\n",
    "\t\t\ttrail_nchars_uplimit = trail_length > r.syllable.trail_nchars ? r.syllable.trail_nchars : trail_length\n",
    "\t\t\tvowel = text[vowel_idx]\n",
    "\t\t\tlead_text = text[(vowel_idx-lead_nchars_lwlimit):(vowel_idx-1)]\n",
    "\t\t\ttrail_text = text[(vowel_idx+1):(vowel_idx+trail_nchars_uplimit)]\n",
    "\t\t\t\n",
    "\t\t\t# if given word is a first word \n",
    "\t\t\tif first_word && r.syllable.nvowels > (length(vowel_idcs) - is_silent) && (k+1) > (length(vowel_idcs) - is_silent)\n",
    "\t\t\t\tif text[1] == '{'\n",
    "\t\t\t\t\tif r.syllable.trail_nchars > 0\n",
    "\t\t\t\t\t\tfirst_word_trail = text[2:(1+r.syllable.trail_nchars)]\n",
    "\t\t\t\t\telse\n",
    "\t\t\t\t\t\tfirst_word_trail = \"\"\n",
    "\t\t\t\t\tend\n",
    "\t\t\t\t\tfirst_word_text = \"{\" * first_word_trail * \"?\" \n",
    "\t\t\t\t\tfirst_word_harakaat = filter(x -> x.char == \"a\", BW_VOWELS)[1]\n",
    "\t\t\t\t\tpush!(harakaat, isarabic ? arabic(first_word_harakaat) : first_word_harakaat)\n",
    "\t\t\t\telse \n",
    "\t\t\t\t\tfirst_word_text = \"\"\n",
    "\t\t\t\tend\n",
    "\t\t\telse\n",
    "\t\t\t\tfirst_word_text = \"\"\n",
    "\t\t\tend\n",
    "\t\t\t# add alif-maddah for first word as it is not silent\n",
    "\t\t\tif (text[vowel_idx-lead_nchars_lwlimit] == '~')\n",
    "\t\t\t\tlead_candidate1 = text[vowel_idx-lead_nchars_lwlimit-1]\n",
    "\t\t\t\tlead_text = lead_candidate1 * lead_text\n",
    "\t\t\tend\n",
    "\n",
    "\t\t\tif r.syllable.trail_nchars <= 1\n",
    "\t\t\t\tif (vowel_idx+trail_nchars_uplimit+1 <= length(text))\n",
    "\t\t\t\t\ttrail_candidate1 = text[vowel_idx+trail_nchars_uplimit+1] # v + [tr1] (if trail = 0) \n",
    "\t\t\t\t\tlvowel_cond = trail_candidate1 .∈ BW_LONG_VOWELS\n",
    "\t\t\t\t\t# next trail character is a maddah, e.g.  \"ٱلضَّآلِّينَ\" -> \"{lD~aA^l~iyna\"\n",
    "\t\t\t\t\tif (trail_candidate1 == '^')\n",
    "\t\t\t\t\t\ttrail_text *= trail_candidate1\n",
    "\t\t\t\t\tend\n",
    "\t\t\t\t\tif (r.syllable.trail_nchars == 0) && (vowel_idx+trail_nchars_uplimit+2 <= length(text))\n",
    "\t\t\t\t\t\ttrail_candidate2 = text[vowel_idx+trail_nchars_uplimit+2]\n",
    "\t\t\t\t\t\t# trail candidate is a long vowel\n",
    "\t\t\t\t\t\tif sum(lvowel_cond) > 0 && trail_candidate2 != 'o'\n",
    "\t\t\t\t\t\t\tif silent_last_vowel && k == (uplimit-is_silent-penalty) # k suggest that this applies to last syllable of last word only\n",
    "\t\t\t\t\t\t\t\ttrail_text *= trail_candidate1 * trail_candidate2\n",
    "\t\t\t\t\t\t\telse\n",
    "\t\t\t\t\t\t\t\ttrail_text *= trail_candidate1\n",
    "\t\t\t\t\t\t\tend\n",
    "\t\t\t\t\t\t# trail candidate is a long vowel but with sukuun, so it is a consonant with no vowel\n",
    "\t\t\t\t\t\telseif sum(lvowel_cond) > 0 && trail_candidate2 == 'o'\n",
    "\t\t\t\t\t\t\ttrail_text *= trail_candidate1\n",
    "\t\t\t\t\t\t# trail candidate is a consonant with sukuun\n",
    "\t\t\t\t\t\telseif sum(lvowel_cond) == 0 && sum(string(trail_candidate1) .∈ BW_VOWELS) == 0 && trail_candidate2 == 'o' && r.syllable.trail_nchars > 0\n",
    "\t\t\t\t\t\t\ttrail_text *= trail_candidate1\n",
    "\t\t\t\t\t\t# trail candidate is a consonant but is silent\n",
    "\t\t\t\t\t\telseif sum(lvowel_cond) == 0 && sum(string(trail_candidate1) .∈ BW_VOWELS) == 0 && trail_candidate2 != 'o' && r.syllable.trail_nchars > 0 && silent_last_vowel && k == (uplimit-is_silent-penalty)\n",
    "\t\t\t\t\t\t\ttrail_text *= trail_candidate1\n",
    "\t\t\t\t\t\t# trail candidate is a consonant not silent \n",
    "\t\t\t\t\t\telseif sum(lvowel_cond) == 0 && sum(string(trail_candidate1) .∈ BW_VOWELS) != 0 && trail_candidate2 != 'o' && r.syllable.trail_nchars > 0 && !silent_last_vowel\n",
    "\t\t\t\t\t\t\ttrail_text *= trail_candidate1\n",
    "\t\t\t\t\t\t# think of other possibilities for else\n",
    "\t\t\t\t\t\tend\t\t\n",
    "\t\t\t\t\tend\n",
    "\t\t\t\tend\n",
    "\t\t\tend\n",
    "\t\t\tif i == 0\n",
    "\t\t\t\tsegment_text = first_word_text * lead_text * vowel * trail_text\n",
    "\t\t\telse\n",
    "\t\t\t\tsegment_text = first_word_text * lead_text * vowel * trail_text * \"?\" * segment_text\n",
    "\t\t\tend\n",
    "\t\telse\n",
    "\t\t\tcontinue\n",
    "\t\tend\n",
    "\t\tk += 1\n",
    "\tend\n",
    "    if isarabic\n",
    "        return Segment(arabic(segment_text), reverse(harakaat))\n",
    "\telse\n",
    "        return Segment(segment_text, reverse(harakaat))\n",
    "    end\n",
    "end"
   ]
  },
  {
   "cell_type": "code",
   "execution_count": 9,
   "id": "95ccd37a-b1e0-42b6-a194-86f593609e21",
   "metadata": {},
   "outputs": [
    {
     "data": {
      "text/plain": [
       "syllabic_consistency"
      ]
     },
     "execution_count": 9,
     "metadata": {},
     "output_type": "execute_result"
    }
   ],
   "source": [
    "\"\"\"\n",
    "\tsyllabic_consistency(segments::Vector{Segment}, syllable_timings::Dict{String,Int64})\n",
    "\n",
    "Compute syllabic_consistency from a given `segments` and `syllable_timings`. THIS WILL ONLY WORK IF THE VOWEL HAS ONLY 1 TRAIL\n",
    "```julia-repl\n",
    "julia> using Yunir\n",
    "julia> using QuranTree\n",
    "julia> crps, tnzl = load(QuranData());\n",
    "julia> crpstbl = table(crps)\n",
    "julia> tnzltbl = table(tnzl)\n",
    "julia> bw_texts = verses(tnzltbl[2])\n",
    "julia> texts = string.(split(bw_texts[1]))\n",
    "julia> r = Syllabification(true, Syllable(1, 0, 5))\n",
    "julia> segments = Segment[]\n",
    "julia> j = 1\n",
    "julia> for i in texts\n",
    "\t\t\tif j == 1\n",
    "\t\t\t\tpush!(segments, r(encode(i), isarabic=false, first_word=true, silent_last_vowel=false))\n",
    "\t\t\telseif j == length(texts)\n",
    "\t\t\t\tpush!(segments, r(encode(i), isarabic=false, first_word=false, silent_last_vowel=true))\n",
    "\t\t\telse\n",
    "\t\t\t\tpush!(segments, r(encode(i), isarabic=false, first_word=false, silent_last_vowel=false))\n",
    "\t\t\tend\n",
    "\t\t\tj += 1\n",
    "\t\tend\n",
    "julia> tajweed_timings = Dict{String,Int64}(\n",
    "\t\t\t\"i\"  => 1,\n",
    "\t\t\t\"a\"  => 1,\n",
    "\t\t\t\"u\"  => 1,\n",
    "\t\t\t\"F\"  => 1,\n",
    "\t\t\t\"N\"  => 1,\n",
    "\t\t\t\"K\"  => 1,\n",
    "\t\t\t\"iy\" => 2,\n",
    "\t\t\t\"aA\" => 2,\n",
    "\t\t\t\"uw\" => 2,\n",
    "\t\t\t\"^\"  => 4\n",
    "\t\t)\n",
    "julia> syllabic_consistency(segments, tajweed_timings)\n",
    "\"\"\"\n",
    "function syllabic_consistency(segments::Vector{Segment}, syllable_timings::Dict{String,Int64})\n",
    "    segment_scores = Int64[]\n",
    "    for segment in segments\n",
    "        syllables = split(segment.segment, \"?\")\n",
    "        syllable_scores = Int64[]\n",
    "        for syllable in syllables\n",
    "            if occursin('{', syllable)\n",
    "                push!(syllable_scores, syllable_timings[\"a\"])\n",
    "            else\n",
    "                vowel_idcs = vowel_indices(string(syllable))\n",
    "                vowel = syllable[vowel_idcs]\n",
    "                if length(vowel_idcs) < 1\n",
    "                    if occursin('^', syllable)\n",
    "                        syllable_score = syllable_timings[\"^\"]\n",
    "                    else\n",
    "                        syllable_score = minimum(values(syllable_timings)) # ?\n",
    "                    end\n",
    "                else\n",
    "                    if vowel_idcs[end] < length(syllable)\n",
    "                        next_letter = syllable[vowel_idcs .+ 1]\n",
    "                        cond = (vowel == \"a\" && next_letter == \"A\") || \n",
    "                               (vowel == \"i\" && next_letter == \"y\") ||\n",
    "                               (vowel == \"u\" && next_letter == \"w\")\n",
    "                        if cond\n",
    "                            if occursin('^', syllable)\n",
    "                                syllable_score = syllable_timings[\"^\"]\n",
    "                            else\n",
    "                                syllable_score = syllable_timings[vowel * next_letter]\n",
    "                            end\n",
    "                        else\n",
    "                            syllable_score = syllable_timings[vowel]\n",
    "                        end\n",
    "                    else\n",
    "                        syllable_score = syllable_timings[vowel]\n",
    "                    end\n",
    "                end\n",
    "                push!(syllable_scores, syllable_score)\n",
    "            end\n",
    "        end\n",
    "        push!(segment_scores, syllable_scores...)\n",
    "    end\n",
    "    return segment_scores\n",
    "end"
   ]
  },
  {
   "cell_type": "markdown",
   "id": "91247b2c-e277-498b-b7de-2f149e4e765d",
   "metadata": {},
   "source": [
    "### Load Data"
   ]
  },
  {
   "cell_type": "code",
   "execution_count": 12,
   "id": "e1f95098-4ead-4f01-9537-b915a9ea5c3b",
   "metadata": {},
   "outputs": [
    {
     "data": {
      "text/plain": [
       "Tanzil Quran Text (Uthmani)\n",
       "(C) 2008-2010 Tanzil.net\n",
       "\n",
       "\u001b[1m6236×3 DataFrame\u001b[0m\n",
       "\u001b[1m  Row \u001b[0m│\u001b[1m chapter \u001b[0m\u001b[1m verse \u001b[0m\u001b[1m form                              \u001b[0m\n",
       "      │\u001b[90m Int64   \u001b[0m\u001b[90m Int64 \u001b[0m\u001b[90m String                            \u001b[0m\n",
       "──────┼───────────────────────────────────────────────────\n",
       "    1 │       1      1  بِسْمِ ٱللَّهِ ٱلرَّحْمَٰنِ ٱلرَّحِيمِ\n",
       "    2 │       1      2  ٱلْحَمْدُ لِلَّهِ رَبِّ ٱلْعَٰلَمِينَ\n",
       "    3 │       1      3  ٱلرَّحْمَٰنِ ٱلرَّحِيمِ\n",
       "    4 │       1      4  مَٰلِكِ يَوْمِ ٱلدِّينِ\n",
       "    5 │       1      5  إِيَّاكَ نَعْبُدُ وَإِيَّاكَ نَسْتَعِينُ\n",
       "    6 │       1      6  ٱهْدِنَا ٱلصِّرَٰطَ ٱلْمُسْتَقِيمَ\n",
       "    7 │       1      7  صِرَٰطَ ٱلَّذِينَ أَنْعَمْتَ عَلَيْهِمْ غَيْرِ ٱلْمَغْضُو…\n",
       "    8 │       2      1  بِسْمِ ٱللَّهِ ٱلرَّحْمَٰنِ ٱلرَّحِيمِ الٓمٓ\n",
       "    9 │       2      2  ذَٰلِكَ ٱلْكِتَٰبُ لَا رَيْبَ فِيهِ هُدًى لِّلْمُتَّقِينَ\n",
       "   10 │       2      3  ٱلَّذِينَ يُؤْمِنُونَ بِٱلْغَيْبِ وَيُقِيمُونَ ٱلصَّل…\n",
       "   11 │       2      4  وَٱلَّذِينَ يُؤْمِنُونَ بِمَآ أُنزِلَ إِلَيْكَ وَمَآ …\n",
       "  ⋮   │    ⋮       ⋮                    ⋮\n",
       " 6227 │     113      2  مِن شَرِّ مَا خَلَقَ\n",
       " 6228 │     113      3  وَمِن شَرِّ غَاسِقٍ إِذَا وَقَبَ\n",
       " 6229 │     113      4  وَمِن شَرِّ ٱلنَّفَّٰثَٰتِ فِى ٱلْعُقَدِ\n",
       " 6230 │     113      5  وَمِن شَرِّ حَاسِدٍ إِذَا حَسَدَ\n",
       " 6231 │     114      1  بِسْمِ ٱللَّهِ ٱلرَّحْمَٰنِ ٱلرَّحِيمِ قُلْ أَعُوذُ ب…\n",
       " 6232 │     114      2  مَلِكِ ٱلنَّاسِ\n",
       " 6233 │     114      3  إِلَٰهِ ٱلنَّاسِ\n",
       " 6234 │     114      4  مِن شَرِّ ٱلْوَسْوَاسِ ٱلْخَنَّاسِ\n",
       " 6235 │     114      5  ٱلَّذِى يُوَسْوِسُ فِى صُدُورِ ٱلنَّاسِ\n",
       " 6236 │     114      6  مِنَ ٱلْجِنَّةِ وَٱلنَّاسِ\n",
       "\u001b[36m                                         6215 rows omitted\u001b[0m\n"
      ]
     },
     "execution_count": 12,
     "metadata": {},
     "output_type": "execute_result"
    }
   ],
   "source": [
    "_, tnzl = load(QuranData());\n",
    "tnzltbl = table(tnzl)"
   ]
  },
  {
   "cell_type": "code",
   "execution_count": 13,
   "id": "a8cba370-ef8b-4b4b-8a92-7b67777be788",
   "metadata": {},
   "outputs": [
    {
     "data": {
      "text/plain": [
       "6236-element Vector{String}:\n",
       " \"بِسْمِ ٱللَّهِ ٱلرَّحْمَٰنِ ٱلرَّحِيمِ\"\n",
       " \"ٱلْحَمْدُ لِلَّهِ رَبِّ ٱلْعَٰلَمِينَ\"\n",
       " \"ٱلرَّحْمَٰنِ ٱلرَّحِيمِ\"\n",
       " \"مَٰلِكِ يَوْمِ ٱلدِّينِ\"\n",
       " \"إِيَّاكَ نَعْبُدُ وَإِيَّاكَ نَسْتَعِينُ\"\n",
       " \"ٱهْدِنَا ٱلصِّرَٰطَ ٱلْمُسْتَقِيمَ\"\n",
       " \"صِرَٰطَ ٱلَّذِينَ أَنْعَمْتَ عَ\"\u001b[93m\u001b[1m ⋯ 55 bytes ⋯ \u001b[22m\u001b[39m\"عَلَيْهِمْ وَلَا ٱلضَّآلِّينَ\"\n",
       " \"بِسْمِ ٱللَّهِ ٱلرَّحْمَٰنِ ٱلرَّحِيمِ الٓمٓ\"\n",
       " \"ذَٰلِكَ ٱلْكِتَٰبُ لَا رَيْبَ فِيهِ هُدًى لِّلْمُتَّقِينَ\"\n",
       " \"ٱلَّذِينَ يُؤْمِنُونَ بِٱلْغَيْ\"\u001b[93m\u001b[1m ⋯ 59 bytes ⋯ \u001b[22m\u001b[39m\"ِمَّا رَزَقْنَٰهُمْ يُنفِقُونَ\"\n",
       " \"وَٱلَّذِينَ يُؤْمِنُونَ بِمَآ \"\u001b[93m\u001b[1m ⋯ 88 bytes ⋯ \u001b[22m\u001b[39m\"بِٱلْءَاخِرَةِ هُمْ يُوقِنُونَ\"\n",
       " \"أُو۟لَٰٓئِكَ عَلَىٰ هُدًى مِّن رَّبِّهِمْ وَأُو۟لَٰٓئِكَ هُمُ ٱلْمُفْلِحُونَ\"\n",
       " \"إِنَّ ٱلَّذِينَ كَفَرُوا۟ سَوَا\"\u001b[93m\u001b[1m ⋯ 72 bytes ⋯ \u001b[22m\u001b[39m\"مْ تُنذِرْهُمْ لَا يُؤْمِنُونَ\"\n",
       " ⋮\n",
       " \"وَلَمْ يَكُن لَّهُۥ كُفُوًا أَحَدٌۢ\"\n",
       " \"بِسْمِ ٱللَّهِ ٱلرَّحْمَٰنِ ٱلرَّحِيمِ قُلْ أَعُوذُ بِرَبِّ ٱلْفَلَقِ\"\n",
       " \"مِن شَرِّ مَا خَلَقَ\"\n",
       " \"وَمِن شَرِّ غَاسِقٍ إِذَا وَقَبَ\"\n",
       " \"وَمِن شَرِّ ٱلنَّفَّٰثَٰتِ فِى ٱلْعُقَدِ\"\n",
       " \"وَمِن شَرِّ حَاسِدٍ إِذَا حَسَدَ\"\n",
       " \"بِسْمِ ٱللَّهِ ٱلرَّحْمَٰنِ ٱلرَّحِيمِ قُلْ أَعُوذُ بِرَبِّ ٱلنَّاسِ\"\n",
       " \"مَلِكِ ٱلنَّاسِ\"\n",
       " \"إِلَٰهِ ٱلنَّاسِ\"\n",
       " \"مِن شَرِّ ٱلْوَسْوَاسِ ٱلْخَنَّاسِ\"\n",
       " \"ٱلَّذِى يُوَسْوِسُ فِى صُدُورِ ٱلنَّاسِ\"\n",
       " \"مِنَ ٱلْجِنَّةِ وَٱلنَّاسِ\""
      ]
     },
     "execution_count": 13,
     "metadata": {},
     "output_type": "execute_result"
    }
   ],
   "source": [
    "bw_texts = verses(tnzltbl)"
   ]
  },
  {
   "cell_type": "code",
   "execution_count": 16,
   "id": "10cf985a-1fa6-4c61-ad76-70061082c687",
   "metadata": {},
   "outputs": [
    {
     "data": {
      "text/plain": [
       "6236-element Vector{Vector{String}}:\n",
       " [\"بِسْمِ\", \"ٱللَّهِ\", \"ٱلرَّحْمَٰنِ\", \"ٱلرَّحِيمِ\"]\n",
       " [\"ٱلْحَمْدُ\", \"لِلَّهِ\", \"رَبِّ\", \"ٱلْعَٰلَمِينَ\"]\n",
       " [\"ٱلرَّحْمَٰنِ\", \"ٱلرَّحِيمِ\"]\n",
       " [\"مَٰلِكِ\", \"يَوْمِ\", \"ٱلدِّينِ\"]\n",
       " [\"إِيَّاكَ\", \"نَعْبُدُ\", \"وَإِيَّاكَ\", \"نَسْتَعِينُ\"]\n",
       " [\"ٱهْدِنَا\", \"ٱلصِّرَٰطَ\", \"ٱلْمُسْتَقِيمَ\"]\n",
       " [\"صِرَٰطَ\", \"ٱلَّذِينَ\", \"أَنْعَمْتَ\", \"عَلَيْهِمْ\", \"غَيْرِ\", \"ٱلْمَغْضُوبِ\", \"عَلَيْهِمْ\", \"وَلَا\", \"ٱلضَّآلِّينَ\"]\n",
       " [\"بِسْمِ\", \"ٱللَّهِ\", \"ٱلرَّحْمَٰنِ\", \"ٱلرَّحِيمِ\", \"الٓمٓ\"]\n",
       " [\"ذَٰلِكَ\", \"ٱلْكِتَٰبُ\", \"لَا\", \"رَيْبَ\", \"فِيهِ\", \"هُدًى\", \"لِّلْمُتَّقِينَ\"]\n",
       " [\"ٱلَّذِينَ\", \"يُؤْمِنُونَ\", \"بِٱلْغَيْبِ\", \"وَيُقِيمُونَ\", \"ٱلصَّلَوٰةَ\", \"وَمِمَّا\", \"رَزَقْنَٰهُمْ\", \"يُنفِقُونَ\"]\n",
       " [\"وَٱلَّذِينَ\", \"يُؤْمِنُونَ\", \"بِمَآ\", \"أُنزِلَ\", \"إِلَيْكَ\", \"وَمَآ\", \"أُنزِلَ\", \"مِن\", \"قَبْلِكَ\", \"وَبِٱلْءَاخِرَةِ\", \"هُمْ\", \"يُوقِنُونَ\"]\n",
       " [\"أُو۟لَٰٓئِكَ\", \"عَلَىٰ\", \"هُدًى\", \"مِّن\", \"رَّبِّهِمْ\", \"وَأُو۟لَٰٓئِكَ\", \"هُمُ\", \"ٱلْمُفْلِحُونَ\"]\n",
       " [\"إِنَّ\", \"ٱلَّذِينَ\", \"كَفَرُوا۟\", \"سَوَآءٌ\", \"عَلَيْهِمْ\", \"ءَأَنذَرْتَهُمْ\", \"أَمْ\", \"لَمْ\", \"تُنذِرْهُمْ\", \"لَا\", \"يُؤْمِنُونَ\"]\n",
       " ⋮\n",
       " [\"وَلَمْ\", \"يَكُن\", \"لَّهُۥ\", \"كُفُوًا\", \"أَحَدٌۢ\"]\n",
       " [\"بِسْمِ\", \"ٱللَّهِ\", \"ٱلرَّحْمَٰنِ\", \"ٱلرَّحِيمِ\", \"قُلْ\", \"أَعُوذُ\", \"بِرَبِّ\", \"ٱلْفَلَقِ\"]\n",
       " [\"مِن\", \"شَرِّ\", \"مَا\", \"خَلَقَ\"]\n",
       " [\"وَمِن\", \"شَرِّ\", \"غَاسِقٍ\", \"إِذَا\", \"وَقَبَ\"]\n",
       " [\"وَمِن\", \"شَرِّ\", \"ٱلنَّفَّٰثَٰتِ\", \"فِى\", \"ٱلْعُقَدِ\"]\n",
       " [\"وَمِن\", \"شَرِّ\", \"حَاسِدٍ\", \"إِذَا\", \"حَسَدَ\"]\n",
       " [\"بِسْمِ\", \"ٱللَّهِ\", \"ٱلرَّحْمَٰنِ\", \"ٱلرَّحِيمِ\", \"قُلْ\", \"أَعُوذُ\", \"بِرَبِّ\", \"ٱلنَّاسِ\"]\n",
       " [\"مَلِكِ\", \"ٱلنَّاسِ\"]\n",
       " [\"إِلَٰهِ\", \"ٱلنَّاسِ\"]\n",
       " [\"مِن\", \"شَرِّ\", \"ٱلْوَسْوَاسِ\", \"ٱلْخَنَّاسِ\"]\n",
       " [\"ٱلَّذِى\", \"يُوَسْوِسُ\", \"فِى\", \"صُدُورِ\", \"ٱلنَّاسِ\"]\n",
       " [\"مِنَ\", \"ٱلْجِنَّةِ\", \"وَٱلنَّاسِ\"]"
      ]
     },
     "execution_count": 16,
     "metadata": {},
     "output_type": "execute_result"
    }
   ],
   "source": [
    "texts = map(x -> string.(x), split.(bw_texts))"
   ]
  },
  {
   "cell_type": "code",
   "execution_count": 17,
   "id": "6a146d59-3bb6-48fd-9df5-d6005c3d218c",
   "metadata": {},
   "outputs": [
    {
     "data": {
      "text/plain": [
       "Syllabification(true, Syllable{Int64}(1, 1, 10))"
      ]
     },
     "execution_count": 17,
     "metadata": {},
     "output_type": "execute_result"
    }
   ],
   "source": [
    "r = Syllabification(true, Syllable(1, 1, 10))"
   ]
  },
  {
   "cell_type": "code",
   "execution_count": 18,
   "id": "579d04ae-fefb-4276-8970-e4fe37693e9d",
   "metadata": {},
   "outputs": [
    {
     "data": {
      "text/plain": [
       "Dict{String, Int64} with 10 entries:\n",
       "  \"iy\" => 2\n",
       "  \"aA\" => 2\n",
       "  \"uw\" => 2\n",
       "  \"N\"  => 1\n",
       "  \"^\"  => 6\n",
       "  \"u\"  => 1\n",
       "  \"K\"  => 1\n",
       "  \"a\"  => 1\n",
       "  \"F\"  => 1\n",
       "  \"i\"  => 1"
      ]
     },
     "execution_count": 18,
     "metadata": {},
     "output_type": "execute_result"
    }
   ],
   "source": [
    "tajweed_timings = Dict{String,Int64}(\n",
    "    \"i\" => 1, # kasra\n",
    "    \"a\" => 1, # fatha\n",
    "    \"u\" => 1, # damma\n",
    "    \"F\" => 1, # fatha tanween\n",
    "    \"N\" => 1, # damma tanween\n",
    "    \"K\" => 1, # kasra tanween\n",
    "    \"iy\" => 2, # kasra + yaa\n",
    "    \"aA\" => 2, # fatha + alif\n",
    "    \"uw\" => 2, # damma + waw\n",
    "    \"^\" => 6 # maddah\n",
    ")"
   ]
  },
  {
   "cell_type": "code",
   "execution_count": 20,
   "id": "16204f7b-b44a-409a-9291-5f35f73ac4b1",
   "metadata": {},
   "outputs": [],
   "source": [
    "all_segments = []\n",
    "k = 1\n",
    "for text in texts\n",
    "    segments = Segment[]\n",
    "    j = 1\n",
    "    for i in text\n",
    "        if j == 1\n",
    "            push!(segments, r(encode(i), isarabic=false, first_word=true, silent_last_vowel=false))\n",
    "        elseif j == length(text)\n",
    "            push!(segments, r(encode(i), isarabic=false, first_word=false, silent_last_vowel=true))\n",
    "        else\n",
    "            push!(segments, r(encode(i), isarabic=false, first_word=false, silent_last_vowel=false))\n",
    "        end\n",
    "        j += 1\n",
    "    end\n",
    "    k += 1\n",
    "    push!(all_segments, segments)\n",
    "end"
   ]
  },
  {
   "cell_type": "code",
   "execution_count": 21,
   "id": "9da61f77-2e52-4a1a-ac2b-71ec55da3d8a",
   "metadata": {},
   "outputs": [
    {
     "data": {
      "text/plain": [
       "6236-element Vector{Vector{Int64}}:\n",
       " [1, 1, 1, 1, 1, 1, 1, 1, 2]\n",
       " [1, 1, 1, 1, 1, 1, 1, 1, 1, 1, 2]\n",
       " [1, 1, 1, 1, 1, 2]\n",
       " [1, 1, 1, 1, 1, 2]\n",
       " [2, 2, 1, 1, 1, 1, 1, 2, 2, 1, 1, 1, 2]\n",
       " [1, 1, 2, 1, 1, 1, 1, 1, 2]\n",
       " [1, 1, 1, 1, 2, 1, 1, 1, 1, 1  …  1, 2, 1, 1, 1, 1, 1, 2, 6, 2]\n",
       " [1, 1, 1, 1, 1, 1, 1, 1, 2, 1, 1, 6, 6]\n",
       " [1, 1, 1, 1, 1, 1, 2, 1, 1, 2, 1, 1, 1, 1, 1, 1, 2]\n",
       " [1, 1, 2, 1, 1, 1, 2, 1, 1, 1  …  1, 1, 2, 1, 1, 1, 1, 1, 1, 2]\n",
       " [1, 1, 2, 1, 1, 1, 2, 1, 1, 6  …  1, 1, 2, 1, 1, 1, 1, 2, 1, 2]\n",
       " [2, 1, 1, 1, 1, 1, 1, 1, 1, 1  …  1, 2, 1, 1, 1, 1, 1, 1, 1, 2]\n",
       " [1, 1, 1, 2, 1, 1, 1, 2, 1, 6  …  1, 1, 1, 1, 1, 1, 2, 1, 1, 2]\n",
       " ⋮\n",
       " [1, 1, 1, 1, 1, 1, 1, 2, 1, 1, 1, 1]\n",
       " [1, 1, 1, 1, 1, 1, 1, 1, 2, 1, 1, 1, 2, 1, 1, 1, 1, 1, 1]\n",
       " [1, 1, 1, 2, 1, 1]\n",
       " [1, 1, 1, 1, 2, 1, 1, 1, 2, 1, 1]\n",
       " [1, 1, 1, 1, 1, 1, 1, 1, 1, 1, 1]\n",
       " [1, 1, 1, 1, 2, 1, 1, 1, 2, 1, 1]\n",
       " [1, 1, 1, 1, 1, 1, 1, 1, 2, 1, 1, 1, 2, 1, 1, 1, 1, 2]\n",
       " [1, 1, 1, 2]\n",
       " [1, 1, 1, 2]\n",
       " [1, 1, 1, 1, 2, 1, 1, 2]\n",
       " [1, 1, 1, 2, 1, 1, 1, 1, 1, 2, 1, 2]\n",
       " [1, 1, 1, 1, 1, 1, 2]"
      ]
     },
     "execution_count": 21,
     "metadata": {},
     "output_type": "execute_result"
    }
   ],
   "source": [
    "out = map(segments -> syllabic_consistency(segments, tajweed_timings), all_segments)"
   ]
  },
  {
   "cell_type": "code",
   "execution_count": 176,
   "id": "91683b6a-3ac5-4f45-9fda-c381baf07800",
   "metadata": {},
   "outputs": [
    {
     "data": {
      "text/plain": [
       "289"
      ]
     },
     "execution_count": 176,
     "metadata": {},
     "output_type": "execute_result"
    }
   ],
   "source": [
    "findfirst(length.(out) .== maximum(length.(out)))"
   ]
  },
  {
   "cell_type": "code",
   "execution_count": 181,
   "id": "6c652749-4039-42ee-b9ca-101c682b0606",
   "metadata": {},
   "outputs": [
    {
     "data": {
      "text/plain": [
       "293"
      ]
     },
     "execution_count": 181,
     "metadata": {},
     "output_type": "execute_result"
    }
   ],
   "source": [
    "286+7"
   ]
  },
  {
   "cell_type": "code",
   "execution_count": 182,
   "id": "d6551232-ac7e-4ddf-9660-f07692dde5a9",
   "metadata": {},
   "outputs": [
    {
     "data": {
      "text/plain": [
       "4"
      ]
     },
     "execution_count": 182,
     "metadata": {},
     "output_type": "execute_result"
    }
   ],
   "source": [
    "293-289"
   ]
  },
  {
   "cell_type": "code",
   "execution_count": 183,
   "id": "7635a5e2-767b-4c98-831c-904707d2512f",
   "metadata": {},
   "outputs": [
    {
     "data": {
      "text/plain": [
       "282"
      ]
     },
     "execution_count": 183,
     "metadata": {},
     "output_type": "execute_result"
    }
   ],
   "source": [
    "286-4"
   ]
  },
  {
   "cell_type": "code",
   "execution_count": 186,
   "id": "72662202-69c1-4a4d-8c56-265b5ae940ef",
   "metadata": {},
   "outputs": [
    {
     "name": "stdout",
     "output_type": "stream",
     "text": [
      "يَٰٓأَيُّهَا ٱلَّذِينَ ءَامَنُوٓا۟ إِذَا تَدَايَنتُم بِدَيْنٍ إِلَىٰٓ أَجَلٍ مُّسَمًّى فَٱكْتُبُوهُ وَلْيَكْتُب بَّيْنَكُمْ كَاتِبٌۢ بِٱلْعَدْلِ وَلَا يَأْبَ كَاتِبٌ أَن يَكْتُبَ كَمَا عَلَّمَهُ ٱللَّهُ فَلْيَكْتُبْ وَلْيُمْلِلِ ٱلَّذِى عَلَيْهِ ٱلْحَقُّ وَلْيَتَّقِ ٱللَّهَ رَبَّهُۥ وَلَا يَبْخَسْ مِنْهُ شَيْـًٔا فَإِن كَانَ ٱلَّذِى عَلَيْهِ ٱلْحَقُّ سَفِيهًا أَوْ ضَعِيفًا أَوْ لَا يَسْتَطِيعُ أَن يُمِلَّ هُوَ فَلْيُمْلِلْ وَلِيُّهُۥ بِٱلْعَدْلِ وَٱسْتَشْهِدُوا۟ شَهِيدَيْنِ مِن رِّجَالِكُمْ فَإِن لَّمْ يَكُونَا رَجُلَيْنِ فَرَجُلٌ وَٱمْرَأَتَانِ مِمَّن تَرْضَوْنَ مِنَ ٱلشُّهَدَآءِ أَن تَضِلَّ إِحْدَىٰهُمَا فَتُذَكِّرَ إِحْدَىٰهُمَا ٱلْأُخْرَىٰ وَلَا يَأْبَ ٱلشُّهَدَآءُ إِذَا مَا دُعُوا۟ وَلَا تَسْـَٔمُوٓا۟ أَن تَكْتُبُوهُ صَغِيرًا أَوْ كَبِيرًا إِلَىٰٓ أَجَلِهِۦ ذَٰلِكُمْ أَقْسَطُ عِندَ ٱللَّهِ وَأَقْوَمُ لِلشَّهَٰدَةِ وَأَدْنَىٰٓ أَلَّا تَرْتَابُوٓا۟ إِلَّآ أَن تَكُونَ تِجَٰرَةً حَاضِرَةً تُدِيرُونَهَا بَيْنَكُمْ فَلَيْسَ عَلَيْكُمْ جُنَاحٌ أَلَّا تَكْتُبُوهَا وَأَشْهِدُوٓا۟ إِذَا تَبَايَعْتُمْ وَلَا يُضَآرَّ كَاتِبٌ وَلَا شَهِيدٌ وَإِن تَفْعَلُوا۟ فَإِنَّهُۥ فُسُوقٌۢ بِكُمْ وَٱتَّقُوا۟ ٱللَّهَ وَيُعَلِّمُكُمُ ٱللَّهُ وَٱللَّهُ بِكُلِّ شَىْءٍ عَلِيمٌ"
     ]
    },
    {
     "data": {
      "text/plain": [
       "1-element Vector{Nothing}:\n",
       " nothing"
      ]
     },
     "execution_count": 186,
     "metadata": {},
     "output_type": "execute_result"
    }
   ],
   "source": [
    "print.(verses(tnzltbl[2][282]))"
   ]
  },
  {
   "cell_type": "code",
   "execution_count": 99,
   "id": "f6252c62-1114-44ad-aa90-08b973310245",
   "metadata": {},
   "outputs": [
    {
     "data": {
      "text/plain": [
       "2-element Vector{Vector{Int64}}:\n",
       " [6, 6, 6]\n",
       " [2, 6, 1]"
      ]
     },
     "execution_count": 99,
     "metadata": {},
     "output_type": "execute_result"
    }
   ],
   "source": [
    "out[map(x -> length(x) == 3, out)]"
   ]
  },
  {
   "cell_type": "code",
   "execution_count": 170,
   "id": "62a59a3f-388f-442b-88ed-b644c169600f",
   "metadata": {},
   "outputs": [
    {
     "data": {
      "text/plain": [
       "Any[]"
      ]
     },
     "execution_count": 170,
     "metadata": {},
     "output_type": "execute_result"
    }
   ],
   "source": [
    "len = 200\n",
    "data_matrix = hcat(out[map(x -> length(x) == len, out)]...)"
   ]
  },
  {
   "cell_type": "code",
   "execution_count": 169,
   "id": "4c114485-0027-41a7-a670-b9c88889cdce",
   "metadata": {},
   "outputs": [
    {
     "data": {
      "image/png": "[encoded data removed]",
      "text/html": [
       "<img width=600 height=450 style='object-fit: contain; height: auto;' src=\"data:image/png;base64, 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\"/>"
      ]
     },
     "execution_count": 169,
     "metadata": {},
     "output_type": "execute_result"
    }
   ],
   "source": [
    "fig = Figure()\n",
    "\n",
    "# Create an axis within the figure\n",
    "ax = Axis(fig[1, 1], \n",
    "    xlabel = \"X Axis\", \n",
    "    ylabel = \"Y Axis\", \n",
    "    title = \"Heatmap Example\",\n",
    "    xminorticksvisible = true,\n",
    "    yminorticksvisible = true,\n",
    "    # xticks = (1:len, string.(1:len)),\n",
    "    aspect = AxisAspect(1.),\n",
    "    # yticks = (1:size(data_matrix)[2], string.(1:size(data_matrix)[2]))\n",
    ")\n",
    "centers_x = 1:len\n",
    "centers_y = 1:size(data_matrix)[2]\n",
    "heatmap!(ax, centers_x, centers_y, data_matrix) # Set the range based on your data\n",
    "fig"
   ]
  },
  {
   "cell_type": "code",
   "execution_count": null,
   "id": "f5b3a7e2-c25d-4263-adb1-6dae568f9e49",
   "metadata": {},
   "outputs": [],
   "source": []
  }
 ],
 "metadata": {
  "kernelspec": {
   "display_name": "Julia 1.11.4",
   "language": "julia",
   "name": "julia-1.11"
  },
  "language_info": {
   "file_extension": ".jl",
   "mimetype": "application/julia",
   "name": "julia",
   "version": "1.11.4"
  }
 },
 "nbformat": 4,
 "nbformat_minor": 5
}
