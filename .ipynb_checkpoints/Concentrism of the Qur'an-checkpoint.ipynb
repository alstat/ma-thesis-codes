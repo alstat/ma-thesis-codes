{
 "cells": [
  {
   "cell_type": "markdown",
   "id": "fac8922b-039d-47ec-806e-c1f6150a1368",
   "metadata": {},
   "source": [
    " ## بسم الله الرّحمٰن الرّحيم "
   ]
  },
  {
   "cell_type": "markdown",
   "id": "00ad8a11-81d0-4a2d-90de-2095df58b0a8",
   "metadata": {},
   "source": [
    "# Theory of Concentrism in the Qur'an using Bayesian Optimization & Large Language Model\n",
    "\n",
    "_by Al-Ahmadgaid B. Asaad_"
   ]
  },
  {
   "cell_type": "markdown",
   "id": "4afc8683-4863-4715-8da6-4101afe86eb7",
   "metadata": {
    "jp-MarkdownHeadingCollapsed": true
   },
   "source": [
    "#### Install Python Libraries\n",
    "\n",
    "There are Julia's equivalent for the following Python libraries, but for this paper the author decided to use the official one which is in Python."
   ]
  },
  {
   "cell_type": "code",
   "execution_count": 11,
   "id": "4fb5577e-8bc9-481f-85dc-bf2b76a7d88d",
   "metadata": {},
   "outputs": [
    {
     "name": "stderr",
     "output_type": "stream",
     "text": [
      "\u001b[32m\u001b[1m    Building\u001b[22m\u001b[39m Conda ─→ `~/.julia/scratchspaces/44cfe95a-1eb2-52ea-b672-e2afdf69b78f/b19db3927f0db4151cb86d073689f2428e524576/build.log`\n",
      "\u001b[32m\u001b[1m    Building\u001b[22m\u001b[39m PyCall → `~/.julia/scratchspaces/44cfe95a-1eb2-52ea-b672-e2afdf69b78f/9816a3826b0ebf49ab4926e2b18842ad8b5c8f04/build.log`\n"
     ]
    }
   ],
   "source": [
    "using Pkg\n",
    "\n",
    "ENV[\"PYTHON\"]=\"\" # necessary for Conda.pip\n",
    "Pkg.build(\"PyCall\")"
   ]
  },
  {
   "cell_type": "code",
   "execution_count": 12,
   "id": "fd2aea44-662c-464e-8df6-9e5d5ed943bb",
   "metadata": {},
   "outputs": [
    {
     "name": "stderr",
     "output_type": "stream",
     "text": [
      "\u001b[36m\u001b[1m[ \u001b[22m\u001b[39m\u001b[36m\u001b[1mInfo: \u001b[22m\u001b[39mRunning `conda config --set pip_interop_enabled true --file /Users/al-ahmadgaidasaad/.julia/conda/3/aarch64/condarc-julia.yml` in root environment\n",
      "\u001b[36m\u001b[1m[ \u001b[22m\u001b[39m\u001b[36m\u001b[1mInfo: \u001b[22m\u001b[39mRunning `pip install sentence-transformers` in root environment\n"
     ]
    },
    {
     "name": "stdout",
     "output_type": "stream",
     "text": [
      "Requirement already satisfied: sentence-transformers in /Users/al-ahmadgaidasaad/.julia/conda/3/aarch64/lib/python3.10/site-packages (3.4.1)\n",
      "Requirement already satisfied: transformers<5.0.0,>=4.41.0 in /Users/al-ahmadgaidasaad/.julia/conda/3/aarch64/lib/python3.10/site-packages (from sentence-transformers) (4.49.0)\n",
      "Requirement already satisfied: tqdm in /Users/al-ahmadgaidasaad/.julia/conda/3/aarch64/lib/python3.10/site-packages (from sentence-transformers) (4.66.1)\n",
      "Requirement already satisfied: torch>=1.11.0 in /Users/al-ahmadgaidasaad/.julia/conda/3/aarch64/lib/python3.10/site-packages (from sentence-transformers) (2.2.1)\n",
      "Requirement already satisfied: scikit-learn in /Users/al-ahmadgaidasaad/.julia/conda/3/aarch64/lib/python3.10/site-packages (from sentence-transformers) (1.6.1)\n",
      "Requirement already satisfied: scipy in /Users/al-ahmadgaidasaad/.julia/conda/3/aarch64/lib/python3.10/site-packages (from sentence-transformers) (1.15.2)\n",
      "Requirement already satisfied: huggingface-hub>=0.20.0 in /Users/al-ahmadgaidasaad/.julia/conda/3/aarch64/lib/python3.10/site-packages (from sentence-transformers) (0.29.3)\n",
      "Requirement already satisfied: Pillow in /Users/al-ahmadgaidasaad/.julia/conda/3/aarch64/lib/python3.10/site-packages (from sentence-transformers) (10.2.0)\n",
      "Requirement already satisfied: filelock in /Users/al-ahmadgaidasaad/.julia/conda/3/aarch64/lib/python3.10/site-packages (from huggingface-hub>=0.20.0->sentence-transformers) (3.13.1)\n",
      "Requirement already satisfied: fsspec>=2023.5.0 in /Users/al-ahmadgaidasaad/.julia/conda/3/aarch64/lib/python3.10/site-packages (from huggingface-hub>=0.20.0->sentence-transformers) (2024.3.1)\n",
      "Requirement already satisfied: packaging>=20.9 in /Users/al-ahmadgaidasaad/.julia/conda/3/aarch64/lib/python3.10/site-packages (from huggingface-hub>=0.20.0->sentence-transformers) (23.2)\n",
      "Requirement already satisfied: pyyaml>=5.1 in /Users/al-ahmadgaidasaad/.julia/conda/3/aarch64/lib/python3.10/site-packages (from huggingface-hub>=0.20.0->sentence-transformers) (6.0.2)\n",
      "Requirement already satisfied: requests in /Users/al-ahmadgaidasaad/.julia/conda/3/aarch64/lib/python3.10/site-packages (from huggingface-hub>=0.20.0->sentence-transformers) (2.31.0)\n",
      "Requirement already satisfied: typing-extensions>=3.7.4.3 in /Users/al-ahmadgaidasaad/.julia/conda/3/aarch64/lib/python3.10/site-packages (from huggingface-hub>=0.20.0->sentence-transformers) (4.10.0)\n",
      "Requirement already satisfied: sympy in /Users/al-ahmadgaidasaad/.julia/conda/3/aarch64/lib/python3.10/site-packages (from torch>=1.11.0->sentence-transformers) (1.12)\n",
      "Requirement already satisfied: networkx in /Users/al-ahmadgaidasaad/.julia/conda/3/aarch64/lib/python3.10/site-packages (from torch>=1.11.0->sentence-transformers) (3.2.1)\n",
      "Requirement already satisfied: jinja2 in /Users/al-ahmadgaidasaad/.julia/conda/3/aarch64/lib/python3.10/site-packages (from torch>=1.11.0->sentence-transformers) (3.1.3)\n",
      "Requirement already satisfied: numpy>=1.17 in /Users/al-ahmadgaidasaad/.julia/conda/3/aarch64/lib/python3.10/site-packages (from transformers<5.0.0,>=4.41.0->sentence-transformers) (1.26.4)\n",
      "Requirement already satisfied: regex!=2019.12.17 in /Users/al-ahmadgaidasaad/.julia/conda/3/aarch64/lib/python3.10/site-packages (from transformers<5.0.0,>=4.41.0->sentence-transformers) (2024.11.6)\n",
      "Requirement already satisfied: tokenizers<0.22,>=0.21 in /Users/al-ahmadgaidasaad/.julia/conda/3/aarch64/lib/python3.10/site-packages (from transformers<5.0.0,>=4.41.0->sentence-transformers) (0.21.1)\n",
      "Requirement already satisfied: safetensors>=0.4.1 in /Users/al-ahmadgaidasaad/.julia/conda/3/aarch64/lib/python3.10/site-packages (from transformers<5.0.0,>=4.41.0->sentence-transformers) (0.5.3)\n",
      "Requirement already satisfied: joblib>=1.2.0 in /Users/al-ahmadgaidasaad/.julia/conda/3/aarch64/lib/python3.10/site-packages (from scikit-learn->sentence-transformers) (1.4.2)\n",
      "Requirement already satisfied: threadpoolctl>=3.1.0 in /Users/al-ahmadgaidasaad/.julia/conda/3/aarch64/lib/python3.10/site-packages (from scikit-learn->sentence-transformers) (3.6.0)\n",
      "Requirement already satisfied: MarkupSafe>=2.0 in /Users/al-ahmadgaidasaad/.julia/conda/3/aarch64/lib/python3.10/site-packages (from jinja2->torch>=1.11.0->sentence-transformers) (2.1.5)\n",
      "Requirement already satisfied: charset-normalizer<4,>=2 in /Users/al-ahmadgaidasaad/.julia/conda/3/aarch64/lib/python3.10/site-packages (from requests->huggingface-hub>=0.20.0->sentence-transformers) (3.3.2)\n",
      "Requirement already satisfied: idna<4,>=2.5 in /Users/al-ahmadgaidasaad/.julia/conda/3/aarch64/lib/python3.10/site-packages (from requests->huggingface-hub>=0.20.0->sentence-transformers) (3.6)\n",
      "Requirement already satisfied: urllib3<3,>=1.21.1 in /Users/al-ahmadgaidasaad/.julia/conda/3/aarch64/lib/python3.10/site-packages (from requests->huggingface-hub>=0.20.0->sentence-transformers) (2.1.0)\n",
      "Requirement already satisfied: certifi>=2017.4.17 in /Users/al-ahmadgaidasaad/.julia/conda/3/aarch64/lib/python3.10/site-packages (from requests->huggingface-hub>=0.20.0->sentence-transformers) (2025.1.31)\n",
      "Requirement already satisfied: mpmath>=0.19 in /Users/al-ahmadgaidasaad/.julia/conda/3/aarch64/lib/python3.10/site-packages (from sympy->torch>=1.11.0->sentence-transformers) (1.3.0)\n"
     ]
    },
    {
     "name": "stderr",
     "output_type": "stream",
     "text": [
      "\u001b[36m\u001b[1m[ \u001b[22m\u001b[39m\u001b[36m\u001b[1mInfo: \u001b[22m\u001b[39mRunning `pip install umap-learn` in root environment\n"
     ]
    },
    {
     "name": "stdout",
     "output_type": "stream",
     "text": [
      "Requirement already satisfied: umap-learn in /Users/al-ahmadgaidasaad/.julia/conda/3/aarch64/lib/python3.10/site-packages (0.5.7)\n",
      "Requirement already satisfied: numpy>=1.17 in /Users/al-ahmadgaidasaad/.julia/conda/3/aarch64/lib/python3.10/site-packages (from umap-learn) (1.26.4)\n",
      "Requirement already satisfied: scipy>=1.3.1 in /Users/al-ahmadgaidasaad/.julia/conda/3/aarch64/lib/python3.10/site-packages (from umap-learn) (1.15.2)\n",
      "Requirement already satisfied: scikit-learn>=0.22 in /Users/al-ahmadgaidasaad/.julia/conda/3/aarch64/lib/python3.10/site-packages (from umap-learn) (1.6.1)\n",
      "Requirement already satisfied: numba>=0.51.2 in /Users/al-ahmadgaidasaad/.julia/conda/3/aarch64/lib/python3.10/site-packages (from umap-learn) (0.61.0)\n",
      "Requirement already satisfied: pynndescent>=0.5 in /Users/al-ahmadgaidasaad/.julia/conda/3/aarch64/lib/python3.10/site-packages (from umap-learn) (0.5.13)\n",
      "Requirement already satisfied: tqdm in /Users/al-ahmadgaidasaad/.julia/conda/3/aarch64/lib/python3.10/site-packages (from umap-learn) (4.66.1)\n",
      "Requirement already satisfied: llvmlite<0.45,>=0.44.0dev0 in /Users/al-ahmadgaidasaad/.julia/conda/3/aarch64/lib/python3.10/site-packages (from numba>=0.51.2->umap-learn) (0.44.0)\n",
      "Requirement already satisfied: joblib>=0.11 in /Users/al-ahmadgaidasaad/.julia/conda/3/aarch64/lib/python3.10/site-packages (from pynndescent>=0.5->umap-learn) (1.4.2)\n",
      "Requirement already satisfied: threadpoolctl>=3.1.0 in /Users/al-ahmadgaidasaad/.julia/conda/3/aarch64/lib/python3.10/site-packages (from scikit-learn>=0.22->umap-learn) (3.6.0)\n"
     ]
    }
   ],
   "source": [
    "using Conda\n",
    "\n",
    "Conda.pip_interop(true)\n",
    "Conda.pip(\"install\", \"sentence-transformers\")\n",
    "Conda.pip(\"install\", \"umap-learn\")"
   ]
  },
  {
   "cell_type": "markdown",
   "id": "60e501dc-635c-4112-90d8-7e5911eb8ce4",
   "metadata": {},
   "source": [
    "#### Load Libraries"
   ]
  },
  {
   "cell_type": "code",
   "execution_count": 55,
   "id": "f7801521-c95c-41af-a36b-466bd7371959",
   "metadata": {},
   "outputs": [],
   "source": [
    "using BOSS\n",
    "using Combinatorics\n",
    "using CairoMakie\n",
    "using Clustering\n",
    "using DataFrames\n",
    "using Distributions\n",
    "using Distances\n",
    "using Optimization\n",
    "using PyCall\n",
    "using QuranTree\n",
    "using Statistics\n",
    "using Turing\n",
    "using Yunir"
   ]
  },
  {
   "cell_type": "code",
   "execution_count": 2,
   "id": "632fb14e-7096-469e-90cb-7981bf344846",
   "metadata": {},
   "outputs": [
    {
     "data": {
      "text/plain": [
       "PyObject <class 'umap.umap_.UMAP'>"
      ]
     },
     "execution_count": 2,
     "metadata": {},
     "output_type": "execute_result"
    }
   ],
   "source": [
    "# load the python libraries\n",
    "sentence_transformers = pyimport(\"sentence_transformers\")\n",
    "umap_py = pyimport(\"umap.umap_\")\n",
    "UMAP = umap_py.UMAP"
   ]
  },
  {
   "cell_type": "markdown",
   "id": "c7db7f03-50eb-41a2-89c1-62ac6c5514da",
   "metadata": {},
   "source": [
    "#### Load CL-Arabert Embedding Model"
   ]
  },
  {
   "cell_type": "code",
   "execution_count": 3,
   "id": "c6f4da17-cddb-4962-9fff-81f304994cb6",
   "metadata": {},
   "outputs": [
    {
     "name": "stderr",
     "output_type": "stream",
     "text": [
      "No sentence-transformers model found with name /Users/al-ahmadgaidasaad/Documents/School/Islamic Studies/ma-thesis-codes/models/CL-Arabert. Creating a new one with mean pooling.\n"
     ]
    }
   ],
   "source": [
    "model_path = \"/Users/al-ahmadgaidasaad/Documents/School/Islamic Studies/ma-thesis-codes/models/CL-Arabert\"\n",
    "emodel = sentence_transformers.SentenceTransformer(model_path);"
   ]
  },
  {
   "cell_type": "markdown",
   "id": "a80ebcec-81a8-4727-ac41-b4ec0b9f2964",
   "metadata": {},
   "source": [
    "#### Load Qur'an Data"
   ]
  },
  {
   "cell_type": "code",
   "execution_count": 4,
   "id": "e6333b2c-9b52-4eaa-9d09-42d37632145c",
   "metadata": {
    "scrolled": true
   },
   "outputs": [
    {
     "data": {
      "text/plain": [
       "Tanzil Quran Text (Uthmani)\n",
       "(C) 2008-2010 Tanzil.net\n",
       "\n",
       "\u001b[1m6236×3 DataFrame\u001b[0m\n",
       "\u001b[1m  Row \u001b[0m│\u001b[1m chapter \u001b[0m\u001b[1m verse \u001b[0m\u001b[1m form                              \u001b[0m\n",
       "      │\u001b[90m Int64   \u001b[0m\u001b[90m Int64 \u001b[0m\u001b[90m String                            \u001b[0m\n",
       "──────┼───────────────────────────────────────────────────\n",
       "    1 │       1      1  بِسْمِ ٱللَّهِ ٱلرَّحْمَٰنِ ٱلرَّحِيمِ\n",
       "    2 │       1      2  ٱلْحَمْدُ لِلَّهِ رَبِّ ٱلْعَٰلَمِينَ\n",
       "    3 │       1      3  ٱلرَّحْمَٰنِ ٱلرَّحِيمِ\n",
       "    4 │       1      4  مَٰلِكِ يَوْمِ ٱلدِّينِ\n",
       "    5 │       1      5  إِيَّاكَ نَعْبُدُ وَإِيَّاكَ نَسْتَعِينُ\n",
       "    6 │       1      6  ٱهْدِنَا ٱلصِّرَٰطَ ٱلْمُسْتَقِيمَ\n",
       "    7 │       1      7  صِرَٰطَ ٱلَّذِينَ أَنْعَمْتَ عَلَيْهِمْ غَيْرِ ٱلْمَغْضُو…\n",
       "    8 │       2      1  بِسْمِ ٱللَّهِ ٱلرَّحْمَٰنِ ٱلرَّحِيمِ الٓمٓ\n",
       "    9 │       2      2  ذَٰلِكَ ٱلْكِتَٰبُ لَا رَيْبَ فِيهِ هُدًى لِّلْمُتَّقِينَ\n",
       "   10 │       2      3  ٱلَّذِينَ يُؤْمِنُونَ بِٱلْغَيْبِ وَيُقِيمُونَ ٱلصَّل…\n",
       "   11 │       2      4  وَٱلَّذِينَ يُؤْمِنُونَ بِمَآ أُنزِلَ إِلَيْكَ وَمَآ …\n",
       "  ⋮   │    ⋮       ⋮                    ⋮\n",
       " 6227 │     113      2  مِن شَرِّ مَا خَلَقَ\n",
       " 6228 │     113      3  وَمِن شَرِّ غَاسِقٍ إِذَا وَقَبَ\n",
       " 6229 │     113      4  وَمِن شَرِّ ٱلنَّفَّٰثَٰتِ فِى ٱلْعُقَدِ\n",
       " 6230 │     113      5  وَمِن شَرِّ حَاسِدٍ إِذَا حَسَدَ\n",
       " 6231 │     114      1  بِسْمِ ٱللَّهِ ٱلرَّحْمَٰنِ ٱلرَّحِيمِ قُلْ أَعُوذُ ب…\n",
       " 6232 │     114      2  مَلِكِ ٱلنَّاسِ\n",
       " 6233 │     114      3  إِلَٰهِ ٱلنَّاسِ\n",
       " 6234 │     114      4  مِن شَرِّ ٱلْوَسْوَاسِ ٱلْخَنَّاسِ\n",
       " 6235 │     114      5  ٱلَّذِى يُوَسْوِسُ فِى صُدُورِ ٱلنَّاسِ\n",
       " 6236 │     114      6  مِنَ ٱلْجِنَّةِ وَٱلنَّاسِ\n",
       "\u001b[36m                                         6215 rows omitted\u001b[0m\n"
      ]
     },
     "execution_count": 4,
     "metadata": {},
     "output_type": "execute_result"
    }
   ],
   "source": [
    "_, tnzl = load(QuranData());\n",
    "tnzl_tbl = table(tnzl)"
   ]
  },
  {
   "cell_type": "code",
   "execution_count": 5,
   "id": "086cb377-9a6c-4679-970e-790cd52dff9b",
   "metadata": {},
   "outputs": [],
   "source": [
    "surah2 = verses(tnzl_tbl[2]);"
   ]
  },
  {
   "cell_type": "code",
   "execution_count": 6,
   "id": "f91c04fa-1b02-4205-b19e-1d054b54fbd9",
   "metadata": {},
   "outputs": [
    {
     "data": {
      "text/plain": [
       "286×768 Matrix{Float32}:\n",
       " 0.531018  -0.132496    -0.756551   …  -0.305054   0.989819   0.201078\n",
       " 0.784264  -0.187889     0.303152       0.0520253  0.646556   0.616321\n",
       " 0.677887  -0.778916    -0.807045      -0.0719035  1.12943    0.859909\n",
       " 0.506211  -0.325038    -0.502814       0.459864   1.43758    0.466729\n",
       " 0.269263  -0.194165    -0.539852      -0.0628042  0.77668    0.554814\n",
       " 0.467806  -0.373838    -0.0348215  …   0.392261   1.14069    0.293043\n",
       " 0.886688  -0.527031    -0.530024      -0.0749496  0.983624   0.308669\n",
       " 0.60995   -0.301923    -0.17381        0.103315   0.984032   0.482254\n",
       " 0.412077  -0.309258    -0.512169       0.890515   0.994584   0.67909\n",
       " 0.996288  -0.699789    -0.477904      -0.24042    0.772055   0.535724\n",
       " 0.123426  -0.530353     0.13315    …   0.0387213  0.998667   0.42128\n",
       " 0.153852   0.00949113  -0.474826       0.17242    0.753725  -0.188628\n",
       " 0.563945  -0.655017    -0.349274      -0.40291    1.35588    0.388349\n",
       " ⋮                                  ⋱   ⋮                    \n",
       " 0.457982  -0.349307    -0.767028       0.269204   1.19339    0.180518\n",
       " 0.414426  -0.287983    -0.561887   …  -0.13756    0.917267   0.467317\n",
       " 0.821485  -0.657224    -0.579525      -0.284125   1.41519    0.568\n",
       " 0.280858  -0.634579    -0.262929       0.0502098  1.10874    0.686531\n",
       " 0.238448  -0.516905    -0.188398      -0.267457   1.38315    0.254447\n",
       " 0.397988  -0.391       -0.311192      -0.31344    0.528317   0.838531\n",
       " 0.202748  -0.183058    -0.257659   …  -0.211391   0.522102   0.131905\n",
       " 0.221918  -0.479004    -0.533618      -0.346529   1.10915    0.625812\n",
       " 0.143688  -0.525937    -0.55367       -0.325207   0.739349   0.730875\n",
       " 0.536415  -0.434458    -0.0741441     -0.183107   1.18414    0.479051\n",
       " 0.562232  -0.065971    -0.370037       0.232082   1.58215    0.433619\n",
       " 0.39352   -0.385343    -0.694224   …   0.147076   1.70726    0.456136"
      ]
     },
     "execution_count": 6,
     "metadata": {},
     "output_type": "execute_result"
    }
   ],
   "source": [
    "surah2_emb = emodel.encode(surah2)"
   ]
  },
  {
   "cell_type": "code",
   "execution_count": 7,
   "id": "eeaa76a5-e67c-4eb3-9eb7-095dad5d5877",
   "metadata": {},
   "outputs": [],
   "source": [
    "struct Slicer\n",
    "    num_slices::Int64\n",
    "    min_ayahs::Int64\n",
    "end"
   ]
  },
  {
   "cell_type": "code",
   "execution_count": 8,
   "id": "f21493c4-9feb-4517-956f-6eb7fac27ff0",
   "metadata": {},
   "outputs": [
    {
     "data": {
      "text/plain": [
       "gen_slices (generic function with 1 method)"
      ]
     },
     "execution_count": 8,
     "metadata": {},
     "output_type": "execute_result"
    }
   ],
   "source": [
    "function gen_slices(slicer::Slicer, ayahs::Vector{String})\n",
    "    ayah_len = length(ayahs)\n",
    "    if (slicer.slices < ayah_len)\n",
    "        error(\"`slices` should be less than the length of `ayahs` vector to slice.\")\n",
    "    end\n",
    "    rand(Uniform(slicer.min_ayahs, ayah_len - slicer.min_ayahs), )     \n",
    "end"
   ]
  },
  {
   "cell_type": "code",
   "execution_count": 9,
   "id": "73c7dc45-e661-4acc-8cc2-06ffbe36699e",
   "metadata": {},
   "outputs": [
    {
     "data": {
      "text/plain": [
       "7"
      ]
     },
     "execution_count": 9,
     "metadata": {},
     "output_type": "execute_result"
    }
   ],
   "source": [
    "ayahs = surah2_emb;\n",
    "\n",
    "num_slices = 7"
   ]
  },
  {
   "cell_type": "code",
   "execution_count": 10,
   "id": "3cc4700b-b95b-4686-8cd8-b4eeab0e7120",
   "metadata": {},
   "outputs": [
    {
     "data": {
      "text/plain": [
       "6×10000 Matrix{Float64}:\n",
       " 0.0509858  0.221487   0.0278969  …  0.183275  0.0466492  0.110775\n",
       " 0.204048   0.214299   0.0143003     0.127203  0.122204   0.0504098\n",
       " 0.43801    0.141789   0.370441      0.104917  0.018396   0.290213\n",
       " 0.0430842  0.0914996  0.269069      0.221556  0.163428   0.321631\n",
       " 0.135317   0.317604   0.103178      0.306106  0.0960785  0.0916322\n",
       " 0.128555   0.0133206  0.215115   …  0.056942  0.553244   0.135339"
      ]
     },
     "execution_count": 10,
     "metadata": {},
     "output_type": "execute_result"
    }
   ],
   "source": [
    "dir_samples = rand(Dirichlet(repeat([1.5], num_slices - 1)), 10_000)"
   ]
  },
  {
   "cell_type": "code",
   "execution_count": 11,
   "id": "b18b8a7c-207d-436d-88be-5c9f207f2e14",
   "metadata": {},
   "outputs": [
    {
     "data": {
      "text/plain": [
       "6×9999 Matrix{Int64}:\n",
       "  12   3    4  10  30   17  19  11    8  …  19    2  13   12   6  16    5  14\n",
       "  14  26    7  46  36   18  21  29   13     24    8  14   21  26  30   13  26\n",
       "  36  40   29  47  44   28  30  39   18     31   29  30   27  44  36   27  31\n",
       "  38  61   61  59  45   34  59  56   21     47   35  69   43  51  52   34  38\n",
       "  58  63   76  60  61   53  63  62   98     80   79  74   57  56  63   46  83\n",
       " 125  90  105  61  66  133  91  86  125  …  84  130  83  122  99  87  158  91"
      ]
     },
     "execution_count": 11,
     "metadata": {},
     "output_type": "execute_result"
    }
   ],
   "source": [
    "midpoints = Int64.(floor.(size(ayahs)[1] .* dir_samples))\n",
    "midpoints = mapslices(sort, midpoints, dims=1)\n",
    "midpoints = unique(midpoints, dims=2)"
   ]
  },
  {
   "cell_type": "code",
   "execution_count": 31,
   "id": "cab9e0e2-6ae5-4ded-a4c9-b9afdedea0b9",
   "metadata": {},
   "outputs": [],
   "source": [
    "slices = Vector{Matrix{Float32}}[]\n",
    "mp_size = size(midpoints)\n",
    "for j in 1:mp_size[2]\n",
    "    slice = Matrix{Float32}[]\n",
    "    for i in 1:mp_size[1]\n",
    "        if i == 1\n",
    "            if midpoints[i, j] == 0\n",
    "                push!(slice, ayahs[1:1, :])\n",
    "            else\n",
    "                push!(slice, ayahs[1:midpoints[i, j],:])\n",
    "            end\n",
    "        elseif i < mp_size[1]\n",
    "            if midpoints[i-1, j] == midpoints[i, j]\n",
    "                push!(slice, ayahs[(midpoints[i-1, j]+1):midpoints[i, j]+2,:])\n",
    "            else\n",
    "                push!(slice, ayahs[(midpoints[i-1, j]+1):midpoints[i, j],:])\n",
    "            end\n",
    "        else\n",
    "            if midpoints[i-1, j] == midpoints[i, j]\n",
    "                push!(slice, ayahs[(midpoints[i-1, j]+1):midpoints[i, j]+2,:])\n",
    "                push!(slice, ayahs[(midpoints[i, j]+1):end,:])\n",
    "            else\n",
    "                push!(slice, ayahs[(midpoints[i-1, j]+1):midpoints[i, j],:])\n",
    "                push!(slice, ayahs[(midpoints[i, j]+1):end,:])\n",
    "            end\n",
    "        end\n",
    "    end\n",
    "    push!(slices, slice)\n",
    "end"
   ]
  },
  {
   "cell_type": "code",
   "execution_count": 33,
   "id": "531b2763-72d3-4a19-aa7b-dbd9c7a996bc",
   "metadata": {},
   "outputs": [
    {
     "data": {
      "text/plain": [
       "12×768 Matrix{Float32}:\n",
       " 0.531018  -0.132496    -0.756551   …  -0.305054   0.989819   0.201078\n",
       " 0.784264  -0.187889     0.303152       0.0520253  0.646556   0.616321\n",
       " 0.677887  -0.778916    -0.807045      -0.0719035  1.12943    0.859909\n",
       " 0.506211  -0.325038    -0.502814       0.459864   1.43758    0.466729\n",
       " 0.269263  -0.194165    -0.539852      -0.0628042  0.77668    0.554814\n",
       " 0.467806  -0.373838    -0.0348215  …   0.392261   1.14069    0.293043\n",
       " 0.886688  -0.527031    -0.530024      -0.0749496  0.983624   0.308669\n",
       " 0.60995   -0.301923    -0.17381        0.103315   0.984032   0.482254\n",
       " 0.412077  -0.309258    -0.512169       0.890515   0.994584   0.67909\n",
       " 0.996288  -0.699789    -0.477904      -0.24042    0.772055   0.535724\n",
       " 0.123426  -0.530353     0.13315    …   0.0387213  0.998667   0.42128\n",
       " 0.153852   0.00949113  -0.474826       0.17242    0.753725  -0.188628"
      ]
     },
     "execution_count": 33,
     "metadata": {},
     "output_type": "execute_result"
    }
   ],
   "source": [
    "slices[1][1]"
   ]
  },
  {
   "cell_type": "markdown",
   "id": "ae606399-16e9-4fc0-b451-a6b67c7c091b",
   "metadata": {},
   "source": [
    "### Summarizing Embeddings"
   ]
  },
  {
   "cell_type": "code",
   "execution_count": 40,
   "id": "0d235256-7199-47fc-a735-81fff99ad663",
   "metadata": {},
   "outputs": [
    {
     "data": {
      "text/plain": [
       "quantile_summary (generic function with 1 method)"
      ]
     },
     "execution_count": 40,
     "metadata": {},
     "output_type": "execute_result"
    }
   ],
   "source": [
    "function quantile_summary(v::Vector)\n",
    "    sv = sort(v)\n",
    "\n",
    "    min = minimum(sv)\n",
    "    q1 = quantile(sv, 0.25)\n",
    "    med = median(sv)\n",
    "    q3 = quantile(sv, 0.5)\n",
    "    max = maximum(sv)\n",
    "\n",
    "    return [min, q1, med, q3, max]\n",
    "end"
   ]
  },
  {
   "cell_type": "code",
   "execution_count": 41,
   "id": "0cb59d9e-746d-4a0d-9996-baf68b19ccb8",
   "metadata": {},
   "outputs": [],
   "source": [
    "fivenums = Vector{Matrix{Float32}}[]\n",
    "for slice in slices\n",
    "    fivenum = Matrix{Float32}[]\n",
    "    for i in 1:size(slice)[1]\n",
    "        push!(fivenum, mapslices(quantile_summary, slice[i], dims=1))\n",
    "    end\n",
    "    push!(fivenums, fivenum)\n",
    "end"
   ]
  },
  {
   "cell_type": "markdown",
   "id": "92909423-0d50-4b27-b530-5e57eff601f0",
   "metadata": {},
   "source": [
    "### Computing Distances"
   ]
  },
  {
   "cell_type": "code",
   "execution_count": 45,
   "id": "d6008d24-f159-41b6-83f6-4d74e789106e",
   "metadata": {},
   "outputs": [
    {
     "data": {
      "text/plain": [
       "7-element Vector{Matrix{Float32}}:\n",
       " [0.12342641 -0.7789163 … 0.64655566 -0.1886282; 0.37637368 -0.5278617 … 0.775524 0.30476224; … ; 0.5186149 -0.3171476 … 0.9869256 0.47449136; 0.9962884 0.009491126 … 1.4375801 0.8599088]\n",
       " [0.53529483 -0.65501744 … 1.324009 0.38834926; 0.5424573 -0.62315285 … 1.3319763 0.45472947; … ; 0.5496198 -0.5912883 … 1.3399436 0.52110964; 0.5639447 -0.5275592 … 1.3558782 0.65387005]\n",
       " [0.16106658 -0.8578767 … 0.668599 -0.19475842; 0.47324833 -0.4187825 … 0.90622646 0.2205224; … ; 0.6096772 -0.31558573 … 1.0329251 0.41992408; 0.94127524 0.035326615 … 1.3669378 0.86905515]\n",
       " [0.91756034 -0.33898774 … 0.993578 -0.1230087; 0.95782566 -0.2930137 … 1.0634463 0.011466838; … ; 0.998091 -0.24703965 … 1.1333145 0.14594238; 1.0786216 -0.15509157 … 1.2730509 0.41489345]\n",
       " [0.021905743 -0.8715603 … 0.62196314 -0.27542344; 0.35184312 -0.44728988 … 0.9316688 0.24854964; … ; 0.662539 -0.31483316 … 1.1160702 0.37768933; 0.9537341 -0.09622821 … 1.6776503 0.7268074]\n",
       " [-0.306053 -0.6757015 … 0.42053604 0.042985797; 0.50017464 -0.39760178 … 0.8535204 0.30427295; … ; 0.65488315 -0.26064166 … 1.0967144 0.4242127; 1.1937826 0.37300172 … 1.6818513 0.8410814]\n",
       " [-0.09084574 -0.78042156 … 0.4219508 -0.21251053; 0.40236467 -0.47493854 … 0.9362445 0.32945147; … ; 0.6302278 -0.3087007 … 1.1125381 0.46589434; 1.2707266 0.2073113 … 1.8207021 0.97848576]"
      ]
     },
     "execution_count": 45,
     "metadata": {},
     "output_type": "execute_result"
    }
   ],
   "source": [
    "fivenums[1]"
   ]
  },
  {
   "cell_type": "code",
   "execution_count": 49,
   "id": "099159df-5de9-425e-a87b-b2d4d082eecd",
   "metadata": {},
   "outputs": [
    {
     "data": {
      "text/plain": [
       "5×768 Matrix{Float32}:\n",
       " 0.91756   -0.338988  -0.259021  …  -0.182396   0.993578  -0.123009\n",
       " 0.957826  -0.293014  -0.255753     -0.0325653  1.06345    0.0114668\n",
       " 0.998091  -0.24704   -0.252486      0.117266   1.13331    0.145942\n",
       " 0.998091  -0.24704   -0.252486      0.117266   1.13331    0.145942\n",
       " 1.07862   -0.155092  -0.24595       0.416928   1.27305    0.414893"
      ]
     },
     "execution_count": 49,
     "metadata": {},
     "output_type": "execute_result"
    }
   ],
   "source": [
    "fivenums[1][Int64(median(1:num_slices))]"
   ]
  },
  {
   "cell_type": "code",
   "execution_count": 59,
   "id": "5193528b-1c09-43e5-a772-fbef608a7871",
   "metadata": {},
   "outputs": [
    {
     "data": {
      "text/plain": [
       "5×768 Matrix{Float32}:\n",
       " 0.91756   -0.338988  -0.259021  …  -0.182396   0.993578  -0.123009\n",
       " 0.957826  -0.293014  -0.255753     -0.0325653  1.06345    0.0114668\n",
       " 0.998091  -0.24704   -0.252486      0.117266   1.13331    0.145942\n",
       " 0.998091  -0.24704   -0.252486      0.117266   1.13331    0.145942\n",
       " 1.07862   -0.155092  -0.24595       0.416928   1.27305    0.414893"
      ]
     },
     "execution_count": 59,
     "metadata": {},
     "output_type": "execute_result"
    }
   ],
   "source": [
    "med_idx = Int64(median(1:num_slices))\n",
    "center = fivenums[1][med_idx]"
   ]
  },
  {
   "cell_type": "code",
   "execution_count": null,
   "id": "30d23289-b88e-4c27-b64a-1bf31c31b0ee",
   "metadata": {},
   "outputs": [],
   "source": [
    "sum(abs.(quantile_summary(colwise(ChiSqDist(), a1_sum, a2_sum))))"
   ]
  },
  {
   "cell_type": "code",
   "execution_count": null,
   "id": "f4f186d3-0e09-4761-8494-ab5adcf3d7c0",
   "metadata": {},
   "outputs": [],
   "source": [
    "med_idx = Int64(median(1:num_slices))\n",
    "center = fivenums[1][med_idx]\n",
    "costs = Vector{Float64}[]\n",
    "for fivenum in fivenums\n",
    "    cost = Float64[]\n",
    "    for i in 1:size(fivenum)[1]\n",
    "        push!(cost, fivenum[i])\n",
    "    end\n",
    "end"
   ]
  },
  {
   "cell_type": "code",
   "execution_count": 58,
   "id": "f2fb6c47-0481-44ff-bbeb-6893a764a0a6",
   "metadata": {},
   "outputs": [
    {
     "data": {
      "text/plain": [
       "21-element Vector{Vector{Int64}}:\n",
       " [1, 2]\n",
       " [1, 3]\n",
       " [1, 4]\n",
       " [1, 5]\n",
       " [1, 6]\n",
       " [1, 7]\n",
       " [2, 3]\n",
       " [2, 4]\n",
       " [2, 5]\n",
       " [2, 6]\n",
       " [2, 7]\n",
       " [3, 4]\n",
       " [3, 5]\n",
       " [3, 6]\n",
       " [3, 7]\n",
       " [4, 5]\n",
       " [4, 6]\n",
       " [4, 7]\n",
       " [5, 6]\n",
       " [5, 7]\n",
       " [6, 7]"
      ]
     },
     "execution_count": 58,
     "metadata": {},
     "output_type": "execute_result"
    }
   ],
   "source": [
    "vectors = 1:7\n",
    "\n",
    "# Generate all combinations of size 2 from the vectors\n",
    "combinations_of_vectors = collect(combinations(vectors, 2))"
   ]
  },
  {
   "cell_type": "code",
   "execution_count": 54,
   "id": "c73e1946-c507-4cbe-8b9f-4e094e8ce6c6",
   "metadata": {},
   "outputs": [
    {
     "name": "stderr",
     "output_type": "stream",
     "text": [
      "\u001b[32m\u001b[1m   Resolving\u001b[22m\u001b[39m package versions...\n",
      "\u001b[32m\u001b[1m    Updating\u001b[22m\u001b[39m `~/Documents/School/Islamic Studies/ma-thesis-codes/Project.toml`\n",
      "  \u001b[90m[861a8166] \u001b[39m\u001b[92m+ Combinatorics v1.0.2\u001b[39m\n",
      "\u001b[32m\u001b[1m  No Changes\u001b[22m\u001b[39m to `~/Documents/School/Islamic Studies/ma-thesis-codes/Manifest.toml`\n"
     ]
    }
   ],
   "source": [
    "Pkg.add(\"Combinatorics\")"
   ]
  },
  {
   "cell_type": "code",
   "execution_count": 53,
   "id": "6327a95b-4bbe-4ff5-9b26-f952183c816e",
   "metadata": {},
   "outputs": [],
   "source": [
    "using Pkg"
   ]
  },
  {
   "cell_type": "code",
   "execution_count": null,
   "id": "7ad2cada-ea9a-4a3d-bd29-219023766677",
   "metadata": {},
   "outputs": [],
   "source": []
  }
 ],
 "metadata": {
  "kernelspec": {
   "display_name": "Julia 1.11.4",
   "language": "julia",
   "name": "julia-1.11"
  },
  "language_info": {
   "file_extension": ".jl",
   "mimetype": "application/julia",
   "name": "julia",
   "version": "1.11.4"
  }
 },
 "nbformat": 4,
 "nbformat_minor": 5
}
