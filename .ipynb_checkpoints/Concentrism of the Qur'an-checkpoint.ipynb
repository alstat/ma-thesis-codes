{
 "cells": [
  {
   "cell_type": "markdown",
   "id": "fac8922b-039d-47ec-806e-c1f6150a1368",
   "metadata": {},
   "source": [
    " ## بسم الله الرّحمٰن الرّحيم "
   ]
  },
  {
   "cell_type": "markdown",
   "id": "00ad8a11-81d0-4a2d-90de-2095df58b0a8",
   "metadata": {},
   "source": [
    "# Theory of Concentrism in the Qur'an using Bayesian Optimization & Large Language Model\n",
    "\n",
    "_by Al-Ahmadgaid B. Asaad_"
   ]
  },
  {
   "cell_type": "markdown",
   "id": "4afc8683-4863-4715-8da6-4101afe86eb7",
   "metadata": {
    "jp-MarkdownHeadingCollapsed": true
   },
   "source": [
    "#### Install Python Libraries\n",
    "\n",
    "There are Julia's equivalent for the following Python libraries, but for this paper the author decided to use the official one which is in Python."
   ]
  },
  {
   "cell_type": "code",
   "execution_count": 11,
   "id": "4fb5577e-8bc9-481f-85dc-bf2b76a7d88d",
   "metadata": {},
   "outputs": [
    {
     "name": "stderr",
     "output_type": "stream",
     "text": [
      "\u001b[32m\u001b[1m    Building\u001b[22m\u001b[39m Conda ─→ `~/.julia/scratchspaces/44cfe95a-1eb2-52ea-b672-e2afdf69b78f/b19db3927f0db4151cb86d073689f2428e524576/build.log`\n",
      "\u001b[32m\u001b[1m    Building\u001b[22m\u001b[39m PyCall → `~/.julia/scratchspaces/44cfe95a-1eb2-52ea-b672-e2afdf69b78f/9816a3826b0ebf49ab4926e2b18842ad8b5c8f04/build.log`\n"
     ]
    }
   ],
   "source": [
    "using Pkg\n",
    "\n",
    "ENV[\"PYTHON\"]=\"\" # necessary for Conda.pip\n",
    "Pkg.build(\"PyCall\")"
   ]
  },
  {
   "cell_type": "code",
   "execution_count": 12,
   "id": "fd2aea44-662c-464e-8df6-9e5d5ed943bb",
   "metadata": {},
   "outputs": [
    {
     "name": "stderr",
     "output_type": "stream",
     "text": [
      "\u001b[36m\u001b[1m[ \u001b[22m\u001b[39m\u001b[36m\u001b[1mInfo: \u001b[22m\u001b[39mRunning `conda config --set pip_interop_enabled true --file /Users/al-ahmadgaidasaad/.julia/conda/3/aarch64/condarc-julia.yml` in root environment\n",
      "\u001b[36m\u001b[1m[ \u001b[22m\u001b[39m\u001b[36m\u001b[1mInfo: \u001b[22m\u001b[39mRunning `pip install sentence-transformers` in root environment\n"
     ]
    },
    {
     "name": "stdout",
     "output_type": "stream",
     "text": [
      "Requirement already satisfied: sentence-transformers in /Users/al-ahmadgaidasaad/.julia/conda/3/aarch64/lib/python3.10/site-packages (3.4.1)\n",
      "Requirement already satisfied: transformers<5.0.0,>=4.41.0 in /Users/al-ahmadgaidasaad/.julia/conda/3/aarch64/lib/python3.10/site-packages (from sentence-transformers) (4.49.0)\n",
      "Requirement already satisfied: tqdm in /Users/al-ahmadgaidasaad/.julia/conda/3/aarch64/lib/python3.10/site-packages (from sentence-transformers) (4.66.1)\n",
      "Requirement already satisfied: torch>=1.11.0 in /Users/al-ahmadgaidasaad/.julia/conda/3/aarch64/lib/python3.10/site-packages (from sentence-transformers) (2.2.1)\n",
      "Requirement already satisfied: scikit-learn in /Users/al-ahmadgaidasaad/.julia/conda/3/aarch64/lib/python3.10/site-packages (from sentence-transformers) (1.6.1)\n",
      "Requirement already satisfied: scipy in /Users/al-ahmadgaidasaad/.julia/conda/3/aarch64/lib/python3.10/site-packages (from sentence-transformers) (1.15.2)\n",
      "Requirement already satisfied: huggingface-hub>=0.20.0 in /Users/al-ahmadgaidasaad/.julia/conda/3/aarch64/lib/python3.10/site-packages (from sentence-transformers) (0.29.3)\n",
      "Requirement already satisfied: Pillow in /Users/al-ahmadgaidasaad/.julia/conda/3/aarch64/lib/python3.10/site-packages (from sentence-transformers) (10.2.0)\n",
      "Requirement already satisfied: filelock in /Users/al-ahmadgaidasaad/.julia/conda/3/aarch64/lib/python3.10/site-packages (from huggingface-hub>=0.20.0->sentence-transformers) (3.13.1)\n",
      "Requirement already satisfied: fsspec>=2023.5.0 in /Users/al-ahmadgaidasaad/.julia/conda/3/aarch64/lib/python3.10/site-packages (from huggingface-hub>=0.20.0->sentence-transformers) (2024.3.1)\n",
      "Requirement already satisfied: packaging>=20.9 in /Users/al-ahmadgaidasaad/.julia/conda/3/aarch64/lib/python3.10/site-packages (from huggingface-hub>=0.20.0->sentence-transformers) (23.2)\n",
      "Requirement already satisfied: pyyaml>=5.1 in /Users/al-ahmadgaidasaad/.julia/conda/3/aarch64/lib/python3.10/site-packages (from huggingface-hub>=0.20.0->sentence-transformers) (6.0.2)\n",
      "Requirement already satisfied: requests in /Users/al-ahmadgaidasaad/.julia/conda/3/aarch64/lib/python3.10/site-packages (from huggingface-hub>=0.20.0->sentence-transformers) (2.31.0)\n",
      "Requirement already satisfied: typing-extensions>=3.7.4.3 in /Users/al-ahmadgaidasaad/.julia/conda/3/aarch64/lib/python3.10/site-packages (from huggingface-hub>=0.20.0->sentence-transformers) (4.10.0)\n",
      "Requirement already satisfied: sympy in /Users/al-ahmadgaidasaad/.julia/conda/3/aarch64/lib/python3.10/site-packages (from torch>=1.11.0->sentence-transformers) (1.12)\n",
      "Requirement already satisfied: networkx in /Users/al-ahmadgaidasaad/.julia/conda/3/aarch64/lib/python3.10/site-packages (from torch>=1.11.0->sentence-transformers) (3.2.1)\n",
      "Requirement already satisfied: jinja2 in /Users/al-ahmadgaidasaad/.julia/conda/3/aarch64/lib/python3.10/site-packages (from torch>=1.11.0->sentence-transformers) (3.1.3)\n",
      "Requirement already satisfied: numpy>=1.17 in /Users/al-ahmadgaidasaad/.julia/conda/3/aarch64/lib/python3.10/site-packages (from transformers<5.0.0,>=4.41.0->sentence-transformers) (1.26.4)\n",
      "Requirement already satisfied: regex!=2019.12.17 in /Users/al-ahmadgaidasaad/.julia/conda/3/aarch64/lib/python3.10/site-packages (from transformers<5.0.0,>=4.41.0->sentence-transformers) (2024.11.6)\n",
      "Requirement already satisfied: tokenizers<0.22,>=0.21 in /Users/al-ahmadgaidasaad/.julia/conda/3/aarch64/lib/python3.10/site-packages (from transformers<5.0.0,>=4.41.0->sentence-transformers) (0.21.1)\n",
      "Requirement already satisfied: safetensors>=0.4.1 in /Users/al-ahmadgaidasaad/.julia/conda/3/aarch64/lib/python3.10/site-packages (from transformers<5.0.0,>=4.41.0->sentence-transformers) (0.5.3)\n",
      "Requirement already satisfied: joblib>=1.2.0 in /Users/al-ahmadgaidasaad/.julia/conda/3/aarch64/lib/python3.10/site-packages (from scikit-learn->sentence-transformers) (1.4.2)\n",
      "Requirement already satisfied: threadpoolctl>=3.1.0 in /Users/al-ahmadgaidasaad/.julia/conda/3/aarch64/lib/python3.10/site-packages (from scikit-learn->sentence-transformers) (3.6.0)\n",
      "Requirement already satisfied: MarkupSafe>=2.0 in /Users/al-ahmadgaidasaad/.julia/conda/3/aarch64/lib/python3.10/site-packages (from jinja2->torch>=1.11.0->sentence-transformers) (2.1.5)\n",
      "Requirement already satisfied: charset-normalizer<4,>=2 in /Users/al-ahmadgaidasaad/.julia/conda/3/aarch64/lib/python3.10/site-packages (from requests->huggingface-hub>=0.20.0->sentence-transformers) (3.3.2)\n",
      "Requirement already satisfied: idna<4,>=2.5 in /Users/al-ahmadgaidasaad/.julia/conda/3/aarch64/lib/python3.10/site-packages (from requests->huggingface-hub>=0.20.0->sentence-transformers) (3.6)\n",
      "Requirement already satisfied: urllib3<3,>=1.21.1 in /Users/al-ahmadgaidasaad/.julia/conda/3/aarch64/lib/python3.10/site-packages (from requests->huggingface-hub>=0.20.0->sentence-transformers) (2.1.0)\n",
      "Requirement already satisfied: certifi>=2017.4.17 in /Users/al-ahmadgaidasaad/.julia/conda/3/aarch64/lib/python3.10/site-packages (from requests->huggingface-hub>=0.20.0->sentence-transformers) (2025.1.31)\n",
      "Requirement already satisfied: mpmath>=0.19 in /Users/al-ahmadgaidasaad/.julia/conda/3/aarch64/lib/python3.10/site-packages (from sympy->torch>=1.11.0->sentence-transformers) (1.3.0)\n"
     ]
    },
    {
     "name": "stderr",
     "output_type": "stream",
     "text": [
      "\u001b[36m\u001b[1m[ \u001b[22m\u001b[39m\u001b[36m\u001b[1mInfo: \u001b[22m\u001b[39mRunning `pip install umap-learn` in root environment\n"
     ]
    },
    {
     "name": "stdout",
     "output_type": "stream",
     "text": [
      "Requirement already satisfied: umap-learn in /Users/al-ahmadgaidasaad/.julia/conda/3/aarch64/lib/python3.10/site-packages (0.5.7)\n",
      "Requirement already satisfied: numpy>=1.17 in /Users/al-ahmadgaidasaad/.julia/conda/3/aarch64/lib/python3.10/site-packages (from umap-learn) (1.26.4)\n",
      "Requirement already satisfied: scipy>=1.3.1 in /Users/al-ahmadgaidasaad/.julia/conda/3/aarch64/lib/python3.10/site-packages (from umap-learn) (1.15.2)\n",
      "Requirement already satisfied: scikit-learn>=0.22 in /Users/al-ahmadgaidasaad/.julia/conda/3/aarch64/lib/python3.10/site-packages (from umap-learn) (1.6.1)\n",
      "Requirement already satisfied: numba>=0.51.2 in /Users/al-ahmadgaidasaad/.julia/conda/3/aarch64/lib/python3.10/site-packages (from umap-learn) (0.61.0)\n",
      "Requirement already satisfied: pynndescent>=0.5 in /Users/al-ahmadgaidasaad/.julia/conda/3/aarch64/lib/python3.10/site-packages (from umap-learn) (0.5.13)\n",
      "Requirement already satisfied: tqdm in /Users/al-ahmadgaidasaad/.julia/conda/3/aarch64/lib/python3.10/site-packages (from umap-learn) (4.66.1)\n",
      "Requirement already satisfied: llvmlite<0.45,>=0.44.0dev0 in /Users/al-ahmadgaidasaad/.julia/conda/3/aarch64/lib/python3.10/site-packages (from numba>=0.51.2->umap-learn) (0.44.0)\n",
      "Requirement already satisfied: joblib>=0.11 in /Users/al-ahmadgaidasaad/.julia/conda/3/aarch64/lib/python3.10/site-packages (from pynndescent>=0.5->umap-learn) (1.4.2)\n",
      "Requirement already satisfied: threadpoolctl>=3.1.0 in /Users/al-ahmadgaidasaad/.julia/conda/3/aarch64/lib/python3.10/site-packages (from scikit-learn>=0.22->umap-learn) (3.6.0)\n"
     ]
    }
   ],
   "source": [
    "using Conda\n",
    "\n",
    "Conda.pip_interop(true)\n",
    "Conda.pip(\"install\", \"sentence-transformers\")\n",
    "Conda.pip(\"install\", \"umap-learn\")"
   ]
  },
  {
   "cell_type": "markdown",
   "id": "60e501dc-635c-4112-90d8-7e5911eb8ce4",
   "metadata": {},
   "source": [
    "#### Load Libraries"
   ]
  },
  {
   "cell_type": "code",
   "execution_count": 59,
   "id": "f7801521-c95c-41af-a36b-466bd7371959",
   "metadata": {},
   "outputs": [],
   "source": [
    "using BOSS\n",
    "using CairoMakie\n",
    "using Clustering\n",
    "using DataFrames\n",
    "using Distributions\n",
    "using Distances\n",
    "using Optimization\n",
    "using PyCall\n",
    "using QuranTree\n",
    "using Statistics\n",
    "using Turing\n",
    "using Yunir"
   ]
  },
  {
   "cell_type": "code",
   "execution_count": 14,
   "id": "632fb14e-7096-469e-90cb-7981bf344846",
   "metadata": {},
   "outputs": [
    {
     "data": {
      "text/plain": [
       "PyObject <class 'umap.umap_.UMAP'>"
      ]
     },
     "execution_count": 14,
     "metadata": {},
     "output_type": "execute_result"
    }
   ],
   "source": [
    "# load the python libraries\n",
    "sentence_transformers = pyimport(\"sentence_transformers\")\n",
    "umap_py = pyimport(\"umap.umap_\")\n",
    "UMAP = umap_py.UMAP"
   ]
  },
  {
   "cell_type": "markdown",
   "id": "c7db7f03-50eb-41a2-89c1-62ac6c5514da",
   "metadata": {},
   "source": [
    "#### Load CL-Arabert Embedding Model"
   ]
  },
  {
   "cell_type": "code",
   "execution_count": 16,
   "id": "c6f4da17-cddb-4962-9fff-81f304994cb6",
   "metadata": {},
   "outputs": [
    {
     "name": "stderr",
     "output_type": "stream",
     "text": [
      "No sentence-transformers model found with name /Users/al-ahmadgaidasaad/Documents/School/Islamic Studies/ma-thesis/codes/notebooks/models/CL-Arabert. Creating a new one with mean pooling.\n"
     ]
    }
   ],
   "source": [
    "model_path = \"/Users/al-ahmadgaidasaad/Documents/School/Islamic Studies/ma-thesis/codes/notebooks/models/CL-Arabert\"\n",
    "emodel = sentence_transformers.SentenceTransformer(model_path);"
   ]
  },
  {
   "cell_type": "markdown",
   "id": "a80ebcec-81a8-4727-ac41-b4ec0b9f2964",
   "metadata": {},
   "source": [
    "#### Load Qur'an Data"
   ]
  },
  {
   "cell_type": "code",
   "execution_count": 18,
   "id": "e6333b2c-9b52-4eaa-9d09-42d37632145c",
   "metadata": {},
   "outputs": [
    {
     "data": {
      "text/plain": [
       "Tanzil Quran Text (Uthmani)\n",
       "(C) 2008-2010 Tanzil.net\n",
       "\n",
       "\u001b[1m6236×3 DataFrame\u001b[0m\n",
       "\u001b[1m  Row \u001b[0m│\u001b[1m chapter \u001b[0m\u001b[1m verse \u001b[0m\u001b[1m form                              \u001b[0m\n",
       "      │\u001b[90m Int64   \u001b[0m\u001b[90m Int64 \u001b[0m\u001b[90m String                            \u001b[0m\n",
       "──────┼───────────────────────────────────────────────────\n",
       "    1 │       1      1  بِسْمِ ٱللَّهِ ٱلرَّحْمَٰنِ ٱلرَّحِيمِ\n",
       "    2 │       1      2  ٱلْحَمْدُ لِلَّهِ رَبِّ ٱلْعَٰلَمِينَ\n",
       "    3 │       1      3  ٱلرَّحْمَٰنِ ٱلرَّحِيمِ\n",
       "    4 │       1      4  مَٰلِكِ يَوْمِ ٱلدِّينِ\n",
       "    5 │       1      5  إِيَّاكَ نَعْبُدُ وَإِيَّاكَ نَسْتَعِينُ\n",
       "    6 │       1      6  ٱهْدِنَا ٱلصِّرَٰطَ ٱلْمُسْتَقِيمَ\n",
       "    7 │       1      7  صِرَٰطَ ٱلَّذِينَ أَنْعَمْتَ عَلَيْهِمْ غَيْرِ ٱلْمَغْضُو…\n",
       "    8 │       2      1  بِسْمِ ٱللَّهِ ٱلرَّحْمَٰنِ ٱلرَّحِيمِ الٓمٓ\n",
       "    9 │       2      2  ذَٰلِكَ ٱلْكِتَٰبُ لَا رَيْبَ فِيهِ هُدًى لِّلْمُتَّقِينَ\n",
       "   10 │       2      3  ٱلَّذِينَ يُؤْمِنُونَ بِٱلْغَيْبِ وَيُقِيمُونَ ٱلصَّل…\n",
       "   11 │       2      4  وَٱلَّذِينَ يُؤْمِنُونَ بِمَآ أُنزِلَ إِلَيْكَ وَمَآ …\n",
       "  ⋮   │    ⋮       ⋮                    ⋮\n",
       " 6227 │     113      2  مِن شَرِّ مَا خَلَقَ\n",
       " 6228 │     113      3  وَمِن شَرِّ غَاسِقٍ إِذَا وَقَبَ\n",
       " 6229 │     113      4  وَمِن شَرِّ ٱلنَّفَّٰثَٰتِ فِى ٱلْعُقَدِ\n",
       " 6230 │     113      5  وَمِن شَرِّ حَاسِدٍ إِذَا حَسَدَ\n",
       " 6231 │     114      1  بِسْمِ ٱللَّهِ ٱلرَّحْمَٰنِ ٱلرَّحِيمِ قُلْ أَعُوذُ ب…\n",
       " 6232 │     114      2  مَلِكِ ٱلنَّاسِ\n",
       " 6233 │     114      3  إِلَٰهِ ٱلنَّاسِ\n",
       " 6234 │     114      4  مِن شَرِّ ٱلْوَسْوَاسِ ٱلْخَنَّاسِ\n",
       " 6235 │     114      5  ٱلَّذِى يُوَسْوِسُ فِى صُدُورِ ٱلنَّاسِ\n",
       " 6236 │     114      6  مِنَ ٱلْجِنَّةِ وَٱلنَّاسِ\n",
       "\u001b[36m                                         6215 rows omitted\u001b[0m\n"
      ]
     },
     "execution_count": 18,
     "metadata": {},
     "output_type": "execute_result"
    }
   ],
   "source": [
    "_, tnzl = load(QuranData());\n",
    "tnzl_tbl = table(tnzl)"
   ]
  },
  {
   "cell_type": "code",
   "execution_count": 148,
   "id": "086cb377-9a6c-4679-970e-790cd52dff9b",
   "metadata": {},
   "outputs": [],
   "source": [
    "surah2 = verses(tnzl_tbl[2]);"
   ]
  },
  {
   "cell_type": "code",
   "execution_count": 149,
   "id": "f91c04fa-1b02-4205-b19e-1d054b54fbd9",
   "metadata": {},
   "outputs": [
    {
     "data": {
      "text/plain": [
       "286×768 Matrix{Float32}:\n",
       " 0.531018  -0.132496    -0.756551   …  -0.305054   0.989819   0.201078\n",
       " 0.784264  -0.187889     0.303152       0.0520253  0.646556   0.616321\n",
       " 0.677887  -0.778916    -0.807045      -0.0719035  1.12943    0.859909\n",
       " 0.506211  -0.325038    -0.502814       0.459864   1.43758    0.466729\n",
       " 0.269263  -0.194165    -0.539852      -0.0628042  0.77668    0.554814\n",
       " 0.467806  -0.373838    -0.0348215  …   0.392261   1.14069    0.293043\n",
       " 0.886688  -0.527031    -0.530024      -0.0749496  0.983624   0.308669\n",
       " 0.60995   -0.301923    -0.17381        0.103315   0.984032   0.482254\n",
       " 0.412077  -0.309258    -0.512169       0.890515   0.994584   0.67909\n",
       " 0.996288  -0.699789    -0.477904      -0.24042    0.772055   0.535724\n",
       " 0.123426  -0.530353     0.13315    …   0.0387213  0.998667   0.42128\n",
       " 0.153852   0.00949113  -0.474826       0.17242    0.753725  -0.188628\n",
       " 0.563945  -0.655017    -0.349274      -0.40291    1.35588    0.388349\n",
       " ⋮                                  ⋱   ⋮                    \n",
       " 0.457982  -0.349307    -0.767028       0.269204   1.19339    0.180518\n",
       " 0.414426  -0.287983    -0.561887   …  -0.13756    0.917267   0.467317\n",
       " 0.821485  -0.657224    -0.579525      -0.284125   1.41519    0.568\n",
       " 0.280858  -0.634579    -0.262929       0.0502098  1.10874    0.686531\n",
       " 0.238448  -0.516905    -0.188398      -0.267457   1.38315    0.254447\n",
       " 0.397988  -0.391       -0.311192      -0.31344    0.528317   0.838531\n",
       " 0.202748  -0.183058    -0.257659   …  -0.211391   0.522102   0.131905\n",
       " 0.221918  -0.479004    -0.533618      -0.346529   1.10915    0.625812\n",
       " 0.143688  -0.525937    -0.55367       -0.325207   0.739349   0.730875\n",
       " 0.536415  -0.434458    -0.0741441     -0.183107   1.18414    0.479051\n",
       " 0.562232  -0.065971    -0.370037       0.232082   1.58215    0.433619\n",
       " 0.39352   -0.385343    -0.694224   …   0.147076   1.70726    0.456136"
      ]
     },
     "execution_count": 149,
     "metadata": {},
     "output_type": "execute_result"
    }
   ],
   "source": [
    "surah2_emb = emodel.encode(surah2)"
   ]
  },
  {
   "cell_type": "code",
   "execution_count": null,
   "id": "eeaa76a5-e67c-4eb3-9eb7-095dad5d5877",
   "metadata": {},
   "outputs": [],
   "source": [
    "struct Slicer\n",
    "    num_slices::Int64\n",
    "    min_ayahs::Int64\n",
    "end"
   ]
  },
  {
   "cell_type": "code",
   "execution_count": null,
   "id": "f21493c4-9feb-4517-956f-6eb7fac27ff0",
   "metadata": {},
   "outputs": [],
   "source": [
    "function gen_slices(slicer::Slicer, ayahs::Vector{String})\n",
    "    ayah_len = length(ayahs)\n",
    "    if (slicer.slices < ayah_len)\n",
    "        error(\"`slices` should be less than the length of `ayahs` vector to slice.\")\n",
    "    end\n",
    "    rand(Uniform(slicer.min_ayahs, ayah_len - slicer.min_ayahs), )     \n",
    "end"
   ]
  },
  {
   "cell_type": "code",
   "execution_count": 197,
   "id": "73c7dc45-e661-4acc-8cc2-06ffbe36699e",
   "metadata": {},
   "outputs": [
    {
     "data": {
      "text/plain": [
       "7"
      ]
     },
     "execution_count": 197,
     "metadata": {},
     "output_type": "execute_result"
    }
   ],
   "source": [
    "ayahs = surah2_emb;\n",
    "\n",
    "num_slices = 7"
   ]
  },
  {
   "cell_type": "code",
   "execution_count": 198,
   "id": "3cc4700b-b95b-4686-8cd8-b4eeab0e7120",
   "metadata": {},
   "outputs": [
    {
     "data": {
      "text/plain": [
       "6×10000 Matrix{Float64}:\n",
       " 0.0747496  0.197962   0.147077   …  0.0953913  0.124093   0.28173\n",
       " 0.263974   0.0614421  0.204169      0.0699034  0.150389   0.0880941\n",
       " 0.274278   0.150874   0.245379      0.105307   0.0711559  0.293795\n",
       " 0.320078   0.232029   0.0152451     0.0477861  0.28238    0.143587\n",
       " 0.0113221  0.067032   0.360862      0.173374   0.198752   0.0865986\n",
       " 0.0555989  0.290661   0.0272685  …  0.508238   0.17323    0.106195"
      ]
     },
     "execution_count": 198,
     "metadata": {},
     "output_type": "execute_result"
    }
   ],
   "source": [
    "dir_samples = rand(Dirichlet(repeat([1.5], num_slices - 1)), 10_000)"
   ]
  },
  {
   "cell_type": "code",
   "execution_count": 199,
   "id": "b18b8a7c-207d-436d-88be-5c9f207f2e14",
   "metadata": {},
   "outputs": [
    {
     "data": {
      "text/plain": [
       "6×9999 Matrix{Int64}:\n",
       "  3  17    4    2  17   15   12    5  …   5   19   5    6   12   13  20  24\n",
       " 15  19    7   19  23   22   24   24      9   23  29   22   19   19  35  25\n",
       " 21  43   42   22  26   34   27   35     58   28  48   25   23   27  43  30\n",
       " 75  56   58   35  61   36   45   45     63   50  54   44   26   30  49  41\n",
       " 78  66   70   62  70   67   45   68     68   61  67   47   86   49  56  80\n",
       " 91  83  103  143  86  109  131  107  …  80  104  79  139  116  145  80  84"
      ]
     },
     "execution_count": 199,
     "metadata": {},
     "output_type": "execute_result"
    }
   ],
   "source": [
    "midpoints = Int64.(floor.(size(ayahs)[1] .* dir_samples))\n",
    "midpoints = mapslices(sort, midpoints, dims=1)\n",
    "midpoints = unique(midpoints, dims=2)"
   ]
  },
  {
   "cell_type": "code",
   "execution_count": 200,
   "id": "cab9e0e2-6ae5-4ded-a4c9-b9afdedea0b9",
   "metadata": {},
   "outputs": [],
   "source": [
    "slices = Vector{Matrix{Float32}}[]\n",
    "mp_size = size(midpoints)\n",
    "for j in 1:mp_size[2]\n",
    "    slice = Matrix{Float32}[]\n",
    "    for i in 1:mp_size[1]\n",
    "        if i == 1\n",
    "            push!(slice, ayahs[1:midpoints[i, j],:])\n",
    "        elseif i < mp_size[1]\n",
    "            push!(slice, ayahs[(midpoints[i-1, j]+1):midpoints[i, j],:])\n",
    "        else\n",
    "            push!(slice, ayahs[(midpoints[i-1, j]+1):midpoints[i, j],:])\n",
    "            push!(slice, ayahs[(midpoints[i, j]+1):end,:])\n",
    "        end\n",
    "    end\n",
    "    push!(slices, slice)\n",
    "end"
   ]
  },
  {
   "cell_type": "code",
   "execution_count": 201,
   "id": "531b2763-72d3-4a19-aa7b-dbd9c7a996bc",
   "metadata": {},
   "outputs": [
    {
     "data": {
      "text/plain": [
       "7-element Vector{Matrix{Float32}}:\n",
       " [0.5310184 -0.13249622 … 0.9898191 0.20107773; 0.784264 -0.18788888 … 0.64655566 0.6163212; 0.6778873 -0.7789163 … 1.1294347 0.8599088]\n",
       " [0.50621146 -0.3250376 … 1.4375801 0.4667288; 0.269263 -0.19416487 … 0.7766804 0.5548137; … ; 0.53529483 -0.5275592 … 1.324009 0.65387005; 0.61365443 -0.45799717 … 1.0048498 0.7528942]\n",
       " [0.5153532 -0.33468977 … 1.3602252 0.49015307; 0.88209534 -0.53245246 … 0.73670083 0.30808163; … ; 0.70786935 -0.8578767 … 1.2227405 0.45505133; 0.41623342 -0.1308928 … 0.9314575 0.59851867]\n",
       " [0.69335663 -0.16880381 … 0.9878541 0.5400404; 0.6340914 0.0046891314 … 0.8854246 0.368674; … ; 0.6736406 -0.55540085 … 1.0537224 0.22417146; 0.7874164 -0.34338334 … 1.283298 0.55426145]\n",
       " [0.60748917 -0.4051675 … 1.3984671 0.5379322; -0.306053 -0.42617646 … 0.46820095 0.75357646; 0.6771596 -0.3709957 … 0.4407325 0.242626]\n",
       " [0.47408026 -0.6757015 … 0.73481303 0.47399515; 0.47682613 -0.5640961 … 1.489575 0.43350336; … ; 0.6923062 -0.13564682 … 0.93121445 0.26840523; 0.516467 -0.4322509 … 1.4080714 0.48817563]\n",
       " [0.81268334 -0.26064166 … 1.1669103 0.1384463; 0.6668186 -0.45048323 … 1.6818513 0.35077122; … ; 0.562232 -0.065970965 … 1.5821476 0.4336186; 0.39351997 -0.38534313 … 1.7072624 0.45613596]"
      ]
     },
     "execution_count": 201,
     "metadata": {},
     "output_type": "execute_result"
    }
   ],
   "source": [
    "slices[1]"
   ]
  },
  {
   "cell_type": "markdown",
   "id": "ae606399-16e9-4fc0-b451-a6b67c7c091b",
   "metadata": {},
   "source": [
    "### Summarizing Embeddings"
   ]
  },
  {
   "cell_type": "code",
   "execution_count": 202,
   "id": "0d235256-7199-47fc-a735-81fff99ad663",
   "metadata": {},
   "outputs": [
    {
     "data": {
      "text/plain": [
       "quantile_summary (generic function with 1 method)"
      ]
     },
     "execution_count": 202,
     "metadata": {},
     "output_type": "execute_result"
    }
   ],
   "source": [
    "function quantile_summary(v::Vector)\n",
    "    sv = sort(v)\n",
    "\n",
    "    min = minimum(sv)\n",
    "    q1 = quantile(sv, 0.25)\n",
    "    med = median(sv)\n",
    "    q3 = quantile(sv, 0.5)\n",
    "    max = maximum(sv)\n",
    "\n",
    "    return [min, q1, med, q3, max]\n",
    "end"
   ]
  },
  {
   "cell_type": "code",
   "execution_count": 203,
   "id": "0cb59d9e-746d-4a0d-9996-baf68b19ccb8",
   "metadata": {},
   "outputs": [
    {
     "name": "stderr",
     "output_type": "stream",
     "text": [
      "\u001b[36m\u001b[1m[ \u001b[22m\u001b[39m\u001b[36m\u001b[1mInfo: \u001b[22m\u001b[39m1\n",
      "\u001b[36m\u001b[1m[ \u001b[22m\u001b[39m\u001b[36m\u001b[1mInfo: \u001b[22m\u001b[39m2\n",
      "\u001b[36m\u001b[1m[ \u001b[22m\u001b[39m\u001b[36m\u001b[1mInfo: \u001b[22m\u001b[39m3\n",
      "\u001b[36m\u001b[1m[ \u001b[22m\u001b[39m\u001b[36m\u001b[1mInfo: \u001b[22m\u001b[39m4\n",
      "\u001b[36m\u001b[1m[ \u001b[22m\u001b[39m\u001b[36m\u001b[1mInfo: \u001b[22m\u001b[39m5\n",
      "\u001b[36m\u001b[1m[ \u001b[22m\u001b[39m\u001b[36m\u001b[1mInfo: \u001b[22m\u001b[39m6\n",
      "\u001b[36m\u001b[1m[ \u001b[22m\u001b[39m\u001b[36m\u001b[1mInfo: \u001b[22m\u001b[39m7\n",
      "\u001b[36m\u001b[1m[ \u001b[22m\u001b[39m\u001b[36m\u001b[1mInfo: \u001b[22m\u001b[39m2\n",
      "\u001b[36m\u001b[1m[ \u001b[22m\u001b[39m\u001b[36m\u001b[1mInfo: \u001b[22m\u001b[39m1\n",
      "\u001b[36m\u001b[1m[ \u001b[22m\u001b[39m\u001b[36m\u001b[1mInfo: \u001b[22m\u001b[39m2\n",
      "\u001b[36m\u001b[1m[ \u001b[22m\u001b[39m\u001b[36m\u001b[1mInfo: \u001b[22m\u001b[39m3\n",
      "\u001b[36m\u001b[1m[ \u001b[22m\u001b[39m\u001b[36m\u001b[1mInfo: \u001b[22m\u001b[39m4\n",
      "\u001b[36m\u001b[1m[ \u001b[22m\u001b[39m\u001b[36m\u001b[1mInfo: \u001b[22m\u001b[39m5\n",
      "\u001b[36m\u001b[1m[ \u001b[22m\u001b[39m\u001b[36m\u001b[1mInfo: \u001b[22m\u001b[39m6\n",
      "\u001b[36m\u001b[1m[ \u001b[22m\u001b[39m\u001b[36m\u001b[1mInfo: \u001b[22m\u001b[39m7\n",
      "\u001b[36m\u001b[1m[ \u001b[22m\u001b[39m\u001b[36m\u001b[1mInfo: \u001b[22m\u001b[39m3\n",
      "\u001b[36m\u001b[1m[ \u001b[22m\u001b[39m\u001b[36m\u001b[1mInfo: \u001b[22m\u001b[39m1\n",
      "\u001b[36m\u001b[1m[ \u001b[22m\u001b[39m\u001b[36m\u001b[1mInfo: \u001b[22m\u001b[39m2\n",
      "\u001b[36m\u001b[1m[ \u001b[22m\u001b[39m\u001b[36m\u001b[1mInfo: \u001b[22m\u001b[39m3\n",
      "\u001b[36m\u001b[1m[ \u001b[22m\u001b[39m\u001b[36m\u001b[1mInfo: \u001b[22m\u001b[39m4\n",
      "\u001b[36m\u001b[1m[ \u001b[22m\u001b[39m\u001b[36m\u001b[1mInfo: \u001b[22m\u001b[39m5\n",
      "\u001b[36m\u001b[1m[ \u001b[22m\u001b[39m\u001b[36m\u001b[1mInfo: \u001b[22m\u001b[39m6\n",
      "\u001b[36m\u001b[1m[ \u001b[22m\u001b[39m\u001b[36m\u001b[1mInfo: \u001b[22m\u001b[39m7\n",
      "\u001b[36m\u001b[1m[ \u001b[22m\u001b[39m\u001b[36m\u001b[1mInfo: \u001b[22m\u001b[39m4\n",
      "\u001b[36m\u001b[1m[ \u001b[22m\u001b[39m\u001b[36m\u001b[1mInfo: \u001b[22m\u001b[39m1\n",
      "\u001b[36m\u001b[1m[ \u001b[22m\u001b[39m\u001b[36m\u001b[1mInfo: \u001b[22m\u001b[39m2\n",
      "\u001b[36m\u001b[1m[ \u001b[22m\u001b[39m\u001b[36m\u001b[1mInfo: \u001b[22m\u001b[39m3\n",
      "\u001b[36m\u001b[1m[ \u001b[22m\u001b[39m\u001b[36m\u001b[1mInfo: \u001b[22m\u001b[39m4\n",
      "\u001b[36m\u001b[1m[ \u001b[22m\u001b[39m\u001b[36m\u001b[1mInfo: \u001b[22m\u001b[39m5\n",
      "\u001b[36m\u001b[1m[ \u001b[22m\u001b[39m\u001b[36m\u001b[1mInfo: \u001b[22m\u001b[39m6\n",
      "\u001b[36m\u001b[1m[ \u001b[22m\u001b[39m\u001b[36m\u001b[1mInfo: \u001b[22m\u001b[39m7\n",
      "\u001b[36m\u001b[1m[ \u001b[22m\u001b[39m\u001b[36m\u001b[1mInfo: \u001b[22m\u001b[39m5\n",
      "\u001b[36m\u001b[1m[ \u001b[22m\u001b[39m\u001b[36m\u001b[1mInfo: \u001b[22m\u001b[39m1\n",
      "\u001b[36m\u001b[1m[ \u001b[22m\u001b[39m\u001b[36m\u001b[1mInfo: \u001b[22m\u001b[39m2\n",
      "\u001b[36m\u001b[1m[ \u001b[22m\u001b[39m\u001b[36m\u001b[1mInfo: \u001b[22m\u001b[39m3\n",
      "\u001b[36m\u001b[1m[ \u001b[22m\u001b[39m\u001b[36m\u001b[1mInfo: \u001b[22m\u001b[39m4\n",
      "\u001b[36m\u001b[1m[ \u001b[22m\u001b[39m\u001b[36m\u001b[1mInfo: \u001b[22m\u001b[39m5\n",
      "\u001b[36m\u001b[1m[ \u001b[22m\u001b[39m\u001b[36m\u001b[1mInfo: \u001b[22m\u001b[39m6\n",
      "\u001b[36m\u001b[1m[ \u001b[22m\u001b[39m\u001b[36m\u001b[1mInfo: \u001b[22m\u001b[39m7\n",
      "\u001b[36m\u001b[1m[ \u001b[22m\u001b[39m\u001b[36m\u001b[1mInfo: \u001b[22m\u001b[39m6\n",
      "\u001b[36m\u001b[1m[ \u001b[22m\u001b[39m\u001b[36m\u001b[1mInfo: \u001b[22m\u001b[39m1\n",
      "\u001b[36m\u001b[1m[ \u001b[22m\u001b[39m\u001b[36m\u001b[1mInfo: \u001b[22m\u001b[39m2\n",
      "\u001b[36m\u001b[1m[ \u001b[22m\u001b[39m\u001b[36m\u001b[1mInfo: \u001b[22m\u001b[39m3\n",
      "\u001b[36m\u001b[1m[ \u001b[22m\u001b[39m\u001b[36m\u001b[1mInfo: \u001b[22m\u001b[39m4\n",
      "\u001b[36m\u001b[1m[ \u001b[22m\u001b[39m\u001b[36m\u001b[1mInfo: \u001b[22m\u001b[39m5\n",
      "\u001b[36m\u001b[1m[ \u001b[22m\u001b[39m\u001b[36m\u001b[1mInfo: \u001b[22m\u001b[39m6\n",
      "\u001b[36m\u001b[1m[ \u001b[22m\u001b[39m\u001b[36m\u001b[1mInfo: \u001b[22m\u001b[39m7\n",
      "\u001b[36m\u001b[1m[ \u001b[22m\u001b[39m\u001b[36m\u001b[1mInfo: \u001b[22m\u001b[39m7\n",
      "\u001b[36m\u001b[1m[ \u001b[22m\u001b[39m\u001b[36m\u001b[1mInfo: \u001b[22m\u001b[39m1\n",
      "\u001b[36m\u001b[1m[ \u001b[22m\u001b[39m\u001b[36m\u001b[1mInfo: \u001b[22m\u001b[39m2\n",
      "\u001b[36m\u001b[1m[ \u001b[22m\u001b[39m\u001b[36m\u001b[1mInfo: \u001b[22m\u001b[39m3\n",
      "\u001b[36m\u001b[1m[ \u001b[22m\u001b[39m\u001b[36m\u001b[1mInfo: \u001b[22m\u001b[39m4\n",
      "\u001b[36m\u001b[1m[ \u001b[22m\u001b[39m\u001b[36m\u001b[1mInfo: \u001b[22m\u001b[39m5\n"
     ]
    },
    {
     "ename": "LoadError",
     "evalue": "ArgumentError: reducing over an empty collection is not allowed; consider supplying `init` to the reducer",
     "output_type": "error",
     "traceback": [
      "ArgumentError: reducing over an empty collection is not allowed; consider supplying `init` to the reducer",
      "",
      "Stacktrace:",
      "  [1] _empty_reduce_error()",
      "    @ Base ./reduce.jl:319",
      "  [2] reduce_empty(f::Function, T::Type)",
      "    @ Base ./reduce.jl:320",
      "  [3] mapreduce_empty(::typeof(identity), op::Function, T::Type)",
      "    @ Base ./reduce.jl:369",
      "  [4] reduce_empty(op::Base.MappingRF{typeof(identity), typeof(min)}, ::Type{Float32})",
      "    @ Base ./reduce.jl:358",
      "  [5] reduce_empty_iter",
      "    @ ./reduce.jl:381 [inlined]",
      "  [6] mapreduce_empty_iter(f::Function, op::Function, itr::Vector{Float32}, ItrEltype::Base.HasEltype)",
      "    @ Base ./reduce.jl:377",
      "  [7] _mapreduce(f::typeof(identity), op::typeof(min), ::IndexLinear, A::Vector{Float32})",
      "    @ Base ./reduce.jl:429",
      "  [8] _mapreduce_dim",
      "    @ ./reducedim.jl:337 [inlined]",
      "  [9] mapreduce",
      "    @ ./reducedim.jl:329 [inlined]",
      " [10] _minimum",
      "    @ ./reducedim.jl:987 [inlined]",
      " [11] _minimum",
      "    @ ./reducedim.jl:986 [inlined]",
      " [12] minimum",
      "    @ ./reducedim.jl:982 [inlined]",
      " [13] quantile_summary(v::Vector{Float32})",
      "    @ Main ./In[202]:4",
      " [14] mapslices(f::typeof(quantile_summary), A::Matrix{Float32}; dims::Int64)",
      "    @ Base ./abstractarray.jl:3281",
      " [15] top-level scope",
      "    @ ./In[203]:7"
     ]
    }
   ],
   "source": [
    "fivenums = Vector{Matrix{Float32}}[]\n",
    "j = 1\n",
    "for slice in slices\n",
    "    fivenum = Matrix{Float32}[]\n",
    "    for i in 1:size(slice)[1]\n",
    "        @info i\n",
    "        push!(fivenum, mapslices(quantile_summary, slice[i], dims=1))\n",
    "    end\n",
    "    j += 1\n",
    "    @info j\n",
    "    push!(fivenums, fivenum)\n",
    "end"
   ]
  },
  {
   "cell_type": "code",
   "execution_count": 187,
   "id": "56673fe2-e67e-45c9-bd1e-78dd14f86d3a",
   "metadata": {},
   "outputs": [
    {
     "data": {
      "text/plain": [
       "0×768 Matrix{Float32}"
      ]
     },
     "execution_count": 187,
     "metadata": {},
     "output_type": "execute_result"
    }
   ],
   "source": [
    "slices[62][2]"
   ]
  },
  {
   "cell_type": "code",
   "execution_count": 189,
   "id": "ad2b29b7-0caa-4e07-b45f-2246fff20a08",
   "metadata": {},
   "outputs": [
    {
     "data": {
      "text/plain": [
       "4-element Vector{Float64}:\n",
       " 0.02978849839191926\n",
       " 0.10918418123048566\n",
       " 0.8304270317458531\n",
       " 0.030600288631742086"
      ]
     },
     "execution_count": 189,
     "metadata": {},
     "output_type": "execute_result"
    }
   ],
   "source": [
    "dir_samples[:,62]"
   ]
  },
  {
   "cell_type": "code",
   "execution_count": 190,
   "id": "58741c78-f547-46f2-91ec-6820b3ffac4e",
   "metadata": {},
   "outputs": [
    {
     "data": {
      "text/plain": [
       "4-element Vector{Int64}:\n",
       "   8\n",
       "   8\n",
       "  31\n",
       " 237"
      ]
     },
     "execution_count": 190,
     "metadata": {},
     "output_type": "execute_result"
    }
   ],
   "source": [
    "midpoints[:, 62]"
   ]
  },
  {
   "cell_type": "code",
   "execution_count": 174,
   "id": "b62f7d81-faaf-4620-b3e3-8548ec6b4e81",
   "metadata": {},
   "outputs": [
    {
     "data": {
      "text/plain": [
       "5×768 Matrix{Float64}:\n",
       " 0.123426  -0.857877    -0.872551  …  -0.434731   0.646556  -0.188628\n",
       " 0.467806  -0.530353    -0.512169     -0.253229   0.885425   0.308669\n",
       " 0.563945  -0.364934    -0.397269     -0.0452077  0.994584   0.482254\n",
       " 0.563945  -0.364934    -0.397269     -0.0452077  0.994584   0.482254\n",
       " 0.996288   0.00949113   0.303152      0.890515   1.43758    0.869055"
      ]
     },
     "execution_count": 174,
     "metadata": {},
     "output_type": "execute_result"
    }
   ],
   "source": [
    "mapslices(quantile_summary, slices[1][1]; dims=1)"
   ]
  },
  {
   "cell_type": "code",
   "execution_count": 175,
   "id": "194fd444-f0ac-4079-81f8-594c287226c1",
   "metadata": {},
   "outputs": [
    {
     "data": {
      "text/plain": [
       "5×768 Matrix{Float64}:\n",
       " 0.0219057  -0.537929   -0.971374   …  -0.267718   0.673117  -0.194758\n",
       " 0.30872    -0.391888   -0.493111      -0.0735184  1.01886    0.210183\n",
       " 0.6057     -0.232318   -0.298277       0.0588869  1.15339    0.411876\n",
       " 0.6057     -0.232318   -0.298277       0.0588869  1.15339    0.411876\n",
       " 1.07862     0.0353266   0.0669256      0.416928   1.67765    0.862111"
      ]
     },
     "execution_count": 175,
     "metadata": {},
     "output_type": "execute_result"
    }
   ],
   "source": [
    "mapslices(quantile_summary, slices[1][2]; dims=1)"
   ]
  },
  {
   "cell_type": "code",
   "execution_count": 167,
   "id": "c7056ca9-9de6-440c-82a5-1d8b6035f1bc",
   "metadata": {},
   "outputs": [
    {
     "data": {
      "text/plain": [
       "1.4000000000000001"
      ]
     },
     "execution_count": 167,
     "metadata": {},
     "output_type": "execute_result"
    }
   ],
   "source": [
    "quantile(1:3, 0.2)"
   ]
  },
  {
   "cell_type": "code",
   "execution_count": 168,
   "id": "56fa4ca3-b47c-4979-bd47-b882ec34b46a",
   "metadata": {},
   "outputs": [
    {
     "name": "stdout",
     "output_type": "stream",
     "text": [
      "search: \u001b[0m\u001b[1mq\u001b[22m\u001b[0m\u001b[1mu\u001b[22m\u001b[0m\u001b[1ma\u001b[22m\u001b[0m\u001b[1mn\u001b[22m\u001b[0m\u001b[1mt\u001b[22m\u001b[0m\u001b[1mi\u001b[22m\u001b[0m\u001b[1ml\u001b[22m\u001b[0m\u001b[1me\u001b[22m c\u001b[0m\u001b[1mq\u001b[22m\u001b[0m\u001b[1mu\u001b[22m\u001b[0m\u001b[1ma\u001b[22m\u001b[0m\u001b[1mn\u001b[22m\u001b[0m\u001b[1mt\u001b[22m\u001b[0m\u001b[1mi\u001b[22m\u001b[0m\u001b[1ml\u001b[22m\u001b[0m\u001b[1me\u001b[22m \u001b[0m\u001b[1mq\u001b[22m\u001b[0m\u001b[1mu\u001b[22m\u001b[0m\u001b[1ma\u001b[22m\u001b[0m\u001b[1mn\u001b[22m\u001b[0m\u001b[1mt\u001b[22m\u001b[0m\u001b[1mi\u001b[22m\u001b[0m\u001b[1ml\u001b[22m\u001b[0m\u001b[1me\u001b[22m! \u001b[0m\u001b[1mq\u001b[22m\u001b[0m\u001b[1mu\u001b[22mote \u001b[0m\u001b[1mq\u001b[22m\u001b[0m\u001b[1mu\u001b[22m\u001b[0m\u001b[1ma\u001b[22m\u001b[0m\u001b[1mn\u001b[22m\u001b[0m\u001b[1mt\u001b[22m\u001b[0m\u001b[1mi\u001b[22m\u001b[0m\u001b[1ml\u001b[22m\u001b[0m\u001b[1me\u001b[22m_summary angle evalfile\n",
      "\n"
     ]
    },
    {
     "data": {
      "text/latex": [
       "\\begin{verbatim}\n",
       "quantile(itr, p; sorted=false, alpha::Real=1.0, beta::Real=alpha)\n",
       "\\end{verbatim}\n",
       "Compute the quantile(s) of a collection \\texttt{itr} at a specified probability or vector or tuple of probabilities \\texttt{p} on the interval [0,1]. The keyword argument \\texttt{sorted} indicates whether \\texttt{itr} can be assumed to be sorted.\n",
       "\n",
       "Samples quantile are defined by \\texttt{Q(p) = (1-γ)*x[j] + γ*x[j+1]}, where \\texttt{x[j]} is the j-th order statistic of \\texttt{itr}, \\texttt{j = floor(n*p + m)}, \\texttt{m = alpha + p*(1 - alpha - beta)} and \\texttt{γ = n*p + m - j}.\n",
       "\n",
       "By default (\\texttt{alpha = beta = 1}), quantiles are computed via linear interpolation between the points \\texttt{((k-1)/(n-1), x[k])}, for \\texttt{k = 1:n} where \\texttt{n = length(itr)}. This corresponds to Definition 7 of Hyndman and Fan (1996), and is the same as the R and NumPy default.\n",
       "\n",
       "The keyword arguments \\texttt{alpha} and \\texttt{beta} correspond to the same parameters in Hyndman and Fan, setting them to different values allows to calculate quantiles with any of the methods 4-9 defined in this paper:\n",
       "\n",
       "\\begin{itemize}\n",
       "\\item Def. 4: \\texttt{alpha=0}, \\texttt{beta=1}\n",
       "\n",
       "\n",
       "\\item Def. 5: \\texttt{alpha=0.5}, \\texttt{beta=0.5} (MATLAB default)\n",
       "\n",
       "\n",
       "\\item Def. 6: \\texttt{alpha=0}, \\texttt{beta=0} (Excel \\texttt{PERCENTILE.EXC}, Python default, Stata \\texttt{altdef})\n",
       "\n",
       "\n",
       "\\item Def. 7: \\texttt{alpha=1}, \\texttt{beta=1} (Julia, R and NumPy default, Excel \\texttt{PERCENTILE} and \\texttt{PERCENTILE.INC}, Python \\texttt{'inclusive'})\n",
       "\n",
       "\n",
       "\\item Def. 8: \\texttt{alpha=1/3}, \\texttt{beta=1/3}\n",
       "\n",
       "\n",
       "\\item Def. 9: \\texttt{alpha=3/8}, \\texttt{beta=3/8}\n",
       "\n",
       "\\end{itemize}\n",
       "\\begin{quote}\n",
       "\\textbf{note}\n",
       "\n",
       "Note\n",
       "\n",
       "An \\texttt{ArgumentError} is thrown if \\texttt{v} contains \\texttt{NaN} or \\href{@ref}{\\texttt{missing}} values. Use the \\href{@ref}{\\texttt{skipmissing}} function to omit \\texttt{missing} entries and compute the quantiles of non-missing values.\n",
       "\n",
       "\\end{quote}\n",
       "\\section{References}\n",
       "\\begin{itemize}\n",
       "\\item Hyndman, R.J and Fan, Y. (1996) \"Sample Quantiles in Statistical Packages\", \\emph{The American Statistician}, Vol. 50, No. 4, pp. 361-365\n",
       "\n",
       "\n",
       "\\item \\href{https://en.m.wikipedia.org/wiki/Quantile}{Quantile on Wikipedia} details the different quantile definitions\n",
       "\n",
       "\\end{itemize}\n",
       "\\section{Examples}\n",
       "\\begin{verbatim}\n",
       "julia> using Statistics\n",
       "\n",
       "julia> quantile(0:20, 0.5)\n",
       "10.0\n",
       "\n",
       "julia> quantile(0:20, [0.1, 0.5, 0.9])\n",
       "3-element Vector{Float64}:\n",
       "  2.0\n",
       " 10.0\n",
       " 18.000000000000004\n",
       "\n",
       "julia> quantile(skipmissing([1, 10, missing]), 0.5)\n",
       "5.5\n",
       "\\end{verbatim}\n",
       "\\rule{\\textwidth}{1pt}\n",
       "\\begin{verbatim}\n",
       "quantile(v, w::AbstractWeights, p)\n",
       "\\end{verbatim}\n",
       "Compute the weighted quantiles of a vector \\texttt{v} at a specified set of probability values \\texttt{p}, using weights given by a weight vector \\texttt{w} (of type \\texttt{AbstractWeights}). Weights must not be negative. The weights and data vectors must have the same length. \\texttt{NaN} is returned if \\texttt{x} contains any \\texttt{NaN} values. An error is raised if \\texttt{w} contains any \\texttt{NaN} values.\n",
       "\n",
       "With \\href{@ref}{\\texttt{FrequencyWeights}}, the function returns the same result as \\texttt{quantile} for a vector with repeated values. Weights must be integers.\n",
       "\n",
       "With non \\texttt{FrequencyWeights},  denote $N$ the length of the vector, $w$ the vector of weights, $h = p (\\sum_{i \\leq N} w_i - w_1) + w_1$ the cumulative weight corresponding to the probability $p$ and $S_k = \\sum_{i \\leq k} w_i$ the cumulative weight for each observation, define $v_{k+1}$ the smallest element of \\texttt{v} such that $S_{k+1}$ is strictly superior to $h$. The weighted $p$ quantile is given by $v_k + \\gamma (v_{k+1} - v_k)$ with  $\\gamma = (h - S_k)/(S_{k+1} - S_k)$. In particular, when all weights are equal, the function returns the same result as the unweighted \\texttt{quantile}.\n",
       "\n",
       "\\rule{\\textwidth}{1pt}\n",
       "\\begin{verbatim}\n",
       "quantile(d::UnivariateDistribution, q::Real)\n",
       "\\end{verbatim}\n",
       "Evaluate the (generalized) inverse cumulative distribution function at \\texttt{q}.\n",
       "\n",
       "For a given \\texttt{0 ≤ q ≤ 1}, \\texttt{quantile(d, q)} is the smallest value \\texttt{x} in the support of \\texttt{d} for which \\texttt{cdf(d, x) ≥ q}.\n",
       "\n",
       "See also: \\href{@ref}{\\texttt{cquantile}}, \\href{@ref}{\\texttt{invlogcdf}}, and \\href{@ref}{\\texttt{invlogccdf}}.\n",
       "\n",
       "\\rule{\\textwidth}{1pt}\n",
       "\\begin{verbatim}\n",
       "quantile(chains[; q = [0.025, 0.25, 0.5, 0.75, 0.975], append_chains = true, kwargs...])\n",
       "\\end{verbatim}\n",
       "Compute the quantiles for each parameter in the chain.\n",
       "\n",
       "Setting \\texttt{append\\_chains=false} will return a vector of dataframes containing the quantiles for each chain.\n",
       "\n"
      ],
      "text/markdown": [
       "```\n",
       "quantile(itr, p; sorted=false, alpha::Real=1.0, beta::Real=alpha)\n",
       "```\n",
       "\n",
       "Compute the quantile(s) of a collection `itr` at a specified probability or vector or tuple of probabilities `p` on the interval [0,1]. The keyword argument `sorted` indicates whether `itr` can be assumed to be sorted.\n",
       "\n",
       "Samples quantile are defined by `Q(p) = (1-γ)*x[j] + γ*x[j+1]`, where `x[j]` is the j-th order statistic of `itr`, `j = floor(n*p + m)`, `m = alpha + p*(1 - alpha - beta)` and `γ = n*p + m - j`.\n",
       "\n",
       "By default (`alpha = beta = 1`), quantiles are computed via linear interpolation between the points `((k-1)/(n-1), x[k])`, for `k = 1:n` where `n = length(itr)`. This corresponds to Definition 7 of Hyndman and Fan (1996), and is the same as the R and NumPy default.\n",
       "\n",
       "The keyword arguments `alpha` and `beta` correspond to the same parameters in Hyndman and Fan, setting them to different values allows to calculate quantiles with any of the methods 4-9 defined in this paper:\n",
       "\n",
       "  * Def. 4: `alpha=0`, `beta=1`\n",
       "  * Def. 5: `alpha=0.5`, `beta=0.5` (MATLAB default)\n",
       "  * Def. 6: `alpha=0`, `beta=0` (Excel `PERCENTILE.EXC`, Python default, Stata `altdef`)\n",
       "  * Def. 7: `alpha=1`, `beta=1` (Julia, R and NumPy default, Excel `PERCENTILE` and `PERCENTILE.INC`, Python `'inclusive'`)\n",
       "  * Def. 8: `alpha=1/3`, `beta=1/3`\n",
       "  * Def. 9: `alpha=3/8`, `beta=3/8`\n",
       "\n",
       "!!! note\n",
       "    An `ArgumentError` is thrown if `v` contains `NaN` or [`missing`](@ref) values. Use the [`skipmissing`](@ref) function to omit `missing` entries and compute the quantiles of non-missing values.\n",
       "\n",
       "\n",
       "# References\n",
       "\n",
       "  * Hyndman, R.J and Fan, Y. (1996) \"Sample Quantiles in Statistical Packages\", *The American Statistician*, Vol. 50, No. 4, pp. 361-365\n",
       "  * [Quantile on Wikipedia](https://en.m.wikipedia.org/wiki/Quantile) details the different quantile definitions\n",
       "\n",
       "# Examples\n",
       "\n",
       "```jldoctest\n",
       "julia> using Statistics\n",
       "\n",
       "julia> quantile(0:20, 0.5)\n",
       "10.0\n",
       "\n",
       "julia> quantile(0:20, [0.1, 0.5, 0.9])\n",
       "3-element Vector{Float64}:\n",
       "  2.0\n",
       " 10.0\n",
       " 18.000000000000004\n",
       "\n",
       "julia> quantile(skipmissing([1, 10, missing]), 0.5)\n",
       "5.5\n",
       "```\n",
       "\n",
       "---\n",
       "\n",
       "```\n",
       "quantile(v, w::AbstractWeights, p)\n",
       "```\n",
       "\n",
       "Compute the weighted quantiles of a vector `v` at a specified set of probability values `p`, using weights given by a weight vector `w` (of type `AbstractWeights`). Weights must not be negative. The weights and data vectors must have the same length. `NaN` is returned if `x` contains any `NaN` values. An error is raised if `w` contains any `NaN` values.\n",
       "\n",
       "With [`FrequencyWeights`](@ref), the function returns the same result as `quantile` for a vector with repeated values. Weights must be integers.\n",
       "\n",
       "With non `FrequencyWeights`,  denote $N$ the length of the vector, $w$ the vector of weights, $h = p (\\sum_{i \\leq N} w_i - w_1) + w_1$ the cumulative weight corresponding to the probability $p$ and $S_k = \\sum_{i \\leq k} w_i$ the cumulative weight for each observation, define $v_{k+1}$ the smallest element of `v` such that $S_{k+1}$ is strictly superior to $h$. The weighted $p$ quantile is given by $v_k + \\gamma (v_{k+1} - v_k)$ with  $\\gamma = (h - S_k)/(S_{k+1} - S_k)$. In particular, when all weights are equal, the function returns the same result as the unweighted `quantile`.\n",
       "\n",
       "---\n",
       "\n",
       "```\n",
       "quantile(d::UnivariateDistribution, q::Real)\n",
       "```\n",
       "\n",
       "Evaluate the (generalized) inverse cumulative distribution function at `q`.\n",
       "\n",
       "For a given `0 ≤ q ≤ 1`, `quantile(d, q)` is the smallest value `x` in the support of `d` for which `cdf(d, x) ≥ q`.\n",
       "\n",
       "See also: [`cquantile`](@ref), [`invlogcdf`](@ref), and [`invlogccdf`](@ref).\n",
       "\n",
       "---\n",
       "\n",
       "```\n",
       "quantile(chains[; q = [0.025, 0.25, 0.5, 0.75, 0.975], append_chains = true, kwargs...])\n",
       "```\n",
       "\n",
       "Compute the quantiles for each parameter in the chain.\n",
       "\n",
       "Setting `append_chains=false` will return a vector of dataframes containing the quantiles for each chain.\n"
      ],
      "text/plain": [
       "\u001b[36m  quantile(itr, p; sorted=false, alpha::Real=1.0, beta::Real=alpha)\u001b[39m\n",
       "\n",
       "  Compute the quantile(s) of a collection \u001b[36mitr\u001b[39m at a specified probability or\n",
       "  vector or tuple of probabilities \u001b[36mp\u001b[39m on the interval [0,1]. The keyword\n",
       "  argument \u001b[36msorted\u001b[39m indicates whether \u001b[36mitr\u001b[39m can be assumed to be sorted.\n",
       "\n",
       "  Samples quantile are defined by \u001b[36mQ(p) = (1-γ)*x[j] + γ*x[j+1]\u001b[39m, where \u001b[36mx[j]\u001b[39m is\n",
       "  the j-th order statistic of \u001b[36mitr\u001b[39m, \u001b[36mj = floor(n*p + m)\u001b[39m, \u001b[36mm = alpha + p*(1 -\n",
       "  alpha - beta)\u001b[39m and \u001b[36mγ = n*p + m - j\u001b[39m.\n",
       "\n",
       "  By default (\u001b[36malpha = beta = 1\u001b[39m), quantiles are computed via linear\n",
       "  interpolation between the points \u001b[36m((k-1)/(n-1), x[k])\u001b[39m, for \u001b[36mk = 1:n\u001b[39m where \u001b[36mn =\n",
       "  length(itr)\u001b[39m. This corresponds to Definition 7 of Hyndman and Fan (1996), and\n",
       "  is the same as the R and NumPy default.\n",
       "\n",
       "  The keyword arguments \u001b[36malpha\u001b[39m and \u001b[36mbeta\u001b[39m correspond to the same parameters in\n",
       "  Hyndman and Fan, setting them to different values allows to calculate\n",
       "  quantiles with any of the methods 4-9 defined in this paper:\n",
       "\n",
       "    •  Def. 4: \u001b[36malpha=0\u001b[39m, \u001b[36mbeta=1\u001b[39m\n",
       "\n",
       "    •  Def. 5: \u001b[36malpha=0.5\u001b[39m, \u001b[36mbeta=0.5\u001b[39m (MATLAB default)\n",
       "\n",
       "    •  Def. 6: \u001b[36malpha=0\u001b[39m, \u001b[36mbeta=0\u001b[39m (Excel \u001b[36mPERCENTILE.EXC\u001b[39m, Python default,\n",
       "       Stata \u001b[36maltdef\u001b[39m)\n",
       "\n",
       "    •  Def. 7: \u001b[36malpha=1\u001b[39m, \u001b[36mbeta=1\u001b[39m (Julia, R and NumPy default, Excel\n",
       "       \u001b[36mPERCENTILE\u001b[39m and \u001b[36mPERCENTILE.INC\u001b[39m, Python \u001b[36m'inclusive'\u001b[39m)\n",
       "\n",
       "    •  Def. 8: \u001b[36malpha=1/3\u001b[39m, \u001b[36mbeta=1/3\u001b[39m\n",
       "\n",
       "    •  Def. 9: \u001b[36malpha=3/8\u001b[39m, \u001b[36mbeta=3/8\u001b[39m\n",
       "\n",
       "\u001b[36m\u001b[1m  │ \u001b[22m\u001b[39m\u001b[36m\u001b[1mNote\u001b[22m\u001b[39m\n",
       "\u001b[36m\u001b[1m  │\u001b[22m\u001b[39m\n",
       "\u001b[36m\u001b[1m  │\u001b[22m\u001b[39m  An \u001b[36mArgumentError\u001b[39m is thrown if \u001b[36mv\u001b[39m contains \u001b[36mNaN\u001b[39m or \u001b[36mmissing\u001b[39m values.\n",
       "\u001b[36m\u001b[1m  │\u001b[22m\u001b[39m  Use the \u001b[36mskipmissing\u001b[39m function to omit \u001b[36mmissing\u001b[39m entries and compute\n",
       "\u001b[36m\u001b[1m  │\u001b[22m\u001b[39m  the quantiles of non-missing values.\n",
       "\n",
       "\u001b[1m  References\u001b[22m\n",
       "\u001b[1m  ≡≡≡≡≡≡≡≡≡≡\u001b[22m\n",
       "\n",
       "    •  Hyndman, R.J and Fan, Y. (1996) \"Sample Quantiles in Statistical\n",
       "       Packages\", \u001b[4mThe American Statistician\u001b[24m, Vol. 50, No. 4, pp. 361-365\n",
       "\n",
       "    •  Quantile on Wikipedia (https://en.m.wikipedia.org/wiki/Quantile)\n",
       "       details the different quantile definitions\n",
       "\n",
       "\u001b[1m  Examples\u001b[22m\n",
       "\u001b[1m  ≡≡≡≡≡≡≡≡\u001b[22m\n",
       "\n",
       "\u001b[36m  julia> using Statistics\u001b[39m\n",
       "\u001b[36m  \u001b[39m\n",
       "\u001b[36m  julia> quantile(0:20, 0.5)\u001b[39m\n",
       "\u001b[36m  10.0\u001b[39m\n",
       "\u001b[36m  \u001b[39m\n",
       "\u001b[36m  julia> quantile(0:20, [0.1, 0.5, 0.9])\u001b[39m\n",
       "\u001b[36m  3-element Vector{Float64}:\u001b[39m\n",
       "\u001b[36m    2.0\u001b[39m\n",
       "\u001b[36m   10.0\u001b[39m\n",
       "\u001b[36m   18.000000000000004\u001b[39m\n",
       "\u001b[36m  \u001b[39m\n",
       "\u001b[36m  julia> quantile(skipmissing([1, 10, missing]), 0.5)\u001b[39m\n",
       "\u001b[36m  5.5\u001b[39m\n",
       "\n",
       "  ────────────────────────────────────────────────────────────────────────────\n",
       "\n",
       "\u001b[36m  quantile(v, w::AbstractWeights, p)\u001b[39m\n",
       "\n",
       "  Compute the weighted quantiles of a vector \u001b[36mv\u001b[39m at a specified set of\n",
       "  probability values \u001b[36mp\u001b[39m, using weights given by a weight vector \u001b[36mw\u001b[39m (of type\n",
       "  \u001b[36mAbstractWeights\u001b[39m). Weights must not be negative. The weights and data vectors\n",
       "  must have the same length. \u001b[36mNaN\u001b[39m is returned if \u001b[36mx\u001b[39m contains any \u001b[36mNaN\u001b[39m values. An\n",
       "  error is raised if \u001b[36mw\u001b[39m contains any \u001b[36mNaN\u001b[39m values.\n",
       "\n",
       "  With \u001b[36mFrequencyWeights\u001b[39m, the function returns the same result as \u001b[36mquantile\u001b[39m for\n",
       "  a vector with repeated values. Weights must be integers.\n",
       "\n",
       "  With non \u001b[36mFrequencyWeights\u001b[39m, denote \u001b[35mN\u001b[39m the length of the vector, \u001b[35mw\u001b[39m the vector\n",
       "  of weights, \u001b[35mh = p (\\sum_{i \\leq N} w_i - w_1) + w_1\u001b[39m the cumulative weight\n",
       "  corresponding to the probability \u001b[35mp\u001b[39m and \u001b[35mS_k = \\sum_{i \\leq k} w_i\u001b[39m the\n",
       "  cumulative weight for each observation, define \u001b[35mv_{k+1}\u001b[39m the smallest element\n",
       "  of \u001b[36mv\u001b[39m such that \u001b[35mS_{k+1}\u001b[39m is strictly superior to \u001b[35mh\u001b[39m. The weighted \u001b[35mp\u001b[39m quantile is\n",
       "  given by \u001b[35mv_k + \\gamma (v_{k+1} - v_k)\u001b[39m with \u001b[35m\\gamma = (h - S_k)/(S_{k+1} -\n",
       "  S_k)\u001b[39m. In particular, when all weights are equal, the function returns the\n",
       "  same result as the unweighted \u001b[36mquantile\u001b[39m.\n",
       "\n",
       "  ────────────────────────────────────────────────────────────────────────────\n",
       "\n",
       "\u001b[36m  quantile(d::UnivariateDistribution, q::Real)\u001b[39m\n",
       "\n",
       "  Evaluate the (generalized) inverse cumulative distribution function at \u001b[36mq\u001b[39m.\n",
       "\n",
       "  For a given \u001b[36m0 ≤ q ≤ 1\u001b[39m, \u001b[36mquantile(d, q)\u001b[39m is the smallest value \u001b[36mx\u001b[39m in the support\n",
       "  of \u001b[36md\u001b[39m for which \u001b[36mcdf(d, x) ≥ q\u001b[39m.\n",
       "\n",
       "  See also: \u001b[36mcquantile\u001b[39m, \u001b[36minvlogcdf\u001b[39m, and \u001b[36minvlogccdf\u001b[39m.\n",
       "\n",
       "  ────────────────────────────────────────────────────────────────────────────\n",
       "\n",
       "\u001b[36m  quantile(chains[; q = [0.025, 0.25, 0.5, 0.75, 0.975], append_chains = true, kwargs...])\u001b[39m\n",
       "\n",
       "  Compute the quantiles for each parameter in the chain.\n",
       "\n",
       "  Setting \u001b[36mappend_chains=false\u001b[39m will return a vector of dataframes containing\n",
       "  the quantiles for each chain."
      ]
     },
     "execution_count": 168,
     "metadata": {},
     "output_type": "execute_result"
    }
   ],
   "source": [
    "?quantile"
   ]
  },
  {
   "cell_type": "code",
   "execution_count": null,
   "id": "61ad0eea-a737-46a0-94ba-33404de4c381",
   "metadata": {},
   "outputs": [],
   "source": []
  }
 ],
 "metadata": {
  "kernelspec": {
   "display_name": "Julia 1.11.4",
   "language": "julia",
   "name": "julia-1.11"
  },
  "language_info": {
   "file_extension": ".jl",
   "mimetype": "application/julia",
   "name": "julia",
   "version": "1.11.4"
  }
 },
 "nbformat": 4,
 "nbformat_minor": 5
}
