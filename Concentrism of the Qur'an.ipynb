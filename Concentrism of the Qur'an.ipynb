{
 "cells": [
  {
   "cell_type": "markdown",
   "id": "fac8922b-039d-47ec-806e-c1f6150a1368",
   "metadata": {},
   "source": [
    " ## بسم الله الرّحمٰن الرّحيم "
   ]
  },
  {
   "cell_type": "markdown",
   "id": "00ad8a11-81d0-4a2d-90de-2095df58b0a8",
   "metadata": {},
   "source": [
    "# Theory of Concentrism in the Qur'an using Genetic Algorithm with CL-AraBERT Embeddings\n",
    "\n",
    "_by Al-Ahmadgaid B. Asaad_"
   ]
  },
  {
   "cell_type": "markdown",
   "id": "4afc8683-4863-4715-8da6-4101afe86eb7",
   "metadata": {
    "jp-MarkdownHeadingCollapsed": true
   },
   "source": [
    "#### Install Python Libraries\n",
    "\n",
    "There are Julia's equivalent for the following Python libraries, but for this paper the author decided to use the official one which is in Python."
   ]
  },
  {
   "cell_type": "code",
   "execution_count": 11,
   "id": "4fb5577e-8bc9-481f-85dc-bf2b76a7d88d",
   "metadata": {},
   "outputs": [
    {
     "name": "stderr",
     "output_type": "stream",
     "text": [
      "\u001b[32m\u001b[1m    Building\u001b[22m\u001b[39m Conda ─→ `~/.julia/scratchspaces/44cfe95a-1eb2-52ea-b672-e2afdf69b78f/b19db3927f0db4151cb86d073689f2428e524576/build.log`\n",
      "\u001b[32m\u001b[1m    Building\u001b[22m\u001b[39m PyCall → `~/.julia/scratchspaces/44cfe95a-1eb2-52ea-b672-e2afdf69b78f/9816a3826b0ebf49ab4926e2b18842ad8b5c8f04/build.log`\n"
     ]
    }
   ],
   "source": [
    "using Pkg\n",
    "\n",
    "ENV[\"PYTHON\"]=\"\" # necessary for Conda.pip\n",
    "Pkg.build(\"PyCall\")"
   ]
  },
  {
   "cell_type": "code",
   "execution_count": 12,
   "id": "fd2aea44-662c-464e-8df6-9e5d5ed943bb",
   "metadata": {},
   "outputs": [
    {
     "name": "stderr",
     "output_type": "stream",
     "text": [
      "\u001b[36m\u001b[1m[ \u001b[22m\u001b[39m\u001b[36m\u001b[1mInfo: \u001b[22m\u001b[39mRunning `conda config --set pip_interop_enabled true --file /Users/al-ahmadgaidasaad/.julia/conda/3/aarch64/condarc-julia.yml` in root environment\n",
      "\u001b[36m\u001b[1m[ \u001b[22m\u001b[39m\u001b[36m\u001b[1mInfo: \u001b[22m\u001b[39mRunning `pip install sentence-transformers` in root environment\n"
     ]
    },
    {
     "name": "stdout",
     "output_type": "stream",
     "text": [
      "Requirement already satisfied: sentence-transformers in /Users/al-ahmadgaidasaad/.julia/conda/3/aarch64/lib/python3.10/site-packages (3.4.1)\n",
      "Requirement already satisfied: transformers<5.0.0,>=4.41.0 in /Users/al-ahmadgaidasaad/.julia/conda/3/aarch64/lib/python3.10/site-packages (from sentence-transformers) (4.49.0)\n",
      "Requirement already satisfied: tqdm in /Users/al-ahmadgaidasaad/.julia/conda/3/aarch64/lib/python3.10/site-packages (from sentence-transformers) (4.66.1)\n",
      "Requirement already satisfied: torch>=1.11.0 in /Users/al-ahmadgaidasaad/.julia/conda/3/aarch64/lib/python3.10/site-packages (from sentence-transformers) (2.2.1)\n",
      "Requirement already satisfied: scikit-learn in /Users/al-ahmadgaidasaad/.julia/conda/3/aarch64/lib/python3.10/site-packages (from sentence-transformers) (1.6.1)\n",
      "Requirement already satisfied: scipy in /Users/al-ahmadgaidasaad/.julia/conda/3/aarch64/lib/python3.10/site-packages (from sentence-transformers) (1.15.2)\n",
      "Requirement already satisfied: huggingface-hub>=0.20.0 in /Users/al-ahmadgaidasaad/.julia/conda/3/aarch64/lib/python3.10/site-packages (from sentence-transformers) (0.29.3)\n",
      "Requirement already satisfied: Pillow in /Users/al-ahmadgaidasaad/.julia/conda/3/aarch64/lib/python3.10/site-packages (from sentence-transformers) (10.2.0)\n",
      "Requirement already satisfied: filelock in /Users/al-ahmadgaidasaad/.julia/conda/3/aarch64/lib/python3.10/site-packages (from huggingface-hub>=0.20.0->sentence-transformers) (3.13.1)\n",
      "Requirement already satisfied: fsspec>=2023.5.0 in /Users/al-ahmadgaidasaad/.julia/conda/3/aarch64/lib/python3.10/site-packages (from huggingface-hub>=0.20.0->sentence-transformers) (2024.3.1)\n",
      "Requirement already satisfied: packaging>=20.9 in /Users/al-ahmadgaidasaad/.julia/conda/3/aarch64/lib/python3.10/site-packages (from huggingface-hub>=0.20.0->sentence-transformers) (23.2)\n",
      "Requirement already satisfied: pyyaml>=5.1 in /Users/al-ahmadgaidasaad/.julia/conda/3/aarch64/lib/python3.10/site-packages (from huggingface-hub>=0.20.0->sentence-transformers) (6.0.2)\n",
      "Requirement already satisfied: requests in /Users/al-ahmadgaidasaad/.julia/conda/3/aarch64/lib/python3.10/site-packages (from huggingface-hub>=0.20.0->sentence-transformers) (2.31.0)\n",
      "Requirement already satisfied: typing-extensions>=3.7.4.3 in /Users/al-ahmadgaidasaad/.julia/conda/3/aarch64/lib/python3.10/site-packages (from huggingface-hub>=0.20.0->sentence-transformers) (4.10.0)\n",
      "Requirement already satisfied: sympy in /Users/al-ahmadgaidasaad/.julia/conda/3/aarch64/lib/python3.10/site-packages (from torch>=1.11.0->sentence-transformers) (1.12)\n",
      "Requirement already satisfied: networkx in /Users/al-ahmadgaidasaad/.julia/conda/3/aarch64/lib/python3.10/site-packages (from torch>=1.11.0->sentence-transformers) (3.2.1)\n",
      "Requirement already satisfied: jinja2 in /Users/al-ahmadgaidasaad/.julia/conda/3/aarch64/lib/python3.10/site-packages (from torch>=1.11.0->sentence-transformers) (3.1.3)\n",
      "Requirement already satisfied: numpy>=1.17 in /Users/al-ahmadgaidasaad/.julia/conda/3/aarch64/lib/python3.10/site-packages (from transformers<5.0.0,>=4.41.0->sentence-transformers) (1.26.4)\n",
      "Requirement already satisfied: regex!=2019.12.17 in /Users/al-ahmadgaidasaad/.julia/conda/3/aarch64/lib/python3.10/site-packages (from transformers<5.0.0,>=4.41.0->sentence-transformers) (2024.11.6)\n",
      "Requirement already satisfied: tokenizers<0.22,>=0.21 in /Users/al-ahmadgaidasaad/.julia/conda/3/aarch64/lib/python3.10/site-packages (from transformers<5.0.0,>=4.41.0->sentence-transformers) (0.21.1)\n",
      "Requirement already satisfied: safetensors>=0.4.1 in /Users/al-ahmadgaidasaad/.julia/conda/3/aarch64/lib/python3.10/site-packages (from transformers<5.0.0,>=4.41.0->sentence-transformers) (0.5.3)\n",
      "Requirement already satisfied: joblib>=1.2.0 in /Users/al-ahmadgaidasaad/.julia/conda/3/aarch64/lib/python3.10/site-packages (from scikit-learn->sentence-transformers) (1.4.2)\n",
      "Requirement already satisfied: threadpoolctl>=3.1.0 in /Users/al-ahmadgaidasaad/.julia/conda/3/aarch64/lib/python3.10/site-packages (from scikit-learn->sentence-transformers) (3.6.0)\n",
      "Requirement already satisfied: MarkupSafe>=2.0 in /Users/al-ahmadgaidasaad/.julia/conda/3/aarch64/lib/python3.10/site-packages (from jinja2->torch>=1.11.0->sentence-transformers) (2.1.5)\n",
      "Requirement already satisfied: charset-normalizer<4,>=2 in /Users/al-ahmadgaidasaad/.julia/conda/3/aarch64/lib/python3.10/site-packages (from requests->huggingface-hub>=0.20.0->sentence-transformers) (3.3.2)\n",
      "Requirement already satisfied: idna<4,>=2.5 in /Users/al-ahmadgaidasaad/.julia/conda/3/aarch64/lib/python3.10/site-packages (from requests->huggingface-hub>=0.20.0->sentence-transformers) (3.6)\n",
      "Requirement already satisfied: urllib3<3,>=1.21.1 in /Users/al-ahmadgaidasaad/.julia/conda/3/aarch64/lib/python3.10/site-packages (from requests->huggingface-hub>=0.20.0->sentence-transformers) (2.1.0)\n",
      "Requirement already satisfied: certifi>=2017.4.17 in /Users/al-ahmadgaidasaad/.julia/conda/3/aarch64/lib/python3.10/site-packages (from requests->huggingface-hub>=0.20.0->sentence-transformers) (2025.1.31)\n",
      "Requirement already satisfied: mpmath>=0.19 in /Users/al-ahmadgaidasaad/.julia/conda/3/aarch64/lib/python3.10/site-packages (from sympy->torch>=1.11.0->sentence-transformers) (1.3.0)\n"
     ]
    },
    {
     "name": "stderr",
     "output_type": "stream",
     "text": [
      "\u001b[36m\u001b[1m[ \u001b[22m\u001b[39m\u001b[36m\u001b[1mInfo: \u001b[22m\u001b[39mRunning `pip install umap-learn` in root environment\n"
     ]
    },
    {
     "name": "stdout",
     "output_type": "stream",
     "text": [
      "Requirement already satisfied: umap-learn in /Users/al-ahmadgaidasaad/.julia/conda/3/aarch64/lib/python3.10/site-packages (0.5.7)\n",
      "Requirement already satisfied: numpy>=1.17 in /Users/al-ahmadgaidasaad/.julia/conda/3/aarch64/lib/python3.10/site-packages (from umap-learn) (1.26.4)\n",
      "Requirement already satisfied: scipy>=1.3.1 in /Users/al-ahmadgaidasaad/.julia/conda/3/aarch64/lib/python3.10/site-packages (from umap-learn) (1.15.2)\n",
      "Requirement already satisfied: scikit-learn>=0.22 in /Users/al-ahmadgaidasaad/.julia/conda/3/aarch64/lib/python3.10/site-packages (from umap-learn) (1.6.1)\n",
      "Requirement already satisfied: numba>=0.51.2 in /Users/al-ahmadgaidasaad/.julia/conda/3/aarch64/lib/python3.10/site-packages (from umap-learn) (0.61.0)\n",
      "Requirement already satisfied: pynndescent>=0.5 in /Users/al-ahmadgaidasaad/.julia/conda/3/aarch64/lib/python3.10/site-packages (from umap-learn) (0.5.13)\n",
      "Requirement already satisfied: tqdm in /Users/al-ahmadgaidasaad/.julia/conda/3/aarch64/lib/python3.10/site-packages (from umap-learn) (4.66.1)\n",
      "Requirement already satisfied: llvmlite<0.45,>=0.44.0dev0 in /Users/al-ahmadgaidasaad/.julia/conda/3/aarch64/lib/python3.10/site-packages (from numba>=0.51.2->umap-learn) (0.44.0)\n",
      "Requirement already satisfied: joblib>=0.11 in /Users/al-ahmadgaidasaad/.julia/conda/3/aarch64/lib/python3.10/site-packages (from pynndescent>=0.5->umap-learn) (1.4.2)\n",
      "Requirement already satisfied: threadpoolctl>=3.1.0 in /Users/al-ahmadgaidasaad/.julia/conda/3/aarch64/lib/python3.10/site-packages (from scikit-learn>=0.22->umap-learn) (3.6.0)\n"
     ]
    }
   ],
   "source": [
    "using Conda\n",
    "\n",
    "Conda.pip_interop(true)\n",
    "Conda.pip(\"install\", \"sentence-transformers\")\n",
    "Conda.pip(\"install\", \"umap-learn\")"
   ]
  },
  {
   "cell_type": "markdown",
   "id": "60e501dc-635c-4112-90d8-7e5911eb8ce4",
   "metadata": {},
   "source": [
    "#### Load Libraries"
   ]
  },
  {
   "cell_type": "code",
   "execution_count": 1,
   "id": "f7801521-c95c-41af-a36b-466bd7371959",
   "metadata": {},
   "outputs": [],
   "source": [
    "using CairoMakie\n",
    "using Clustering\n",
    "using DataFrames\n",
    "using Distributions\n",
    "using Distances\n",
    "using PyCall\n",
    "using QuranTree\n",
    "using Statistics\n",
    "using Yunir\n",
    "\n",
    "import Base: show"
   ]
  },
  {
   "cell_type": "code",
   "execution_count": 2,
   "id": "632fb14e-7096-469e-90cb-7981bf344846",
   "metadata": {},
   "outputs": [
    {
     "data": {
      "text/plain": [
       "PyObject <class 'umap.umap_.UMAP'>"
      ]
     },
     "execution_count": 2,
     "metadata": {},
     "output_type": "execute_result"
    }
   ],
   "source": [
    "# load the python libraries\n",
    "sentence_transformers = pyimport(\"sentence_transformers\")\n",
    "umap_py = pyimport(\"umap.umap_\")\n",
    "UMAP = umap_py.UMAP"
   ]
  },
  {
   "cell_type": "markdown",
   "id": "c7db7f03-50eb-41a2-89c1-62ac6c5514da",
   "metadata": {},
   "source": [
    "#### Load CL-Arabert Embedding Model"
   ]
  },
  {
   "cell_type": "code",
   "execution_count": 3,
   "id": "c6f4da17-cddb-4962-9fff-81f304994cb6",
   "metadata": {},
   "outputs": [
    {
     "name": "stderr",
     "output_type": "stream",
     "text": [
      "No sentence-transformers model found with name /Users/al-ahmadgaidasaad/Documents/School/Islamic Studies/ma-thesis-codes/models/CL-Arabert. Creating a new one with mean pooling.\n"
     ]
    }
   ],
   "source": [
    "model_path = \"/Users/al-ahmadgaidasaad/Documents/School/Islamic Studies/ma-thesis-codes/models/CL-Arabert\"\n",
    "emodel = sentence_transformers.SentenceTransformer(model_path);"
   ]
  },
  {
   "cell_type": "markdown",
   "id": "a80ebcec-81a8-4727-ac41-b4ec0b9f2964",
   "metadata": {},
   "source": [
    "#### Load Qur'an Data"
   ]
  },
  {
   "cell_type": "code",
   "execution_count": 4,
   "id": "e6333b2c-9b52-4eaa-9d09-42d37632145c",
   "metadata": {
    "scrolled": true
   },
   "outputs": [
    {
     "data": {
      "text/plain": [
       "Tanzil Quran Text (Uthmani)\n",
       "(C) 2008-2010 Tanzil.net\n",
       "\n",
       "\u001b[1m6236×3 DataFrame\u001b[0m\n",
       "\u001b[1m  Row \u001b[0m│\u001b[1m chapter \u001b[0m\u001b[1m verse \u001b[0m\u001b[1m form                              \u001b[0m\n",
       "      │\u001b[90m Int64   \u001b[0m\u001b[90m Int64 \u001b[0m\u001b[90m String                            \u001b[0m\n",
       "──────┼───────────────────────────────────────────────────\n",
       "    1 │       1      1  بِسْمِ ٱللَّهِ ٱلرَّحْمَٰنِ ٱلرَّحِيمِ\n",
       "    2 │       1      2  ٱلْحَمْدُ لِلَّهِ رَبِّ ٱلْعَٰلَمِينَ\n",
       "    3 │       1      3  ٱلرَّحْمَٰنِ ٱلرَّحِيمِ\n",
       "    4 │       1      4  مَٰلِكِ يَوْمِ ٱلدِّينِ\n",
       "    5 │       1      5  إِيَّاكَ نَعْبُدُ وَإِيَّاكَ نَسْتَعِينُ\n",
       "    6 │       1      6  ٱهْدِنَا ٱلصِّرَٰطَ ٱلْمُسْتَقِيمَ\n",
       "    7 │       1      7  صِرَٰطَ ٱلَّذِينَ أَنْعَمْتَ عَلَيْهِمْ غَيْرِ ٱلْمَغْضُو…\n",
       "    8 │       2      1  بِسْمِ ٱللَّهِ ٱلرَّحْمَٰنِ ٱلرَّحِيمِ الٓمٓ\n",
       "    9 │       2      2  ذَٰلِكَ ٱلْكِتَٰبُ لَا رَيْبَ فِيهِ هُدًى لِّلْمُتَّقِينَ\n",
       "   10 │       2      3  ٱلَّذِينَ يُؤْمِنُونَ بِٱلْغَيْبِ وَيُقِيمُونَ ٱلصَّل…\n",
       "   11 │       2      4  وَٱلَّذِينَ يُؤْمِنُونَ بِمَآ أُنزِلَ إِلَيْكَ وَمَآ …\n",
       "  ⋮   │    ⋮       ⋮                    ⋮\n",
       " 6227 │     113      2  مِن شَرِّ مَا خَلَقَ\n",
       " 6228 │     113      3  وَمِن شَرِّ غَاسِقٍ إِذَا وَقَبَ\n",
       " 6229 │     113      4  وَمِن شَرِّ ٱلنَّفَّٰثَٰتِ فِى ٱلْعُقَدِ\n",
       " 6230 │     113      5  وَمِن شَرِّ حَاسِدٍ إِذَا حَسَدَ\n",
       " 6231 │     114      1  بِسْمِ ٱللَّهِ ٱلرَّحْمَٰنِ ٱلرَّحِيمِ قُلْ أَعُوذُ ب…\n",
       " 6232 │     114      2  مَلِكِ ٱلنَّاسِ\n",
       " 6233 │     114      3  إِلَٰهِ ٱلنَّاسِ\n",
       " 6234 │     114      4  مِن شَرِّ ٱلْوَسْوَاسِ ٱلْخَنَّاسِ\n",
       " 6235 │     114      5  ٱلَّذِى يُوَسْوِسُ فِى صُدُورِ ٱلنَّاسِ\n",
       " 6236 │     114      6  مِنَ ٱلْجِنَّةِ وَٱلنَّاسِ\n",
       "\u001b[36m                                         6215 rows omitted\u001b[0m\n"
      ]
     },
     "execution_count": 4,
     "metadata": {},
     "output_type": "execute_result"
    }
   ],
   "source": [
    "_, tnzl = load(QuranData());\n",
    "tnzl_tbl = table(tnzl)"
   ]
  },
  {
   "cell_type": "code",
   "execution_count": 5,
   "id": "eeaa76a5-e67c-4eb3-9eb7-095dad5d5877",
   "metadata": {},
   "outputs": [
    {
     "data": {
      "text/plain": [
       "Slicer"
      ]
     },
     "execution_count": 5,
     "metadata": {},
     "output_type": "execute_result"
    }
   ],
   "source": [
    "\"\"\"\n",
    "Slicer Configuration\n",
    "\n",
    "params:\n",
    "    num_slices - number of slices\n",
    "    var_slices - variability of slices, parameter for Dirichlet distribution\n",
    "\"\"\"\n",
    "struct Slicer\n",
    "    num_slices::Int64\n",
    "    var_slices::Union{Float64,Vector{Float64}}\n",
    "end"
   ]
  },
  {
   "cell_type": "code",
   "execution_count": 6,
   "id": "74f589d6-2c39-4dfe-919a-de528fab0ee3",
   "metadata": {},
   "outputs": [
    {
     "data": {
      "text/plain": [
       "show (generic function with 710 methods)"
      ]
     },
     "execution_count": 6,
     "metadata": {},
     "output_type": "execute_result"
    }
   ],
   "source": [
    "\"\"\"\n",
    "Ayah Embeddings Type\n",
    "\n",
    "params:\n",
    "    num_slices - number of slices\n",
    "    var_slices - variability of slices, parameter for Dirichlet distribution\n",
    "\"\"\"\n",
    "struct AyahEmbeddings{T <: Union{Float32,Float64}}\n",
    "    emb::Matrix{T} \n",
    "end\n",
    "\n",
    "function show(io::IO, ::MIME\"text/plain\", ae::AyahEmbeddings{T}) where T\n",
    "    print(io, \"AyahEmbeddings{$T), \")\n",
    "    show(io, MIME(\"text/plain\"), ae.emb)\n",
    "end"
   ]
  },
  {
   "cell_type": "code",
   "execution_count": 7,
   "id": "086cb377-9a6c-4679-970e-790cd52dff9b",
   "metadata": {},
   "outputs": [
    {
     "data": {
      "text/plain": [
       "AyahEmbeddings{Float32), 286×768 Matrix{Float32}:\n",
       " 0.531018  -0.132496    -0.756551   …  -0.305054   0.989819   0.201078\n",
       " 0.784264  -0.187889     0.303152       0.0520253  0.646556   0.616321\n",
       " 0.677887  -0.778916    -0.807045      -0.0719035  1.12943    0.859909\n",
       " 0.506211  -0.325038    -0.502814       0.459864   1.43758    0.466729\n",
       " 0.269263  -0.194165    -0.539852      -0.0628042  0.77668    0.554814\n",
       " 0.467806  -0.373838    -0.0348215  …   0.392261   1.14069    0.293043\n",
       " 0.886688  -0.527031    -0.530024      -0.0749496  0.983624   0.308669\n",
       " 0.60995   -0.301923    -0.17381        0.103315   0.984032   0.482254\n",
       " 0.412077  -0.309258    -0.512169       0.890515   0.994584   0.67909\n",
       " 0.996288  -0.699789    -0.477904      -0.24042    0.772055   0.535724\n",
       " 0.123426  -0.530353     0.13315    …   0.0387213  0.998667   0.42128\n",
       " 0.153852   0.00949113  -0.474826       0.17242    0.753725  -0.188628\n",
       " 0.563945  -0.655017    -0.349274      -0.40291    1.35588    0.388349\n",
       " ⋮                                  ⋱   ⋮                    \n",
       " 0.457982  -0.349307    -0.767028       0.269204   1.19339    0.180518\n",
       " 0.414426  -0.287983    -0.561887   …  -0.13756    0.917267   0.467317\n",
       " 0.821485  -0.657224    -0.579525      -0.284125   1.41519    0.568\n",
       " 0.280858  -0.634579    -0.262929       0.0502098  1.10874    0.686531\n",
       " 0.238448  -0.516905    -0.188398      -0.267457   1.38315    0.254447\n",
       " 0.397988  -0.391       -0.311192      -0.31344    0.528317   0.838531\n",
       " 0.202748  -0.183058    -0.257659   …  -0.211391   0.522102   0.131905\n",
       " 0.221918  -0.479004    -0.533618      -0.346529   1.10915    0.625812\n",
       " 0.143688  -0.525937    -0.55367       -0.325207   0.739349   0.730875\n",
       " 0.536415  -0.434458    -0.0741441     -0.183107   1.18414    0.479051\n",
       " 0.562232  -0.065971    -0.370037       0.232082   1.58215    0.433619\n",
       " 0.39352   -0.385343    -0.694224   …   0.147076   1.70726    0.456136"
      ]
     },
     "execution_count": 7,
     "metadata": {},
     "output_type": "execute_result"
    }
   ],
   "source": [
    "ayahs_ver = verses(tnzl_tbl[2]);\n",
    "ayahs_emb = AyahEmbeddings(emodel.encode(ayahs_ver))"
   ]
  },
  {
   "cell_type": "code",
   "execution_count": 8,
   "id": "f21493c4-9feb-4517-956f-6eb7fac27ff0",
   "metadata": {},
   "outputs": [
    {
     "data": {
      "text/plain": [
       "gen_slices"
      ]
     },
     "execution_count": 8,
     "metadata": {},
     "output_type": "execute_result"
    }
   ],
   "source": [
    "\"\"\"\n",
    "Slices Generator\n",
    "\n",
    "params:\n",
    "    n - number of samples of slices to generate\n",
    "    slicer - Slicer configuration\n",
    "    ayahs_emb - the embeddings to slice\n",
    "\"\"\"\n",
    "function gen_slices(ayahs_emb::AyahEmbeddings{T}, n::Integer, slicer::Slicer)::Vector{Vector{AyahEmbeddings{T}}} where T <: Union{Float32,Float64}\n",
    "    ayahs_emb = ayahs_emb.emb\n",
    "    if slicer.var_slices isa Float64\n",
    "        dir_samples = rand(Dirichlet(repeat([slicer.var_slices], slicer.num_slices - 1)), n)    \n",
    "    else\n",
    "        if slicer.num_slices != length(slicer.var_slices)\n",
    "            error(\"Slicer.num_slices should be equal to length of Slicer.var_slices\")\n",
    "        else\n",
    "            dir_samples = rand(Dirichlet(slicer.var_slices), n)\n",
    "        end\n",
    "    end\n",
    "\n",
    "    # proportion the ayahs into slices using Dirichlet samples\n",
    "    midpoints = Int64.(floor.(size(ayahs_emb)[1] .* dir_samples))\n",
    "    midpoints = mapslices(sort, midpoints, dims=1)\n",
    "    midpoints = unique(midpoints, dims=2) # drop any duplicate samples\n",
    "    \n",
    "    slices = Vector{AyahEmbeddings{<:Union{Float32,Float64}}}[]\n",
    "    mp_size = size(midpoints)\n",
    "    for j in 1:mp_size[2]\n",
    "        slice = AyahEmbeddings{<:Union{Float32,Float64}}[]\n",
    "        for i in 1:mp_size[1]\n",
    "            if i == 1\n",
    "                if midpoints[i, j] == 0\n",
    "                    push!(slice, ayahs_emb[1:1, :] |> AyahEmbeddings)\n",
    "                else\n",
    "                    push!(slice, ayahs_emb[1:midpoints[i, j],:] |> AyahEmbeddings)\n",
    "                end\n",
    "            elseif i < mp_size[1]\n",
    "                if midpoints[i-1, j] == midpoints[i, j]\n",
    "                    push!(slice, ayahs_emb[(midpoints[i-1, j]+1):midpoints[i, j]+2,:] |> AyahEmbeddings)\n",
    "                else\n",
    "                    push!(slice, ayahs_emb[(midpoints[i-1, j]+1):midpoints[i, j],:] |> AyahEmbeddings)\n",
    "                end\n",
    "            else\n",
    "                if midpoints[i-1, j] == midpoints[i, j]\n",
    "                    push!(slice, ayahs_emb[(midpoints[i-1, j]+1):midpoints[i, j]+2,:] |> AyahEmbeddings)\n",
    "                    push!(slice, ayahs_emb[(midpoints[i, j]+1):end,:] |> AyahEmbeddings)\n",
    "                else\n",
    "                    push!(slice, ayahs_emb[(midpoints[i-1, j]+1):midpoints[i, j],:] |> AyahEmbeddings)\n",
    "                    push!(slice, ayahs_emb[(midpoints[i, j]+1):end,:] |> AyahEmbeddings)\n",
    "                end\n",
    "            end\n",
    "        end\n",
    "        push!(slices, slice)\n",
    "    end\n",
    "    return slices\n",
    "end"
   ]
  },
  {
   "cell_type": "code",
   "execution_count": 9,
   "id": "1cd97a5e-3fc1-4bcd-835b-06813124a034",
   "metadata": {},
   "outputs": [
    {
     "data": {
      "text/plain": [
       "five_summary (generic function with 2 methods)"
      ]
     },
     "execution_count": 9,
     "metadata": {},
     "output_type": "execute_result"
    }
   ],
   "source": [
    "\"\"\"\n",
    "Compute Five Number Summary\n",
    "\n",
    "five_summary(v::Vector{T}) where T<:Union{Float32,Float64}\n",
    "params:\n",
    "    v - data (e.g. embeddings)\n",
    "\n",
    "five_summary(slices::Vector{Vector{Matrix{T}}}) where T<:Union{Float32,Float64}\n",
    "params:\n",
    "    slices - slices of data (e.g. ayah embeddings)\n",
    "\"\"\"\n",
    "function five_summary(v::Vector{T})::Vector{T} where T <: Union{Float32,Float64}\n",
    "    sv = sort(v)\n",
    "\n",
    "    min = minimum(sv)\n",
    "    q1 = quantile(sv, 0.25)\n",
    "    med = median(sv)\n",
    "    q3 = quantile(sv, 0.5)\n",
    "    max = maximum(sv)\n",
    "\n",
    "    return [min, q1, med, q3, max]\n",
    "end\n",
    "\n",
    "function five_summary(slices::Vector{Vector{AyahEmbeddings{T}}})::Vector{Vector{AyahEmbeddings{T}}} where T <: Union{Float32,Float64}\n",
    "    five_nums = Vector{AyahEmbeddings{<:Union{Float32,Float64}}}[]\n",
    "    for slice in slices\n",
    "        five_num = AyahEmbeddings{<:Union{Float32,Float64}}[]\n",
    "        for i in 1:size(slice)[1]\n",
    "            push!(five_num, mapslices(five_summary, slice[i].emb, dims=1) |> AyahEmbeddings)\n",
    "        end\n",
    "        push!(five_nums, five_num)\n",
    "    end\n",
    "    return five_nums\n",
    "end"
   ]
  },
  {
   "cell_type": "code",
   "execution_count": 15,
   "id": "48529fb1-3f5c-4969-b839-57c03a984b8f",
   "metadata": {},
   "outputs": [
    {
     "data": {
      "text/plain": [
       "show (generic function with 711 methods)"
      ]
     },
     "execution_count": 15,
     "metadata": {},
     "output_type": "execute_result"
    }
   ],
   "source": [
    "struct AyahDistances{T <: Union{Float32,Float64}}\n",
    "    dist::Vector{T}\n",
    "end\n",
    "\n",
    "function show(io::IO, ::MIME\"text/plain\", ae::AyahDistances{T}) where T\n",
    "    print(io, \"AyahDistances{$T}, \")\n",
    "    show(io, MIME(\"text/plain\"), ae.dist)\n",
    "end"
   ]
  },
  {
   "cell_type": "code",
   "execution_count": 16,
   "id": "1a160019-0ba7-413d-af30-83e52c34f531",
   "metadata": {},
   "outputs": [
    {
     "data": {
      "text/plain": [
       "distance"
      ]
     },
     "execution_count": 16,
     "metadata": {},
     "output_type": "execute_result"
    }
   ],
   "source": [
    "\"\"\"\n",
    "Circular-wise Computation of the Distance of Slices\n",
    "\n",
    "params:\n",
    "    five_nums - five number summaries\n",
    "    slicer - Slicer configuration\n",
    "    dist - a Distances UnionSemiMetric\n",
    "\"\"\"\n",
    "function distance(five_nums::Vector{Vector{AyahEmbeddings{T}}}, slicer::Slicer, dist::Distances.UnionSemiMetric)::AyahDistances{Float64} where T <: Union{Float32,Float64}\n",
    "    med_idx = Int64(median(1:slicer.num_slices))\n",
    "    costs = Float64[]\n",
    "    for five_num in five_nums\n",
    "        cost = Float64[]\n",
    "        for i in 1:(med_idx-1)\n",
    "            ring_dist = sum(abs.(colwise(dist, five_num[i].emb, five_num[end-i+1].emb)))\n",
    "            cen_lower = sum(abs.(colwise(dist, five_num[med_idx].emb, five_num[i].emb)))\n",
    "            cen_upper = sum(abs.(colwise(dist, five_num[med_idx].emb, five_num[end-i+1].emb)))\n",
    "            \n",
    "            push!(cost, ring_dist)\n",
    "            push!(cost, cen_lower)\n",
    "            push!(cost, cen_upper)\n",
    "        end\n",
    "        push!(costs, sum(cost))\n",
    "    end\n",
    "    return AyahDistances(costs)\n",
    "end"
   ]
  },
  {
   "cell_type": "code",
   "execution_count": 17,
   "id": "6ab97d8d-1629-4e5e-a43a-7b2d945d77b3",
   "metadata": {},
   "outputs": [
    {
     "data": {
      "text/plain": [
       "AyahEmbeddings{Float32), 1×768 Matrix{Float32}:\n",
       " 0.531018  -0.132496  -0.756551  0.111261  …  -0.305054  0.989819  0.201078"
      ]
     },
     "execution_count": 17,
     "metadata": {},
     "output_type": "execute_result"
    }
   ],
   "source": [
    "slicer = Slicer(7, 1.5)\n",
    "slices = gen_slices(ayahs_emb, 10, slicer)\n",
    "slices[1][1]"
   ]
  },
  {
   "cell_type": "code",
   "execution_count": 18,
   "id": "0fc495a9-2bb9-4c7d-9997-4708c551c5ca",
   "metadata": {},
   "outputs": [
    {
     "data": {
      "text/plain": [
       "AyahEmbeddings{Float32), 5×768 Matrix{Float32}:\n",
       " 0.531018  -0.132496  -0.756551  0.111261  …  -0.305054  0.989819  0.201078\n",
       " 0.531018  -0.132496  -0.756551  0.111261     -0.305054  0.989819  0.201078\n",
       " 0.531018  -0.132496  -0.756551  0.111261     -0.305054  0.989819  0.201078\n",
       " 0.531018  -0.132496  -0.756551  0.111261     -0.305054  0.989819  0.201078\n",
       " 0.531018  -0.132496  -0.756551  0.111261     -0.305054  0.989819  0.201078"
      ]
     },
     "execution_count": 18,
     "metadata": {},
     "output_type": "execute_result"
    }
   ],
   "source": [
    "five_nums = five_summary(slices)\n",
    "five_nums[1][1]"
   ]
  },
  {
   "cell_type": "markdown",
   "id": "c26ec5ee-ca24-4dbf-aa7d-6c94f4008964",
   "metadata": {},
   "source": [
    "### Computing Distances"
   ]
  },
  {
   "cell_type": "code",
   "execution_count": 20,
   "id": "5fc8c5c9-dfbd-4750-bdf1-25874d763960",
   "metadata": {},
   "outputs": [
    {
     "data": {
      "text/plain": [
       "AyahDistances{Float64}, 10-element Vector{Float64}:\n",
       " 25864.22802734375\n",
       " 12482.024536132812\n",
       " 29138.103912353516\n",
       " 14739.898986816406\n",
       " 11997.844451904297\n",
       "  7471.916107177734\n",
       " 12075.943359375\n",
       "  8517.262390136719\n",
       "  8849.407196044922\n",
       " 16113.497344970703"
      ]
     },
     "execution_count": 20,
     "metadata": {},
     "output_type": "execute_result"
    }
   ],
   "source": [
    "ayah_dist = distance(five_nums, slicer, ChiSqDist())"
   ]
  },
  {
   "cell_type": "markdown",
   "id": "a6ea760e-8c56-494a-a8d0-36828382a231",
   "metadata": {},
   "source": [
    "### Sampling Parents"
   ]
  },
  {
   "cell_type": "code",
   "execution_count": 15,
   "id": "77f1055a-41a3-44e3-ad50-77c08d74a494",
   "metadata": {},
   "outputs": [
    {
     "ename": "LoadError",
     "evalue": "ParseError:\n\u001b[90m# Error @ \u001b[0;0m\u001b]8;;file:///Users/al-ahmadgaidasaad/Documents/School/Islamic Studies/ma-thesis-codes/In[15]#1:58\u001b\\\u001b[90mIn[15]:1:58\u001b[0;0m\u001b]8;;\u001b\\\nfunction sample(ayah_emb::AyahEmbeddings, n::Integer, w::\u001b[48;2;120;70;70m)\u001b[0;0m\n\u001b[90m#                                                        ╙ ── \u001b[0;0m\u001b[91munexpected `)`\u001b[0;0m",
     "output_type": "error",
     "traceback": [
      "ParseError:\n\u001b[90m# Error @ \u001b[0;0m\u001b]8;;file:///Users/al-ahmadgaidasaad/Documents/School/Islamic Studies/ma-thesis-codes/In[15]#1:58\u001b\\\u001b[90mIn[15]:1:58\u001b[0;0m\u001b]8;;\u001b\\\nfunction sample(ayah_emb::AyahEmbeddings, n::Integer, w::\u001b[48;2;120;70;70m)\u001b[0;0m\n\u001b[90m#                                                        ╙ ── \u001b[0;0m\u001b[91munexpected `)`\u001b[0;0m",
      "",
      "Stacktrace:",
      " [1] top-level scope",
      "   @ In[15]:1"
     ]
    }
   ],
   "source": [
    "function sample(ayah_emb::AyahEmbeddings, n::Integer, w::AyahDistances)\n",
    "    ayah_emb = ayah_emb.emb\n",
    "    \n",
    "end"
   ]
  },
  {
   "cell_type": "code",
   "execution_count": 59,
   "id": "d8929ee8-d69d-47d9-ada1-5b705d6dd2fe",
   "metadata": {},
   "outputs": [
    {
     "ename": "LoadError",
     "evalue": "UndefVarError: `num_slices` not defined in `Main`\nSuggestion: check for spelling errors or missing imports.",
     "output_type": "error",
     "traceback": [
      "UndefVarError: `num_slices` not defined in `Main`\nSuggestion: check for spelling errors or missing imports.",
      "",
      "Stacktrace:",
      " [1] top-level scope",
      "   @ In[59]:1"
     ]
    }
   ],
   "source": [
    "med_idx = Int64(median(1:num_slices))\n",
    "costs = Float64[]\n",
    "for fivenum in fivenums\n",
    "    cost = Float64[]\n",
    "    for i in 1:(med_idx-1)\n",
    "        ring_dist = sum(abs.(colwise(ChiSqDist(), fivenum[i], fivenum[end-i+1])))\n",
    "        cen_lower = sum(abs.(colwise(ChiSqDist(), fivenum[med_idx], fivenum[i])))\n",
    "        cen_upper = sum(abs.(colwise(ChiSqDist(), fivenum[med_idx], fivenum[end-i+1])))\n",
    "        \n",
    "        push!(cost, ring_dist)\n",
    "        push!(cost, cen_lower)\n",
    "        push!(cost, cen_upper)\n",
    "    end\n",
    "    push!(costs, sum(cost))\n",
    "end"
   ]
  },
  {
   "cell_type": "code",
   "execution_count": 10,
   "id": "3cc4700b-b95b-4686-8cd8-b4eeab0e7120",
   "metadata": {},
   "outputs": [
    {
     "data": {
      "text/plain": [
       "6×10000 Matrix{Float64}:\n",
       " 0.148985   0.0532617  0.40407    …  0.104077   0.165932   0.121923\n",
       " 0.253078   0.381313   0.164189      0.283156   0.0857659  0.0269265\n",
       " 0.0768869  0.0457845  0.028863      0.302439   0.167866   0.119631\n",
       " 0.326921   0.0946558  0.154129      0.103038   0.0473106  0.259263\n",
       " 0.0950957  0.391862   0.0822693     0.0398453  0.336879   0.439312\n",
       " 0.0990342  0.0331232  0.166479   …  0.167444   0.196247   0.032944"
      ]
     },
     "execution_count": 10,
     "metadata": {},
     "output_type": "execute_result"
    }
   ],
   "source": [
    "dir_samples = rand(Dirichlet(repeat([1.5], num_slices - 1)), 10_000)"
   ]
  },
  {
   "cell_type": "code",
   "execution_count": 11,
   "id": "b18b8a7c-207d-436d-88be-5c9f207f2e14",
   "metadata": {},
   "outputs": [
    {
     "data": {
      "text/plain": [
       "6×9997 Matrix{Int64}:\n",
       " 21    9    8   10    5    3  33  14  …    1   7    4   2    6  11  13    7\n",
       " 27   13   23   15   11   19  38  22       8  28   26  16   15  29  24    9\n",
       " 28   15   44   34   23   29  46  33      16  32   37  35   32  29  47   34\n",
       " 42   27   46   35   48   41  47  62      16  61   39  72   35  47  48   34\n",
       " 72  109   47   75   68   51  54  74      85  69   62  74   64  80  56   74\n",
       " 93  112  115  112  128  140  65  78  …  156  85  115  84  132  86  96  125"
      ]
     },
     "execution_count": 11,
     "metadata": {},
     "output_type": "execute_result"
    }
   ],
   "source": [
    "midpoints = Int64.(floor.(size(ayahs)[1] .* dir_samples))\n",
    "midpoints = mapslices(sort, midpoints, dims=1)\n",
    "midpoints = unique(midpoints, dims=2)"
   ]
  },
  {
   "cell_type": "code",
   "execution_count": 12,
   "id": "cab9e0e2-6ae5-4ded-a4c9-b9afdedea0b9",
   "metadata": {},
   "outputs": [],
   "source": [
    "slices = Vector{Matrix{Float32}}[]\n",
    "mp_size = size(midpoints)\n",
    "for j in 1:mp_size[2]\n",
    "    slice = Matrix{Float32}[]\n",
    "    for i in 1:mp_size[1]\n",
    "        if i == 1\n",
    "            if midpoints[i, j] == 0\n",
    "                push!(slice, ayahs[1:1, :])\n",
    "            else\n",
    "                push!(slice, ayahs[1:midpoints[i, j],:])\n",
    "            end\n",
    "        elseif i < mp_size[1]\n",
    "            if midpoints[i-1, j] == midpoints[i, j]\n",
    "                push!(slice, ayahs[(midpoints[i-1, j]+1):midpoints[i, j]+2,:])\n",
    "            else\n",
    "                push!(slice, ayahs[(midpoints[i-1, j]+1):midpoints[i, j],:])\n",
    "            end\n",
    "        else\n",
    "            if midpoints[i-1, j] == midpoints[i, j]\n",
    "                push!(slice, ayahs[(midpoints[i-1, j]+1):midpoints[i, j]+2,:])\n",
    "                push!(slice, ayahs[(midpoints[i, j]+1):end,:])\n",
    "            else\n",
    "                push!(slice, ayahs[(midpoints[i-1, j]+1):midpoints[i, j],:])\n",
    "                push!(slice, ayahs[(midpoints[i, j]+1):end,:])\n",
    "            end\n",
    "        end\n",
    "    end\n",
    "    push!(slices, slice)\n",
    "end"
   ]
  },
  {
   "cell_type": "code",
   "execution_count": 13,
   "id": "531b2763-72d3-4a19-aa7b-dbd9c7a996bc",
   "metadata": {},
   "outputs": [
    {
     "data": {
      "text/plain": [
       "21×768 Matrix{Float32}:\n",
       " 0.531018  -0.132496    -0.756551   …  -0.305054   0.989819   0.201078\n",
       " 0.784264  -0.187889     0.303152       0.0520253  0.646556   0.616321\n",
       " 0.677887  -0.778916    -0.807045      -0.0719035  1.12943    0.859909\n",
       " 0.506211  -0.325038    -0.502814       0.459864   1.43758    0.466729\n",
       " 0.269263  -0.194165    -0.539852      -0.0628042  0.77668    0.554814\n",
       " 0.467806  -0.373838    -0.0348215  …   0.392261   1.14069    0.293043\n",
       " 0.886688  -0.527031    -0.530024      -0.0749496  0.983624   0.308669\n",
       " 0.60995   -0.301923    -0.17381        0.103315   0.984032   0.482254\n",
       " 0.412077  -0.309258    -0.512169       0.890515   0.994584   0.67909\n",
       " 0.996288  -0.699789    -0.477904      -0.24042    0.772055   0.535724\n",
       " 0.123426  -0.530353     0.13315    …   0.0387213  0.998667   0.42128\n",
       " 0.153852   0.00949113  -0.474826       0.17242    0.753725  -0.188628\n",
       " 0.563945  -0.655017    -0.349274      -0.40291    1.35588    0.388349\n",
       " 0.535295  -0.527559    -0.118389      -0.281729   1.32401    0.65387\n",
       " 0.613654  -0.457997    -0.872551       0.0235461  1.00485    0.752894\n",
       " 0.515353  -0.33469     -0.794059   …   0.274385   1.36023    0.490153\n",
       " 0.882095  -0.532452    -0.397269      -0.306584   0.736701   0.308082\n",
       " 0.470464  -0.65561     -0.136818       0.193928   0.668599   0.869055\n",
       " 0.752448  -0.183131    -0.221344      -0.256413   1.01358    0.170587\n",
       " 0.707869  -0.857877    -0.379792      -0.434731   1.22274    0.455051\n",
       " 0.416233  -0.130893    -0.0501584  …  -0.0452077  0.931458   0.598519"
      ]
     },
     "execution_count": 13,
     "metadata": {},
     "output_type": "execute_result"
    }
   ],
   "source": [
    "slices[1][1]"
   ]
  },
  {
   "cell_type": "markdown",
   "id": "ae606399-16e9-4fc0-b451-a6b67c7c091b",
   "metadata": {},
   "source": [
    "### Summarizing Embeddings"
   ]
  },
  {
   "cell_type": "code",
   "execution_count": 14,
   "id": "0d235256-7199-47fc-a735-81fff99ad663",
   "metadata": {},
   "outputs": [
    {
     "data": {
      "text/plain": [
       "quantile_summary (generic function with 1 method)"
      ]
     },
     "execution_count": 14,
     "metadata": {},
     "output_type": "execute_result"
    }
   ],
   "source": [
    "function quantile_summary(v::Vector)\n",
    "    sv = sort(v)\n",
    "\n",
    "    min = minimum(sv)\n",
    "    q1 = quantile(sv, 0.25)\n",
    "    med = median(sv)\n",
    "    q3 = quantile(sv, 0.5)\n",
    "    max = maximum(sv)\n",
    "\n",
    "    return [min, q1, med, q3, max]\n",
    "end"
   ]
  },
  {
   "cell_type": "code",
   "execution_count": 15,
   "id": "0cb59d9e-746d-4a0d-9996-baf68b19ccb8",
   "metadata": {},
   "outputs": [],
   "source": [
    "fivenums = Vector{Matrix{Float32}}[]\n",
    "for slice in slices\n",
    "    fivenum = Matrix{Float32}[]\n",
    "    for i in 1:size(slice)[1]\n",
    "        push!(fivenum, mapslices(quantile_summary, slice[i], dims=1))\n",
    "    end\n",
    "    push!(fivenums, fivenum)\n",
    "end"
   ]
  },
  {
   "cell_type": "markdown",
   "id": "92909423-0d50-4b27-b530-5e57eff601f0",
   "metadata": {},
   "source": [
    "### Computing Distances"
   ]
  },
  {
   "cell_type": "code",
   "execution_count": 16,
   "id": "f4f186d3-0e09-4761-8494-ab5adcf3d7c0",
   "metadata": {},
   "outputs": [],
   "source": [
    "med_idx = Int64(median(1:num_slices))\n",
    "costs = Float64[]\n",
    "for fivenum in fivenums\n",
    "    cost = Float64[]\n",
    "    for i in 1:(med_idx-1)\n",
    "        ring_dist = sum(abs.(colwise(ChiSqDist(), fivenum[i], fivenum[end-i+1])))\n",
    "        cen_lower = sum(abs.(colwise(ChiSqDist(), fivenum[med_idx], fivenum[i])))\n",
    "        cen_upper = sum(abs.(colwise(ChiSqDist(), fivenum[med_idx], fivenum[end-i+1])))\n",
    "        \n",
    "        push!(cost, ring_dist)\n",
    "        push!(cost, cen_lower)\n",
    "        push!(cost, cen_upper)\n",
    "    end\n",
    "    push!(costs, sum(cost))\n",
    "end"
   ]
  },
  {
   "cell_type": "code",
   "execution_count": 17,
   "id": "ddca6079-b94e-48e9-bfba-e03691415e55",
   "metadata": {},
   "outputs": [
    {
     "data": {
      "text/plain": [
       "9997-element Vector{Float64}:\n",
       "  11677.102172851562\n",
       "  11203.320617675781\n",
       "  29691.85430908203\n",
       "  38849.152587890625\n",
       "   5972.433624267578\n",
       " 165887.71115112305\n",
       "  22161.464385986328\n",
       "   8001.195373535156\n",
       "  16007.111450195312\n",
       "  11884.476165771484\n",
       "   9487.483123779297\n",
       "  13865.978698730469\n",
       "  13942.094940185547\n",
       "      ⋮\n",
       "   9917.428771972656\n",
       "  26086.905029296875\n",
       "  14108.519622802734\n",
       "   8135.8023681640625\n",
       "  49250.58459472656\n",
       "   9383.729797363281\n",
       "  37451.48733520508\n",
       " 276468.17462158203\n",
       "  17038.392974853516\n",
       " 160143.00164794922\n",
       "  45076.55291748047\n",
       "  23954.095764160156"
      ]
     },
     "execution_count": 17,
     "metadata": {},
     "output_type": "execute_result"
    }
   ],
   "source": [
    "costs"
   ]
  },
  {
   "cell_type": "markdown",
   "id": "d0725fa8-0c02-4afa-911c-58fa928ba6ba",
   "metadata": {},
   "source": [
    "### Sampling Parents"
   ]
  },
  {
   "cell_type": "code",
   "execution_count": null,
   "id": "f05d852b-9f73-4d00-b97f-0ff4b66a1240",
   "metadata": {},
   "outputs": [],
   "source": []
  },
  {
   "cell_type": "code",
   "execution_count": 24,
   "id": "c7034c48-348b-4b78-9710-786de4a468a2",
   "metadata": {},
   "outputs": [
    {
     "data": {
      "text/plain": [
       "10-element Vector{Int64}:\n",
       " 111\n",
       " 174\n",
       " 135\n",
       " 196\n",
       " 231\n",
       " 213\n",
       " 281\n",
       "   5\n",
       " 196\n",
       " 191"
      ]
     },
     "execution_count": 24,
     "metadata": {},
     "output_type": "execute_result"
    }
   ],
   "source": [
    "k = 10\n",
    "idx = rand(DiscreteUniform(1, size(ayahs)[1]), k)\n"
   ]
  },
  {
   "cell_type": "code",
   "execution_count": null,
   "id": "aa4f2468-1055-4564-8aff-497e89db27c5",
   "metadata": {},
   "outputs": [],
   "source": []
  },
  {
   "cell_type": "markdown",
   "id": "fa335ee8-7d35-41fa-bd2e-8b740e000cec",
   "metadata": {},
   "source": [
    "### Mutation"
   ]
  },
  {
   "cell_type": "code",
   "execution_count": null,
   "id": "b0960ff0-8bd4-4a47-9ece-558f31d0b01b",
   "metadata": {},
   "outputs": [],
   "source": []
  },
  {
   "cell_type": "code",
   "execution_count": 18,
   "id": "1b46065e-e46e-4a9d-84fb-fd6aa313da58",
   "metadata": {},
   "outputs": [
    {
     "ename": "LoadError",
     "evalue": "UndefVarError: `i` not defined in `Main`\nSuggestion: check for spelling errors or missing imports.",
     "output_type": "error",
     "traceback": [
      "UndefVarError: `i` not defined in `Main`\nSuggestion: check for spelling errors or missing imports.",
      "",
      "Stacktrace:",
      " [1] top-level scope",
      "   @ In[18]:1"
     ]
    }
   ],
   "source": [
    "sum(abs.(colwise(ChiSqDist(), fivenums[1][2], fivenums[1][end-i-1])))"
   ]
  },
  {
   "cell_type": "code",
   "execution_count": 19,
   "id": "bfa2595d-dd06-4642-939c-e936d353265b",
   "metadata": {
    "jupyter": {
     "source_hidden": true
    }
   },
   "outputs": [
    {
     "data": {
      "text/plain": [
       "916.2252f0"
      ]
     },
     "execution_count": 19,
     "metadata": {},
     "output_type": "execute_result"
    }
   ],
   "source": [
    "sum(abs.(colwise(ChiSqDist(), fivenums[1][med_idx], fivenums[1][2])))"
   ]
  },
  {
   "cell_type": "code",
   "execution_count": 55,
   "id": "32cd1f61-d18e-448b-97c2-5d71df30ceca",
   "metadata": {},
   "outputs": [
    {
     "data": {
      "text/plain": [
       "5×768 Matrix{Float32}:\n",
       " 0.0219057  -0.87156    -0.971374   …  -0.585858   0.621963  -0.275423\n",
       " 0.330805   -0.395003   -0.511762      -0.0990097  0.931669   0.205508\n",
       " 0.662539   -0.284216   -0.335894       0.0457841  1.12092    0.377689\n",
       " 0.662539   -0.284216   -0.335894       0.0457841  1.12092    0.377689\n",
       " 1.07862    -0.0962282   0.0669256      0.429768   1.67765    0.726807"
      ]
     },
     "execution_count": 55,
     "metadata": {},
     "output_type": "execute_result"
    }
   ],
   "source": [
    "fivenums[1][end-i-1]"
   ]
  },
  {
   "cell_type": "code",
   "execution_count": 56,
   "id": "88ae442d-7b0e-476e-87a1-ef3b6fb69a58",
   "metadata": {},
   "outputs": [
    {
     "data": {
      "text/plain": [
       "5×768 Matrix{Float32}:\n",
       " 0.412077  -0.527031  -0.530024   …  -0.0749496  0.983624  0.293043\n",
       " 0.453874  -0.412136  -0.516633       0.0587488  0.98393   0.304762\n",
       " 0.538878  -0.341548  -0.34299        0.247788   0.989308  0.395461\n",
       " 0.538878  -0.341548  -0.34299        0.247788   0.989308  0.395461\n",
       " 0.886688  -0.301923  -0.0348215      0.890515   1.14069   0.67909"
      ]
     },
     "execution_count": 56,
     "metadata": {},
     "output_type": "execute_result"
    }
   ],
   "source": [
    "fivenums[1][2]"
   ]
  },
  {
   "cell_type": "code",
   "execution_count": 63,
   "id": "7fed7103-67d4-4ecd-9f02-93bbf0060fbd",
   "metadata": {},
   "outputs": [
    {
     "data": {
      "text/plain": [
       "5×768 Matrix{Float32}:\n",
       " -0.306053  -0.675701   -0.968244   …  -0.740139   0.420536  0.0429858\n",
       "  0.530863  -0.421813   -0.610742      -0.209497   0.9515    0.320158\n",
       "  0.657967  -0.376442   -0.424982      -0.0615468  1.16018   0.408021\n",
       "  0.657967  -0.376442   -0.424982      -0.0615468  1.16018   0.408021\n",
       "  1.19378    0.0773699   0.0711554      0.654553   1.58278   0.753576"
      ]
     },
     "execution_count": 63,
     "metadata": {},
     "output_type": "execute_result"
    }
   ],
   "source": [
    "fivenums[1][end-i]"
   ]
  },
  {
   "cell_type": "code",
   "execution_count": 62,
   "id": "b2f88f65-cc50-4ed9-ab93-05e9512f0a50",
   "metadata": {},
   "outputs": [
    {
     "data": {
      "text/plain": [
       "7-element Vector{Matrix{Float32}}:\n",
       " [0.269263 -0.7789163 … 0.64655566 0.20107773; 0.50621146 -0.3250376 … 0.7766804 0.4667288; … ; 0.5310184 -0.19416487 … 0.9898191 0.5548137; 0.784264 -0.13249622 … 1.4375801 0.8599088]\n",
       " [0.41207725 -0.52703136 … 0.98362446 0.2930433; 0.45387352 -0.41213608 … 0.9839301 0.30476224; … ; 0.53887784 -0.34154764 … 0.98930806 0.39546126; 0.8866878 -0.30192348 … 1.1406853 0.67909]\n",
       " [0.12342641 -0.8578767 … 0.668599 -0.1886282; 0.48168612 -0.5319276 … 0.8003974 0.32322973; … ; 0.5983705 -0.37594244 … 1.0017582 0.4692089; 0.9962884 0.035326615 … 1.3602252 0.86905515]\n",
       " [0.021905743 -0.8715603 … 0.62196314 -0.27542344; 0.33080453 -0.39500266 … 0.9316688 0.20550822; … ; 0.662539 -0.28421557 … 1.1209154 0.37768933; 1.0786216 -0.09622821 … 1.6776503 0.7268074]\n",
       " [-0.306053 -0.6757015 … 0.42053604 0.042985797; 0.53086317 -0.4218128 … 0.95150036 0.32015765; … ; 0.6579674 -0.37644216 … 1.160177 0.40802145; 1.1937826 0.077369876 … 1.5827835 0.75357646]\n",
       " [0.2113618 -0.45048323 … 0.62315506 0.1384463; 0.5430196 -0.35273647 … 0.85696 0.2746939; … ; 0.6618345 -0.2581718 … 1.0595193 0.39814037; 1.0897318 0.37300172 … 1.6818513 0.8410814]\n",
       " [-0.09084574 -0.78042156 … 0.4219508 -0.21251053; 0.4001764 -0.45774466 … 0.92985904 0.33007765; … ; 0.63156927 -0.3009685 … 1.1091478 0.46464187; 1.2707266 0.23989144 … 1.8207021 0.97848576]"
      ]
     },
     "execution_count": 62,
     "metadata": {},
     "output_type": "execute_result"
    }
   ],
   "source": [
    "fivenums[1]"
   ]
  }
 ],
 "metadata": {
  "kernelspec": {
   "display_name": "Julia 1.11.4",
   "language": "julia",
   "name": "julia-1.11"
  },
  "language_info": {
   "file_extension": ".jl",
   "mimetype": "application/julia",
   "name": "julia",
   "version": "1.11.4"
  }
 },
 "nbformat": 4,
 "nbformat_minor": 5
}
