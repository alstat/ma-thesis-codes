{
 "cells": [
  {
   "cell_type": "markdown",
   "id": "fac8922b-039d-47ec-806e-c1f6150a1368",
   "metadata": {},
   "source": [
    " ## بسم الله الرّحمٰن الرّحيم "
   ]
  },
  {
   "cell_type": "markdown",
   "id": "00ad8a11-81d0-4a2d-90de-2095df58b0a8",
   "metadata": {},
   "source": [
    "# Theory of Concentrism in the Qur'an using Genetic Algorithm with CL-AraBERT Embeddings\n",
    "\n",
    "_by Al-Ahmadgaid B. Asaad_"
   ]
  },
  {
   "cell_type": "markdown",
   "id": "4afc8683-4863-4715-8da6-4101afe86eb7",
   "metadata": {
    "jp-MarkdownHeadingCollapsed": true
   },
   "source": [
    "#### Install Python Libraries\n",
    "\n",
    "There are Julia's equivalent for the following Python libraries, but for this paper the author decided to use the official one which is in Python."
   ]
  },
  {
   "cell_type": "code",
   "execution_count": 1,
   "id": "4fb5577e-8bc9-481f-85dc-bf2b76a7d88d",
   "metadata": {},
   "outputs": [
    {
     "name": "stderr",
     "output_type": "stream",
     "text": [
      "\u001b[32m\u001b[1m    Building\u001b[22m\u001b[39m Conda ─→ `~/.julia/scratchspaces/44cfe95a-1eb2-52ea-b672-e2afdf69b78f/b19db3927f0db4151cb86d073689f2428e524576/build.log`\n",
      "\u001b[32m\u001b[1m    Building\u001b[22m\u001b[39m PyCall → `~/.julia/scratchspaces/44cfe95a-1eb2-52ea-b672-e2afdf69b78f/9816a3826b0ebf49ab4926e2b18842ad8b5c8f04/build.log`\n"
     ]
    }
   ],
   "source": [
    "using Pkg\n",
    "\n",
    "ENV[\"PYTHON\"]=\"\" # necessary for Conda.pip\n",
    "Pkg.build(\"PyCall\")"
   ]
  },
  {
   "cell_type": "code",
   "execution_count": 2,
   "id": "fd2aea44-662c-464e-8df6-9e5d5ed943bb",
   "metadata": {},
   "outputs": [
    {
     "name": "stderr",
     "output_type": "stream",
     "text": [
      "\u001b[36m\u001b[1m[ \u001b[22m\u001b[39m\u001b[36m\u001b[1mInfo: \u001b[22m\u001b[39mRunning `conda config --set pip_interop_enabled true --file /Users/al-ahmadgaidasaad/.julia/conda/3/aarch64/condarc-julia.yml` in root environment\n",
      "\u001b[36m\u001b[1m[ \u001b[22m\u001b[39m\u001b[36m\u001b[1mInfo: \u001b[22m\u001b[39mRunning `pip install sentence-transformers` in root environment\n"
     ]
    },
    {
     "name": "stdout",
     "output_type": "stream",
     "text": [
      "Requirement already satisfied: sentence-transformers in /Users/al-ahmadgaidasaad/.julia/conda/3/aarch64/lib/python3.10/site-packages (3.4.1)\n",
      "Requirement already satisfied: transformers<5.0.0,>=4.41.0 in /Users/al-ahmadgaidasaad/.julia/conda/3/aarch64/lib/python3.10/site-packages (from sentence-transformers) (4.49.0)\n",
      "Requirement already satisfied: tqdm in /Users/al-ahmadgaidasaad/.julia/conda/3/aarch64/lib/python3.10/site-packages (from sentence-transformers) (4.66.1)\n",
      "Requirement already satisfied: torch>=1.11.0 in /Users/al-ahmadgaidasaad/.julia/conda/3/aarch64/lib/python3.10/site-packages (from sentence-transformers) (2.2.1)\n",
      "Requirement already satisfied: scikit-learn in /Users/al-ahmadgaidasaad/.julia/conda/3/aarch64/lib/python3.10/site-packages (from sentence-transformers) (1.6.1)\n",
      "Requirement already satisfied: scipy in /Users/al-ahmadgaidasaad/.julia/conda/3/aarch64/lib/python3.10/site-packages (from sentence-transformers) (1.15.2)\n",
      "Requirement already satisfied: huggingface-hub>=0.20.0 in /Users/al-ahmadgaidasaad/.julia/conda/3/aarch64/lib/python3.10/site-packages (from sentence-transformers) (0.29.3)\n",
      "Requirement already satisfied: Pillow in /Users/al-ahmadgaidasaad/.julia/conda/3/aarch64/lib/python3.10/site-packages (from sentence-transformers) (10.2.0)\n",
      "Requirement already satisfied: filelock in /Users/al-ahmadgaidasaad/.julia/conda/3/aarch64/lib/python3.10/site-packages (from huggingface-hub>=0.20.0->sentence-transformers) (3.13.1)\n",
      "Requirement already satisfied: fsspec>=2023.5.0 in /Users/al-ahmadgaidasaad/.julia/conda/3/aarch64/lib/python3.10/site-packages (from huggingface-hub>=0.20.0->sentence-transformers) (2024.3.1)\n",
      "Requirement already satisfied: packaging>=20.9 in /Users/al-ahmadgaidasaad/.julia/conda/3/aarch64/lib/python3.10/site-packages (from huggingface-hub>=0.20.0->sentence-transformers) (23.2)\n",
      "Requirement already satisfied: pyyaml>=5.1 in /Users/al-ahmadgaidasaad/.julia/conda/3/aarch64/lib/python3.10/site-packages (from huggingface-hub>=0.20.0->sentence-transformers) (6.0.2)\n",
      "Requirement already satisfied: requests in /Users/al-ahmadgaidasaad/.julia/conda/3/aarch64/lib/python3.10/site-packages (from huggingface-hub>=0.20.0->sentence-transformers) (2.31.0)\n",
      "Requirement already satisfied: typing-extensions>=3.7.4.3 in /Users/al-ahmadgaidasaad/.julia/conda/3/aarch64/lib/python3.10/site-packages (from huggingface-hub>=0.20.0->sentence-transformers) (4.10.0)\n",
      "Requirement already satisfied: sympy in /Users/al-ahmadgaidasaad/.julia/conda/3/aarch64/lib/python3.10/site-packages (from torch>=1.11.0->sentence-transformers) (1.12)\n",
      "Requirement already satisfied: networkx in /Users/al-ahmadgaidasaad/.julia/conda/3/aarch64/lib/python3.10/site-packages (from torch>=1.11.0->sentence-transformers) (3.2.1)\n",
      "Requirement already satisfied: jinja2 in /Users/al-ahmadgaidasaad/.julia/conda/3/aarch64/lib/python3.10/site-packages (from torch>=1.11.0->sentence-transformers) (3.1.3)\n",
      "Requirement already satisfied: numpy>=1.17 in /Users/al-ahmadgaidasaad/.julia/conda/3/aarch64/lib/python3.10/site-packages (from transformers<5.0.0,>=4.41.0->sentence-transformers) (1.26.4)\n",
      "Requirement already satisfied: regex!=2019.12.17 in /Users/al-ahmadgaidasaad/.julia/conda/3/aarch64/lib/python3.10/site-packages (from transformers<5.0.0,>=4.41.0->sentence-transformers) (2024.11.6)\n",
      "Requirement already satisfied: tokenizers<0.22,>=0.21 in /Users/al-ahmadgaidasaad/.julia/conda/3/aarch64/lib/python3.10/site-packages (from transformers<5.0.0,>=4.41.0->sentence-transformers) (0.21.1)\n",
      "Requirement already satisfied: safetensors>=0.4.1 in /Users/al-ahmadgaidasaad/.julia/conda/3/aarch64/lib/python3.10/site-packages (from transformers<5.0.0,>=4.41.0->sentence-transformers) (0.5.3)\n",
      "Requirement already satisfied: joblib>=1.2.0 in /Users/al-ahmadgaidasaad/.julia/conda/3/aarch64/lib/python3.10/site-packages (from scikit-learn->sentence-transformers) (1.4.2)\n",
      "Requirement already satisfied: threadpoolctl>=3.1.0 in /Users/al-ahmadgaidasaad/.julia/conda/3/aarch64/lib/python3.10/site-packages (from scikit-learn->sentence-transformers) (3.6.0)\n",
      "Requirement already satisfied: MarkupSafe>=2.0 in /Users/al-ahmadgaidasaad/.julia/conda/3/aarch64/lib/python3.10/site-packages (from jinja2->torch>=1.11.0->sentence-transformers) (2.1.5)\n",
      "Requirement already satisfied: charset-normalizer<4,>=2 in /Users/al-ahmadgaidasaad/.julia/conda/3/aarch64/lib/python3.10/site-packages (from requests->huggingface-hub>=0.20.0->sentence-transformers) (3.3.2)\n",
      "Requirement already satisfied: idna<4,>=2.5 in /Users/al-ahmadgaidasaad/.julia/conda/3/aarch64/lib/python3.10/site-packages (from requests->huggingface-hub>=0.20.0->sentence-transformers) (3.6)\n",
      "Requirement already satisfied: urllib3<3,>=1.21.1 in /Users/al-ahmadgaidasaad/.julia/conda/3/aarch64/lib/python3.10/site-packages (from requests->huggingface-hub>=0.20.0->sentence-transformers) (2.1.0)\n",
      "Requirement already satisfied: certifi>=2017.4.17 in /Users/al-ahmadgaidasaad/.julia/conda/3/aarch64/lib/python3.10/site-packages (from requests->huggingface-hub>=0.20.0->sentence-transformers) (2025.1.31)\n",
      "Requirement already satisfied: mpmath>=0.19 in /Users/al-ahmadgaidasaad/.julia/conda/3/aarch64/lib/python3.10/site-packages (from sympy->torch>=1.11.0->sentence-transformers) (1.3.0)\n"
     ]
    },
    {
     "name": "stderr",
     "output_type": "stream",
     "text": [
      "\u001b[36m\u001b[1m[ \u001b[22m\u001b[39m\u001b[36m\u001b[1mInfo: \u001b[22m\u001b[39mRunning `pip install umap-learn` in root environment\n"
     ]
    },
    {
     "name": "stdout",
     "output_type": "stream",
     "text": [
      "Requirement already satisfied: umap-learn in /Users/al-ahmadgaidasaad/.julia/conda/3/aarch64/lib/python3.10/site-packages (0.5.7)\n",
      "Requirement already satisfied: numpy>=1.17 in /Users/al-ahmadgaidasaad/.julia/conda/3/aarch64/lib/python3.10/site-packages (from umap-learn) (1.26.4)\n",
      "Requirement already satisfied: scipy>=1.3.1 in /Users/al-ahmadgaidasaad/.julia/conda/3/aarch64/lib/python3.10/site-packages (from umap-learn) (1.15.2)\n",
      "Requirement already satisfied: scikit-learn>=0.22 in /Users/al-ahmadgaidasaad/.julia/conda/3/aarch64/lib/python3.10/site-packages (from umap-learn) (1.6.1)\n",
      "Requirement already satisfied: numba>=0.51.2 in /Users/al-ahmadgaidasaad/.julia/conda/3/aarch64/lib/python3.10/site-packages (from umap-learn) (0.61.0)\n",
      "Requirement already satisfied: pynndescent>=0.5 in /Users/al-ahmadgaidasaad/.julia/conda/3/aarch64/lib/python3.10/site-packages (from umap-learn) (0.5.13)\n",
      "Requirement already satisfied: tqdm in /Users/al-ahmadgaidasaad/.julia/conda/3/aarch64/lib/python3.10/site-packages (from umap-learn) (4.66.1)\n",
      "Requirement already satisfied: llvmlite<0.45,>=0.44.0dev0 in /Users/al-ahmadgaidasaad/.julia/conda/3/aarch64/lib/python3.10/site-packages (from numba>=0.51.2->umap-learn) (0.44.0)\n",
      "Requirement already satisfied: joblib>=0.11 in /Users/al-ahmadgaidasaad/.julia/conda/3/aarch64/lib/python3.10/site-packages (from pynndescent>=0.5->umap-learn) (1.4.2)\n",
      "Requirement already satisfied: threadpoolctl>=3.1.0 in /Users/al-ahmadgaidasaad/.julia/conda/3/aarch64/lib/python3.10/site-packages (from scikit-learn>=0.22->umap-learn) (3.6.0)\n"
     ]
    }
   ],
   "source": [
    "using Conda\n",
    "\n",
    "Conda.pip_interop(true)\n",
    "Conda.pip(\"install\", \"sentence-transformers\")\n",
    "Conda.pip(\"install\", \"umap-learn\")"
   ]
  },
  {
   "cell_type": "markdown",
   "id": "60e501dc-635c-4112-90d8-7e5911eb8ce4",
   "metadata": {},
   "source": [
    "#### Load Libraries"
   ]
  },
  {
   "cell_type": "code",
   "execution_count": 3,
   "id": "f7801521-c95c-41af-a36b-466bd7371959",
   "metadata": {},
   "outputs": [],
   "source": [
    "using CairoMakie\n",
    "using Clustering\n",
    "using DataFrames\n",
    "using Distributions\n",
    "using Distances\n",
    "using PyCall\n",
    "using QuranTree\n",
    "using Statistics\n",
    "using Yunir\n",
    "\n",
    "import Base: show\n",
    "import StatsBase: sample"
   ]
  },
  {
   "cell_type": "code",
   "execution_count": 4,
   "id": "632fb14e-7096-469e-90cb-7981bf344846",
   "metadata": {},
   "outputs": [
    {
     "data": {
      "text/plain": [
       "PyObject <class 'umap.umap_.UMAP'>"
      ]
     },
     "execution_count": 4,
     "metadata": {},
     "output_type": "execute_result"
    }
   ],
   "source": [
    "# load the python libraries\n",
    "sentence_transformers = pyimport(\"sentence_transformers\")\n",
    "umap_py = pyimport(\"umap.umap_\")\n",
    "UMAP = umap_py.UMAP"
   ]
  },
  {
   "cell_type": "markdown",
   "id": "c7db7f03-50eb-41a2-89c1-62ac6c5514da",
   "metadata": {},
   "source": [
    "#### Load CL-Arabert Embedding Model"
   ]
  },
  {
   "cell_type": "code",
   "execution_count": 5,
   "id": "c6f4da17-cddb-4962-9fff-81f304994cb6",
   "metadata": {},
   "outputs": [
    {
     "name": "stderr",
     "output_type": "stream",
     "text": [
      "No sentence-transformers model found with name /Users/al-ahmadgaidasaad/Documents/School/Islamic Studies/ma-thesis-codes/models/CL-Arabert. Creating a new one with mean pooling.\n"
     ]
    }
   ],
   "source": [
    "model_path = \"/Users/al-ahmadgaidasaad/Documents/School/Islamic Studies/ma-thesis-codes/models/CL-Arabert\"\n",
    "emodel = sentence_transformers.SentenceTransformer(model_path);"
   ]
  },
  {
   "cell_type": "markdown",
   "id": "a80ebcec-81a8-4727-ac41-b4ec0b9f2964",
   "metadata": {},
   "source": [
    "#### Load Qur'an Data"
   ]
  },
  {
   "cell_type": "code",
   "execution_count": 6,
   "id": "e6333b2c-9b52-4eaa-9d09-42d37632145c",
   "metadata": {
    "scrolled": true
   },
   "outputs": [
    {
     "data": {
      "text/plain": [
       "Tanzil Quran Text (Uthmani)\n",
       "(C) 2008-2010 Tanzil.net\n",
       "\n",
       "\u001b[1m6236×3 DataFrame\u001b[0m\n",
       "\u001b[1m  Row \u001b[0m│\u001b[1m chapter \u001b[0m\u001b[1m verse \u001b[0m\u001b[1m form                              \u001b[0m\n",
       "      │\u001b[90m Int64   \u001b[0m\u001b[90m Int64 \u001b[0m\u001b[90m String                            \u001b[0m\n",
       "──────┼───────────────────────────────────────────────────\n",
       "    1 │       1      1  بِسْمِ ٱللَّهِ ٱلرَّحْمَٰنِ ٱلرَّحِيمِ\n",
       "    2 │       1      2  ٱلْحَمْدُ لِلَّهِ رَبِّ ٱلْعَٰلَمِينَ\n",
       "    3 │       1      3  ٱلرَّحْمَٰنِ ٱلرَّحِيمِ\n",
       "    4 │       1      4  مَٰلِكِ يَوْمِ ٱلدِّينِ\n",
       "    5 │       1      5  إِيَّاكَ نَعْبُدُ وَإِيَّاكَ نَسْتَعِينُ\n",
       "    6 │       1      6  ٱهْدِنَا ٱلصِّرَٰطَ ٱلْمُسْتَقِيمَ\n",
       "    7 │       1      7  صِرَٰطَ ٱلَّذِينَ أَنْعَمْتَ عَلَيْهِمْ غَيْرِ ٱلْمَغْضُو…\n",
       "    8 │       2      1  بِسْمِ ٱللَّهِ ٱلرَّحْمَٰنِ ٱلرَّحِيمِ الٓمٓ\n",
       "    9 │       2      2  ذَٰلِكَ ٱلْكِتَٰبُ لَا رَيْبَ فِيهِ هُدًى لِّلْمُتَّقِينَ\n",
       "   10 │       2      3  ٱلَّذِينَ يُؤْمِنُونَ بِٱلْغَيْبِ وَيُقِيمُونَ ٱلصَّل…\n",
       "   11 │       2      4  وَٱلَّذِينَ يُؤْمِنُونَ بِمَآ أُنزِلَ إِلَيْكَ وَمَآ …\n",
       "  ⋮   │    ⋮       ⋮                    ⋮\n",
       " 6227 │     113      2  مِن شَرِّ مَا خَلَقَ\n",
       " 6228 │     113      3  وَمِن شَرِّ غَاسِقٍ إِذَا وَقَبَ\n",
       " 6229 │     113      4  وَمِن شَرِّ ٱلنَّفَّٰثَٰتِ فِى ٱلْعُقَدِ\n",
       " 6230 │     113      5  وَمِن شَرِّ حَاسِدٍ إِذَا حَسَدَ\n",
       " 6231 │     114      1  بِسْمِ ٱللَّهِ ٱلرَّحْمَٰنِ ٱلرَّحِيمِ قُلْ أَعُوذُ ب…\n",
       " 6232 │     114      2  مَلِكِ ٱلنَّاسِ\n",
       " 6233 │     114      3  إِلَٰهِ ٱلنَّاسِ\n",
       " 6234 │     114      4  مِن شَرِّ ٱلْوَسْوَاسِ ٱلْخَنَّاسِ\n",
       " 6235 │     114      5  ٱلَّذِى يُوَسْوِسُ فِى صُدُورِ ٱلنَّاسِ\n",
       " 6236 │     114      6  مِنَ ٱلْجِنَّةِ وَٱلنَّاسِ\n",
       "\u001b[36m                                         6215 rows omitted\u001b[0m\n"
      ]
     },
     "execution_count": 6,
     "metadata": {},
     "output_type": "execute_result"
    }
   ],
   "source": [
    "_, tnzl = load(QuranData());\n",
    "tnzl_tbl = table(tnzl)"
   ]
  },
  {
   "cell_type": "code",
   "execution_count": 7,
   "id": "eeaa76a5-e67c-4eb3-9eb7-095dad5d5877",
   "metadata": {},
   "outputs": [
    {
     "data": {
      "text/plain": [
       "show (generic function with 710 methods)"
      ]
     },
     "execution_count": 7,
     "metadata": {},
     "output_type": "execute_result"
    }
   ],
   "source": [
    "\"\"\"\n",
    "Slicer Configuration\n",
    "\n",
    "params:\n",
    "    num_slices - number of slices\n",
    "    var_slices - variability of slices, parameter for Dirichlet distribution\n",
    "    dist_formula - distance metric for measuring similarity or distances of the slices\n",
    "\"\"\"\n",
    "struct Slicer\n",
    "    num_slices::Int64\n",
    "    var_slices::Union{Float64,Vector{Float64}}\n",
    "    dist_formula::Distances.UnionSemiMetric\n",
    "end\n",
    "\n",
    "function show(io::IO, ::MIME\"text/plain\", slicer::Slicer)\n",
    "    println(io, \"Slicer\")\n",
    "    println(io, \" ├ num_slices: \", slicer.num_slices)\n",
    "    println(io, \" ├ var_slices: \", slicer.var_slices)\n",
    "    println(io, \" └ dist_formula: \", typeof(slicer.dist_formula,))\n",
    "end"
   ]
  },
  {
   "cell_type": "code",
   "execution_count": 8,
   "id": "74f589d6-2c39-4dfe-919a-de528fab0ee3",
   "metadata": {},
   "outputs": [
    {
     "data": {
      "text/plain": [
       "show (generic function with 711 methods)"
      ]
     },
     "execution_count": 8,
     "metadata": {},
     "output_type": "execute_result"
    }
   ],
   "source": [
    "\"\"\"\n",
    "Ayah Embeddings Type\n",
    "\n",
    "params:\n",
    "    num_slices - number of slices\n",
    "    var_slices - variability of slices, parameter for Dirichlet distribution\n",
    "\"\"\"\n",
    "struct AyahEmbeddings{T <: Union{Float32,Float64}}\n",
    "    emb::Matrix{T} \n",
    "end\n",
    "\n",
    "function show(io::IO, ::MIME\"text/plain\", ae::AyahEmbeddings{T}) where T\n",
    "    print(io, \"AyahEmbeddings{$T}, \")\n",
    "    show(io, MIME(\"text/plain\"), ae.emb)\n",
    "end"
   ]
  },
  {
   "cell_type": "code",
   "execution_count": 9,
   "id": "086cb377-9a6c-4679-970e-790cd52dff9b",
   "metadata": {
    "scrolled": true
   },
   "outputs": [
    {
     "data": {
      "text/plain": [
       "AyahEmbeddings{Float32}, 286×768 Matrix{Float32}:\n",
       " 0.531018  -0.132496    -0.756551   …  -0.305054   0.989819   0.201078\n",
       " 0.784264  -0.187889     0.303152       0.0520253  0.646556   0.616321\n",
       " 0.677887  -0.778916    -0.807045      -0.0719035  1.12943    0.859909\n",
       " 0.506211  -0.325038    -0.502814       0.459864   1.43758    0.466729\n",
       " 0.269263  -0.194165    -0.539852      -0.0628042  0.77668    0.554814\n",
       " 0.467806  -0.373838    -0.0348215  …   0.392261   1.14069    0.293043\n",
       " 0.886688  -0.527031    -0.530024      -0.0749496  0.983624   0.308669\n",
       " 0.60995   -0.301923    -0.17381        0.103315   0.984032   0.482254\n",
       " 0.412077  -0.309258    -0.512169       0.890515   0.994584   0.67909\n",
       " 0.996288  -0.699789    -0.477904      -0.24042    0.772055   0.535724\n",
       " 0.123426  -0.530353     0.13315    …   0.0387213  0.998667   0.42128\n",
       " 0.153852   0.00949113  -0.474826       0.17242    0.753725  -0.188628\n",
       " 0.563945  -0.655017    -0.349274      -0.40291    1.35588    0.388349\n",
       " ⋮                                  ⋱   ⋮                    \n",
       " 0.457982  -0.349307    -0.767028       0.269204   1.19339    0.180518\n",
       " 0.414426  -0.287983    -0.561887   …  -0.13756    0.917267   0.467317\n",
       " 0.821485  -0.657224    -0.579525      -0.284125   1.41519    0.568\n",
       " 0.280858  -0.634579    -0.262929       0.0502098  1.10874    0.686531\n",
       " 0.238448  -0.516905    -0.188398      -0.267457   1.38315    0.254447\n",
       " 0.397988  -0.391       -0.311192      -0.31344    0.528317   0.838531\n",
       " 0.202748  -0.183058    -0.257659   …  -0.211391   0.522102   0.131905\n",
       " 0.221918  -0.479004    -0.533618      -0.346529   1.10915    0.625812\n",
       " 0.143688  -0.525937    -0.55367       -0.325207   0.739349   0.730875\n",
       " 0.536415  -0.434458    -0.0741441     -0.183107   1.18414    0.479051\n",
       " 0.562232  -0.065971    -0.370037       0.232082   1.58215    0.433619\n",
       " 0.39352   -0.385343    -0.694224   …   0.147076   1.70726    0.456136"
      ]
     },
     "execution_count": 9,
     "metadata": {},
     "output_type": "execute_result"
    }
   ],
   "source": [
    "ayahs_ver = verses(tnzl_tbl[2]);\n",
    "ayahs_emb = AyahEmbeddings(emodel.encode(ayahs_ver))"
   ]
  },
  {
   "cell_type": "code",
   "execution_count": 122,
   "id": "f21493c4-9feb-4517-956f-6eb7fac27ff0",
   "metadata": {},
   "outputs": [
    {
     "data": {
      "text/plain": [
       "gen_midpoints (generic function with 1 method)"
      ]
     },
     "execution_count": 122,
     "metadata": {},
     "output_type": "execute_result"
    }
   ],
   "source": [
    "\"\"\"\n",
    "Midpoints Generator\n",
    "\n",
    "params:\n",
    "    n_ayahs - total number of ayahs\n",
    "    n - number of samples of slices to generate\n",
    "    slicer - Slicer configuration\n",
    "\"\"\"\n",
    "mutable struct AyahMidpoints{T <: Integer}\n",
    "    midpoints::Matrix{T}\n",
    "end\n",
    "\n",
    "function show(io::IO, ::MIME\"text/plain\", am::AyahMidpoints{T}) where T\n",
    "    print(io, \"AyahMidpoints{$T}, \")\n",
    "    show(io, MIME(\"text/plain\"), am.midpoints)\n",
    "end\n",
    "\n",
    "function refine!(mp::AyahMidpoints{T})::AyahMidpoints{T} where T <: Integer\n",
    "    midpoints = sort(mp.midpoints, dims=1)\n",
    "    mp_size = size(midpoints)\n",
    "    adjusted_midpoints = Matrix{Int64}(undef, mp_size...)\n",
    "    for j in 1:mp_size[2]\n",
    "        for i in 1:mp_size[1]\n",
    "            if i == 1\n",
    "                if midpoints[i, j] <= 1\n",
    "                    adjusted_midpoints[i, j] = 2\n",
    "                else\n",
    "                    adjusted_midpoints[i, j] = midpoints[i, j]\n",
    "                end\n",
    "            else\n",
    "                if midpoints[i, j] - adjusted_midpoints[i-1, j] == 0\n",
    "                    adjusted_midpoints[i, j] = adjusted_midpoints[i-1, j] + 1\n",
    "                elseif midpoints[i, j] - adjusted_midpoints[i-1, j] < 1\n",
    "                    diff = adjusted_midpoints[i-1, j] - midpoints[i, j]\n",
    "                    adjusted_midpoints[i, j] = adjusted_midpoints[i-1, j] + diff + 1\n",
    "                else\n",
    "                    adjusted_midpoints[i, j] = midpoints[i, j]\n",
    "                end\n",
    "            end\n",
    "        end\n",
    "    end\n",
    "\n",
    "    mp.midpoints = adjusted_midpoints\n",
    "    return mp\n",
    "end\n",
    "\n",
    "function gen_midpoints(n_ayahs::T, n::T, slicer::Slicer)::AyahMidpoints{T} where T <: Integer\n",
    "    if slicer.var_slices isa Float64\n",
    "        dir_samples = rand(Dirichlet(repeat([slicer.var_slices], slicer.num_slices - 1)), n)    \n",
    "    else\n",
    "        if slicer.num_slices != length(slicer.var_slices)\n",
    "            error(\"Slicer.num_slices should be equal to length of Slicer.var_slices\")\n",
    "        else\n",
    "            dir_samples = rand(Dirichlet(slicer.var_slices), n)\n",
    "        end\n",
    "    end\n",
    "\n",
    "    # proportion the ayahs into slices using Dirichlet samples\n",
    "    # midpoints = ceil.(n_ayahs .* dir_samples)\n",
    "    # midpoints = mapslices(sort, midpoints, dims=1)\n",
    "    # midpoints = Integer.(unique(midpoints, dims=2)) # drop any duplicate samples\n",
    "    \n",
    "    midpoints = sort(rand(DiscreteUniform(1, n_ayahs), slicer.num_slices - 1, n), dims=1)\n",
    "    return refine!(AyahMidpoints(midpoints))\n",
    "end"
   ]
  },
  {
   "cell_type": "code",
   "execution_count": 106,
   "id": "f00c9b20-4a5d-4974-8137-0bc173003cac",
   "metadata": {},
   "outputs": [
    {
     "data": {
      "text/plain": [
       "gen_slices"
      ]
     },
     "execution_count": 106,
     "metadata": {},
     "output_type": "execute_result"
    }
   ],
   "source": [
    "\"\"\"\n",
    "Slices Generator\n",
    "\n",
    "params:\n",
    "    ayahs_emb - the embeddings to slice\n",
    "    midpoints - the midpoints used for slicing\n",
    "\"\"\"\n",
    "function gen_slices(ayahs_emb::AyahEmbeddings{T}, mp::AyahMidpoints{<:Integer})::Vector{Vector{AyahEmbeddings{T}}} where T <: Union{Float32,Float64}\n",
    "    ayahs_emb = ayahs_emb.emb\n",
    "    midpoints = mp.midpoints\n",
    "    \n",
    "    slices = Vector{AyahEmbeddings{<:Union{Float32,Float64}}}[]\n",
    "    mp_size = size(midpoints)\n",
    "    for j in 1:mp_size[2]\n",
    "        slice = AyahEmbeddings{<:Union{Float32,Float64}}[]\n",
    "        for i in 1:mp_size[1]\n",
    "            if i == 1\n",
    "                push!(slice, AyahEmbeddings(ayahs_emb[1:(midpoints[i, j]-1),:]))\n",
    "            elseif i < mp_size[1]\n",
    "                push!(slice, AyahEmbeddings(ayahs_emb[midpoints[i-1, j]:(midpoints[i, j]-1),:]))\n",
    "            else\n",
    "                try\n",
    "                    push!(slice, AyahEmbeddings(ayahs_emb[midpoints[i-1, j]:(midpoints[i, j]-1),:]))\n",
    "                    push!(slice, AyahEmbeddings(ayahs_emb[midpoints[i, j]:end,:]))\n",
    "                catch\n",
    "                    @info \"$i, $j\"\n",
    "                end\n",
    "            end\n",
    "        end\n",
    "        push!(slices, slice)\n",
    "    end\n",
    "    return slices\n",
    "end"
   ]
  },
  {
   "cell_type": "code",
   "execution_count": 12,
   "id": "1cd97a5e-3fc1-4bcd-835b-06813124a034",
   "metadata": {},
   "outputs": [
    {
     "data": {
      "text/plain": [
       "five_summary (generic function with 2 methods)"
      ]
     },
     "execution_count": 12,
     "metadata": {},
     "output_type": "execute_result"
    }
   ],
   "source": [
    "\"\"\"\n",
    "Compute Five Number Summary\n",
    "\n",
    "five_summary(v::Vector{T}) where T<:Union{Float32,Float64}\n",
    "params:\n",
    "    v - data (e.g. embeddings)\n",
    "\n",
    "five_summary(slices::Vector{Vector{Matrix{T}}}) where T<:Union{Float32,Float64}\n",
    "params:\n",
    "    slices - slices of data (e.g. ayah embeddings)\n",
    "\"\"\"\n",
    "function five_summary(v::Vector{T})::Vector{T} where T <: Union{Float32,Float64}\n",
    "    sv = sort(v)\n",
    "\n",
    "    min = minimum(sv)\n",
    "    q1 = quantile(sv, 0.25)\n",
    "    med = median(sv)\n",
    "    q3 = quantile(sv, 0.5)\n",
    "    max = maximum(sv)\n",
    "\n",
    "    return [min, q1, med, q3, max]\n",
    "end\n",
    "\n",
    "function five_summary(\n",
    "        slices::Vector{Vector{AyahEmbeddings{T}}}\n",
    "        )::Vector{Vector{AyahEmbeddings{T}}} where T <: Union{Float32,Float64}\n",
    "    five_nums = Vector{AyahEmbeddings{<:Union{Float32,Float64}}}[]\n",
    "    for slice in slices\n",
    "        five_num = AyahEmbeddings{<:Union{Float32,Float64}}[]\n",
    "        for i in 1:size(slice)[1]\n",
    "            push!(five_num, mapslices(five_summary, slice[i].emb, dims=1) |> AyahEmbeddings)\n",
    "        end\n",
    "        push!(five_nums, five_num)\n",
    "    end\n",
    "    return five_nums\n",
    "end"
   ]
  },
  {
   "cell_type": "code",
   "execution_count": 13,
   "id": "48529fb1-3f5c-4969-b839-57c03a984b8f",
   "metadata": {},
   "outputs": [
    {
     "data": {
      "text/plain": [
       "show (generic function with 713 methods)"
      ]
     },
     "execution_count": 13,
     "metadata": {},
     "output_type": "execute_result"
    }
   ],
   "source": [
    "struct AyahDistances{T <: Union{Float32,Float64}}\n",
    "    dist::Vector{T}\n",
    "    formula::Distances.UnionSemiMetric\n",
    "end\n",
    "\n",
    "function show(io::IO, ::MIME\"text/plain\", ae::AyahDistances{T}) where T\n",
    "    print(io, \"AyahDistances{$T, $(typeof(ae.formula))}, \")\n",
    "    show(io, MIME(\"text/plain\"), ae.dist)\n",
    "end"
   ]
  },
  {
   "cell_type": "code",
   "execution_count": 14,
   "id": "1a160019-0ba7-413d-af30-83e52c34f531",
   "metadata": {},
   "outputs": [
    {
     "data": {
      "text/plain": [
       "fitness"
      ]
     },
     "execution_count": 14,
     "metadata": {},
     "output_type": "execute_result"
    }
   ],
   "source": [
    "\"\"\"\n",
    "Circular-wise Computation of the Distance of Slices\n",
    "\n",
    "params:\n",
    "    five_nums - five number summaries\n",
    "    slicer - Slicer configuration\n",
    "    dist - a Distances UnionSemiMetric\n",
    "\"\"\"\n",
    "function fitness(five_nums::Vector{Vector{AyahEmbeddings{T}}}, slicer::Slicer)::AyahDistances{Float64} where T <: Union{Float32,Float64}\n",
    "    med_idx = Int64(median(1:slicer.num_slices))\n",
    "    costs = Float64[]\n",
    "    for five_num in five_nums\n",
    "        cost = Float64[]\n",
    "        for i in 1:(med_idx-1)\n",
    "            ring_dist = mean(colwise(slicer.dist_formula, five_num[i].emb, five_num[end-i+1].emb))\n",
    "            cen_lower = mean(colwise(slicer.dist_formula, five_num[med_idx].emb, five_num[i].emb))\n",
    "            cen_upper = mean(colwise(slicer.dist_formula, five_num[med_idx].emb, five_num[end-i+1].emb))\n",
    "            \n",
    "            push!(cost, ring_dist - cen_lower - cen_upper)\n",
    "        end\n",
    "        push!(costs, sum(cost))\n",
    "    end\n",
    "    return AyahDistances(costs, slicer.dist_formula)\n",
    "end"
   ]
  },
  {
   "cell_type": "code",
   "execution_count": 15,
   "id": "77f1055a-41a3-44e3-ad50-77c08d74a494",
   "metadata": {},
   "outputs": [
    {
     "data": {
      "text/plain": [
       "selection"
      ]
     },
     "execution_count": 15,
     "metadata": {},
     "output_type": "execute_result"
    }
   ],
   "source": [
    "\"\"\"\n",
    "    Tournament Selection of Parent's Chromosome\n",
    "\n",
    "The function selects the parent's chromosome using tournament selection\n",
    "\n",
    "params:\n",
    "    ayahs_emb - Ayah embeddings\n",
    "    mp - Midpoints of the Ayah\n",
    "    k - The size of samples from where the parent is chosen\n",
    "\"\"\"\n",
    "function selection(ayahs_emb::AyahEmbeddings{<:Union{Float32,Float64}}, mp::AyahMidpoints{T}, k::T)::AyahMidpoints{T} where T <: Integer\n",
    "    midpoints = mp.midpoints\n",
    "    mp_size = size(mp.midpoints)\n",
    "    sample_indices = sample(1:mp_size[2], k)\n",
    "\n",
    "    parents = AyahMidpoints(midpoints[:, sample_indices])\n",
    "    refine!(parents)\n",
    "    parents_ayahs = gen_slices(ayahs_emb, parents)\n",
    "    parents_fivsum = five_summary(parents_ayahs)\n",
    "    parents_fit = fitness(parents_fivsum, slicer)\n",
    "    \n",
    "    return AyahMidpoints(parents.midpoints[:, [sortperm(parents_fit.dist)[1]]])\n",
    "end"
   ]
  },
  {
   "cell_type": "code",
   "execution_count": 16,
   "id": "51e80be3-28b5-4eba-887d-9dfdf69f47ef",
   "metadata": {},
   "outputs": [
    {
     "data": {
      "text/plain": [
       "crossover!"
      ]
     },
     "execution_count": 16,
     "metadata": {},
     "output_type": "execute_result"
    }
   ],
   "source": [
    "\"\"\"\n",
    "    Parent's Chromosome Crossover \n",
    "\n",
    "The parents chromosome are crossed-over \n",
    "\"\"\"\n",
    "function crossover!(mp::AyahMidpoints{T}, rate::Float64) where T <: Integer\n",
    "    mp_size = size(mp.midpoints)\n",
    "    \n",
    "    child1 = Vector{Int64}[]\n",
    "    child2 = Vector{Int64}[]\n",
    "    for i in 1:2:mp_size[2]\n",
    "        if i < mp_size[2]\n",
    "            x_parent = mp.midpoints[:, i]\n",
    "            y_parent = mp.midpoints[:, i+1]\n",
    "        else\n",
    "            x_index = rand(DiscreteUniform(1, mp_size[2]-1))\n",
    "            x_parent = mp.midpoints[:, x_index]\n",
    "            y_parent = mp.midpoints[:, i]\n",
    "        end\n",
    "        pt = rand(DiscreteUniform(1, mp_size[1]-2))\n",
    "\n",
    "        if rand() < rate        \n",
    "            push!(child1, vcat(x_parent[1:(pt-1)], y_parent[pt:end]))\n",
    "            push!(child2, vcat(y_parent[1:(pt-1)], x_parent[pt:end]))\n",
    "        else\n",
    "            push!(child1, x_parent)\n",
    "            push!(child2, y_parent)\n",
    "        end\n",
    "    end\n",
    "    return AyahMidpoints(sort(hcat(child1..., child2...), dims=1))\n",
    "end"
   ]
  },
  {
   "cell_type": "code",
   "execution_count": 17,
   "id": "c08b833d-8c89-4d3c-a06c-05e51b0eb4cc",
   "metadata": {},
   "outputs": [
    {
     "data": {
      "text/plain": [
       "mutate! (generic function with 1 method)"
      ]
     },
     "execution_count": 17,
     "metadata": {},
     "output_type": "execute_result"
    }
   ],
   "source": [
    "function mutate!(mp::AyahMidpoints, rate::Float64)\n",
    "    mp_size = size(mp.midpoints)\n",
    "    for i in 1:mp_size[2]\n",
    "        if rand() < rate\n",
    "            mp.midpoints[:, i] = mp.midpoints[:, i] - rand(DiscreteUniform(-2, 2), mp_size[1])\n",
    "        end\n",
    "    end\n",
    "    \n",
    "    return mp\n",
    "end"
   ]
  },
  {
   "cell_type": "code",
   "execution_count": 18,
   "id": "33b2e356-a328-4c1a-8170-fbfb98e54ba3",
   "metadata": {},
   "outputs": [
    {
     "data": {
      "text/plain": [
       "Slicer\n",
       " ├ num_slices: 9\n",
       " ├ var_slices: 1.5\n",
       " └ dist_formula: CosineDist\n"
      ]
     },
     "execution_count": 18,
     "metadata": {},
     "output_type": "execute_result"
    }
   ],
   "source": [
    "slicer = Slicer(9, 1.5, CosineDist())"
   ]
  },
  {
   "cell_type": "code",
   "execution_count": 123,
   "id": "8e70899e-fa4b-4c70-a858-9896cad0d641",
   "metadata": {},
   "outputs": [
    {
     "data": {
      "text/plain": [
       "AyahMidpoints{Int64}, 8×1000 Matrix{Int64}:\n",
       "  41   41   36    6   19    8    3   20  …   24   21   41   51   17   21   11\n",
       "  94   52   46   46   72   35   59   54      88  120   67   94   29   22   35\n",
       " 150   53   97   51   99   97   82   75      99  123  125  135   50   34   54\n",
       " 178   72  123  157  209  133   95  154     104  186  149  159   58   56  114\n",
       " 185  224  254  162  217  152   96  160     105  240  161  195  148  112  185\n",
       " 186  237  258  206  222  171  238  236  …  131  254  162  222  157  242  212\n",
       " 235  250  264  241  255  189  277  257     282  260  216  255  234  270  280\n",
       " 256  282  285  283  271  209  281  280     284  279  259  267  247  283  286"
      ]
     },
     "execution_count": 123,
     "metadata": {},
     "output_type": "execute_result"
    }
   ],
   "source": [
    "midpoints = gen_midpoints(size(ayahs_emb.emb)[1], 1000, slicer)"
   ]
  },
  {
   "cell_type": "code",
   "execution_count": 124,
   "id": "6ab97d8d-1629-4e5e-a43a-7b2d945d77b3",
   "metadata": {},
   "outputs": [
    {
     "data": {
      "text/plain": [
       "9-element Vector{AyahEmbeddings{Float32}}:\n",
       " AyahEmbeddings{Float32}(Float32[0.5310184 -0.13249622 … 0.9898191 0.20107773; 0.784264 -0.18788888 … 0.64655566 0.6163212; … ; 0.7238797 -0.09622821 … 1.4454318 0.33201998; 0.6638031 -0.3995374 … 1.6776503 0.45431653])\n",
       " AyahEmbeddings{Float32}(Float32[0.24665421 -0.22287323 … 1.1286855 0.63747483; 0.021905743 -0.53792876 … 0.84529024 0.39527953; … ; 0.81268334 -0.26064166 … 1.1669103 0.1384463; 0.6668186 -0.45048323 … 1.6818513 0.35077122])\n",
       " AyahEmbeddings{Float32}(Float32[0.61831284 -0.0630725 … 0.62315506 0.4455095; 0.2113618 -0.3079434 … 0.9023251 0.290398; … ; 0.22410631 -0.18886393 … 0.8189797 0.5854496; 0.5024037 -0.43811527 … 0.8246302 0.3648433])\n",
       " AyahEmbeddings{Float32}(Float32[0.62976277 -0.39135665 … 0.99738055 0.545664; 0.45305315 0.07350041 … 1.1909935 0.62069064; … ; 0.8828979 -0.22871047 … 1.3455939 -0.018424297; 0.64181143 -0.2966083 … 1.5666466 0.6458615])\n",
       " AyahEmbeddings{Float32}(Float32[0.7059701 -0.111044206 … 1.105695 0.46454352; 0.9222364 -0.45772222 … 1.021168 0.35927573; … ; 0.74245167 -0.2240826 … 1.1006126 0.39583528; 0.74872446 -0.73089635 … 0.843377 0.59680337])\n",
       " AyahEmbeddings{Float32}(Float32[0.8303875 -0.6760581 … 1.0204605 0.5304715])\n",
       " AyahEmbeddings{Float32}(Float32[0.6302278 -0.6369835 … 1.2888631 0.775681; 0.32859424 -0.4094973 … 1.0395087 0.26211792; … ; 0.3499636 -0.6941149 … 1.4924666 0.2944967; 0.30728734 -0.73369294 … 1.5236362 0.3253624])\n",
       " AyahEmbeddings{Float32}(Float32[0.115120724 -0.4441568 … 1.4114012 0.47424135; 0.37970975 -0.78042156 … 1.3481581 0.35991356; … ; 0.23660065 -0.291881 … 0.8926127 0.6128389; 0.42691398 -0.2651748 … 1.4180248 0.55422693])\n",
       " AyahEmbeddings{Float32}(Float32[0.51218814 -0.425377 … 1.2811232 0.28862095; 0.7129056 0.033981957 … 1.1004882 0.4926425; … ; 0.562232 -0.065970965 … 1.5821476 0.4336186; 0.39351997 -0.38534313 … 1.7072624 0.45613596])"
      ]
     },
     "execution_count": 124,
     "metadata": {},
     "output_type": "execute_result"
    }
   ],
   "source": [
    "slices = gen_slices(ayahs_emb, midpoints)\n",
    "slices[1]"
   ]
  },
  {
   "cell_type": "code",
   "execution_count": 125,
   "id": "0fc495a9-2bb9-4c7d-9997-4708c551c5ca",
   "metadata": {},
   "outputs": [
    {
     "data": {
      "text/plain": [
       "9-element Vector{AyahEmbeddings{Float32}}:\n",
       " AyahEmbeddings{Float32}(Float32[0.12342641 -0.8578767 … 0.64655566 -0.19475842; 0.46979922 -0.4446856 … 0.9230472 0.28326505; … ; 0.607825 -0.32247528 … 1.0176505 0.42462644; 1.0786216 0.035326615 … 1.6776503 0.86905515])\n",
       " AyahEmbeddings{Float32}(Float32[-0.306053 -0.8715603 … 0.42053604 -0.27542344; 0.47682613 -0.42138666 … 0.9332659 0.26840523; … ; 0.66127485 -0.33161378 … 1.1496401 0.37403765; 1.1937826 0.077369876 … 1.6818513 0.75357646])\n",
       " AyahEmbeddings{Float32}(Float32[0.03177256 -0.64853805 … 0.62315506 0.07590462; 0.4786202 -0.34024557 … 0.8388448 0.34052074; … ; 0.67638624 -0.21618217 … 1.0714273 0.4673041; 1.1185113 0.37300172 … 1.8207021 0.8410814])\n",
       " AyahEmbeddings{Float32}(Float32[-0.09084574 -0.57806057 … 0.84634197 -0.05433424; 0.42623654 -0.4731375 … 0.9793378 0.40219122; … ; 0.6496532 -0.31082654 … 1.0611362 0.47819248; 1.0286379 0.07350041 … 1.5666466 0.7521885])\n",
       " AyahEmbeddings{Float32}(Float32[0.34828827 -0.73089635 … 0.5891034 -0.004991847; 0.72421086 -0.43052983 … 0.9247962 0.3775555; … ; 0.74872446 -0.2240826 … 1.021168 0.46454352; 0.9222364 0.028159754 … 1.105695 0.59680337])\n",
       " AyahEmbeddings{Float32}(Float32[0.8303875 -0.6760581 … 1.0204605 0.5304715; 0.8303875 -0.6760581 … 1.0204605 0.5304715; … ; 0.8303875 -0.6760581 … 1.0204605 0.5304715; 0.8303875 -0.6760581 … 1.0204605 0.5304715])\n",
       " AyahEmbeddings{Float32}(Float32[0.11386451 -0.75734156 … 0.5764932 -0.21251053; 0.37474698 -0.5108243 … 0.9525868 0.31364426; … ; 0.50615853 -0.30571473 … 1.1248834 0.47331226; 1.1378015 0.1378211 … 1.6010935 0.97848576])\n",
       " AyahEmbeddings{Float32}(Float32[0.115120724 -0.78042156 … 0.4219508 0.16635153; 0.44619536 -0.5087184 … 1.019538 0.27638516; … ; 0.817073 -0.29548675 … 1.2104315 0.35991356; 1.2707266 0.02151232 … 1.5491331 0.6128389])\n",
       " AyahEmbeddings{Float32}(Float32[0.14368801 -0.7120016 … 0.5221019 -0.061181314; 0.3607125 -0.49665114 … 0.92860615 0.28422198; … ; 0.51218814 -0.39100012 … 1.14871 0.46731672; 1.0811857 0.1576735 … 1.7072624 0.96309286])"
      ]
     },
     "execution_count": 125,
     "metadata": {},
     "output_type": "execute_result"
    }
   ],
   "source": [
    "five_nums = five_summary(slices);\n",
    "five_nums[1]"
   ]
  },
  {
   "cell_type": "code",
   "execution_count": 126,
   "id": "a1a917f9-2345-445b-a97a-cfd1d3f50a86",
   "metadata": {},
   "outputs": [
    {
     "data": {
      "text/plain": [
       "AyahDistances{Float64, CosineDist}, 1000-element Vector{Float64}:\n",
       " -0.31820159405469894\n",
       " -0.18488498777151108\n",
       " -0.15151747688651085\n",
       " -0.5766356885433197\n",
       " -0.29217495769262314\n",
       " -0.174077857285738\n",
       " -3.8428680300712585\n",
       " -0.3485405892133713\n",
       " -0.4070903956890106\n",
       " -1.0923808366060257\n",
       " -0.1127361785620451\n",
       " -0.11252627521753311\n",
       " -0.2895450685173273\n",
       "  ⋮\n",
       " -0.09845579415559769\n",
       " -0.5200941190123558\n",
       " -0.1644866019487381\n",
       " -0.2283208817243576\n",
       " -0.10594317130744457\n",
       " -2.6836524307727814\n",
       " -0.1849905364215374\n",
       " -0.16705038771033287\n",
       " -0.06979052163660526\n",
       " -0.10815297812223434\n",
       " -0.17563643492758274\n",
       " -0.1255437545478344"
      ]
     },
     "execution_count": 126,
     "metadata": {},
     "output_type": "execute_result"
    }
   ],
   "source": [
    "fitness(five_nums, slicer)"
   ]
  },
  {
   "cell_type": "code",
   "execution_count": 127,
   "id": "507692c6-917e-488f-94ae-dcc4dce1b529",
   "metadata": {},
   "outputs": [
    {
     "data": {
      "text/plain": [
       "AyahMidpoints{Int64}, 8×1000 Matrix{Int64}:\n",
       "  37   14   22   14   40   82   21   20  …   12    4  112   32   34   33   21\n",
       "  84   22   45   23   51   89   46   54      98   12  133   42  131  115  101\n",
       " 111   55   75   34   82  182  113   75     103   18  134   74  155  185  112\n",
       " 157  127  128   75  120  201  174  154     107  142  146   81  189  188  147\n",
       " 158  219  144   78  121  203  186  160     128  146  177  113  200  189  165\n",
       " 196  228  206  121  134  224  219  236  …  141  213  191  158  210  191  168\n",
       " 223  256  217  141  223  235  256  257     158  230  221  200  235  248  223\n",
       " 248  281  240  257  253  275  266  280     250  266  222  206  239  282  240"
      ]
     },
     "execution_count": 127,
     "metadata": {},
     "output_type": "execute_result"
    }
   ],
   "source": [
    "selected = AyahMidpoints(hcat([selection(ayahs_emb, midpoints, 3).midpoints for _ in 1:1000]...))"
   ]
  },
  {
   "cell_type": "code",
   "execution_count": 128,
   "id": "5cd5c4b0-c557-4055-b5bc-dc72a3403f28",
   "metadata": {},
   "outputs": [
    {
     "data": {
      "text/plain": [
       "AyahMidpoints{Int64}, 8×1000 Matrix{Int64}:\n",
       "  35   16   23   14   40   80   19   20  …   12    4  113   32   36   32   20\n",
       "  83   21   45   24   50   88   46   54     100   12  132   42  130  116  100\n",
       " 113   55   74   33   84  183  111   75     105   18  135   74  153  186  113\n",
       " 156  125  126   76  119  201  174  154     106  142  148   81  187  187  149\n",
       " 159  221  142   77  122  202  186  160     127  146  177  113  198  190  166\n",
       " 196  227  208  123  134  222  221  236  …  139  213  192  158  209  191  168\n",
       " 221  254  219  142  224  233  258  257     159  230  221  200  233  247  224\n",
       " 249  281  241  258  252  276  267  280     252  266  224  206  241  284  242"
      ]
     },
     "execution_count": 128,
     "metadata": {},
     "output_type": "execute_result"
    }
   ],
   "source": [
    "crossover!(selected, 0.8)\n",
    "mutate!(selected, 0.8)\n",
    "refine!(selected)"
   ]
  },
  {
   "cell_type": "markdown",
   "id": "33124153-d002-48f0-b740-a5d6401ffb27",
   "metadata": {},
   "source": [
    "### Generation Iteration"
   ]
  },
  {
   "cell_type": "code",
   "execution_count": 129,
   "id": "833efe72-0695-4a0f-915b-2f2d562aa00c",
   "metadata": {},
   "outputs": [],
   "source": [
    "using Random"
   ]
  },
  {
   "cell_type": "code",
   "execution_count": 130,
   "id": "9bc58667-8bc2-4302-a4e3-86d9aba31e37",
   "metadata": {},
   "outputs": [
    {
     "data": {
      "text/plain": [
       "AyahMidpoints{Int64}, 8×1000 Matrix{Int64}:\n",
       "  48   67    7   11   41   25   27  105  …   39   80   23   31   29   80   33\n",
       "  95   84   44   21   60   68   67  124      54  133   50   70   54   81   81\n",
       " 103  100   49   96  140   98  181  138      96  175   98  148   61   98  107\n",
       " 148  119   69  151  176  105  189  204     107  215  102  225  105  140  150\n",
       " 275  181  118  161  210  158  233  215     156  223  103  239  180  152  185\n",
       " 282  198  132  169  214  171  239  249  …  175  231  130  242  191  200  188\n",
       " 283  226  213  216  236  186  242  271     218  232  147  269  205  216  197\n",
       " 285  284  233  278  243  253  257  279     257  283  238  284  268  255  229"
      ]
     },
     "execution_count": 130,
     "metadata": {},
     "output_type": "execute_result"
    }
   ],
   "source": [
    "Random.seed!(123)\n",
    "generations = 50\n",
    "population = 1_000\n",
    "slicer = Slicer(9, 0.01, CosineDist())\n",
    "first_gen = gen_midpoints(size(ayahs_emb.emb)[1], population, slicer)"
   ]
  },
  {
   "cell_type": "code",
   "execution_count": 131,
   "id": "10393d61-9ba4-4a1f-b307-e440034ad445",
   "metadata": {},
   "outputs": [
    {
     "data": {
      "image/png": "[encoded data removed]",
      "text/html": [
       "<img width=600 height=450 style='object-fit: contain; height: auto;' src=\"data:image/png;base64, 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\"/>"
      ]
     },
     "execution_count": 131,
     "metadata": {},
     "output_type": "execute_result"
    }
   ],
   "source": [
    "hist(vec(first_gen.midpoints))"
   ]
  },
  {
   "cell_type": "code",
   "execution_count": 132,
   "id": "b4de533a-fcf1-4059-a694-cc945d7168d4",
   "metadata": {},
   "outputs": [
    {
     "data": {
      "text/plain": [
       "9×9 Matrix{Int64}:\n",
       "  40   24   36   28   31   10   25   66   14\n",
       "  72   30  110   29   44   55   36   76   31\n",
       "  95   35  111   36   65   64   69  161   68\n",
       " 107   46  117   94   74  160   74  166   70\n",
       " 118   78  150   99   86  165  144  178  149\n",
       " 219   97  195  138   90  170  165  179  171\n",
       " 252  109  233  151  194  197  190  190  175\n",
       " 273  139  266  191  206  228  213  204  180\n",
       " 275  207  270  217  216  238  258  284  263"
      ]
     },
     "execution_count": 132,
     "metadata": {},
     "output_type": "execute_result"
    }
   ],
   "source": [
    "sort(rand(DiscreteUniform(1, 286), 9, 9), dims=1)"
   ]
  },
  {
   "cell_type": "code",
   "execution_count": 133,
   "id": "52d449df-33e1-49c8-8c9e-47fd697669a0",
   "metadata": {},
   "outputs": [
    {
     "name": "stderr",
     "output_type": "stream",
     "text": [
      "\u001b[36m\u001b[1m[ \u001b[22m\u001b[39m\u001b[36m\u001b[1mInfo: \u001b[22m\u001b[39mGeneration 1\n"
     ]
    },
    {
     "ename": "LoadError",
     "evalue": "ArgumentError: reducing over an empty collection is not allowed; consider supplying `init` to the reducer",
     "output_type": "error",
     "traceback": [
      "ArgumentError: reducing over an empty collection is not allowed; consider supplying `init` to the reducer",
      "",
      "Stacktrace:",
      "  [1] _empty_reduce_error()",
      "    @ Base ./reduce.jl:319",
      "  [2] reduce_empty(f::Function, T::Type)",
      "    @ Base ./reduce.jl:320",
      "  [3] mapreduce_empty(::typeof(identity), op::Function, T::Type)",
      "    @ Base ./reduce.jl:369",
      "  [4] reduce_empty(op::Base.MappingRF{typeof(identity), typeof(min)}, ::Type{Float32})",
      "    @ Base ./reduce.jl:358",
      "  [5] reduce_empty_iter",
      "    @ ./reduce.jl:381 [inlined]",
      "  [6] mapreduce_empty_iter(f::Function, op::Function, itr::Vector{Float32}, ItrEltype::Base.HasEltype)",
      "    @ Base ./reduce.jl:377",
      "  [7] _mapreduce(f::typeof(identity), op::typeof(min), ::IndexLinear, A::Vector{Float32})",
      "    @ Base ./reduce.jl:429",
      "  [8] _mapreduce_dim",
      "    @ ./reducedim.jl:337 [inlined]",
      "  [9] mapreduce",
      "    @ ./reducedim.jl:329 [inlined]",
      " [10] _minimum",
      "    @ ./reducedim.jl:987 [inlined]",
      " [11] _minimum",
      "    @ ./reducedim.jl:986 [inlined]",
      " [12] minimum",
      "    @ ./reducedim.jl:982 [inlined]",
      " [13] five_summary(v::Vector{Float32})",
      "    @ Main ./In[12]:15",
      " [14] mapslices(f::typeof(five_summary), A::Matrix{Float32}; dims::Int64)",
      "    @ Base ./abstractarray.jl:3281",
      " [15] mapslices",
      "    @ ./abstractarray.jl:3265 [inlined]",
      " [16] five_summary(slices::Vector{Vector{AyahEmbeddings{Float32}}})",
      "    @ Main ./In[12]:31",
      " [17] selection(ayahs_emb::AyahEmbeddings{Float32}, mp::AyahMidpoints{Int64}, k::Int64)",
      "    @ Main ./In[15]:19",
      " [18] (::var\"#31#32\")(::Int64)",
      "    @ Main ./none:0",
      " [19] iterate",
      "    @ ./generator.jl:48 [inlined]",
      " [20] collect_to!(dest::Vector{Matrix{Int64}}, itr::Base.Generator{UnitRange{Int64}, var\"#31#32\"}, offs::Int64, st::Int64)",
      "    @ Base ./array.jl:849",
      " [21] collect_to_with_first!(dest::Vector{Matrix{Int64}}, v1::Matrix{Int64}, itr::Base.Generator{UnitRange{Int64}, var\"#31#32\"}, st::Int64)",
      "    @ Base ./array.jl:827",
      " [22] collect(itr::Base.Generator{UnitRange{Int64}, var\"#31#32\"})",
      "    @ Base ./array.jl:801",
      " [23] top-level scope",
      "    @ In[133]:4"
     ]
    }
   ],
   "source": [
    "childrens = AyahMidpoints(copy(first_gen.midpoints))\n",
    "for generation in 1:generations\n",
    "    @info \"Generation $generation\"\n",
    "    childrens = AyahMidpoints(\n",
    "        hcat(\n",
    "            [selection(ayahs_emb, childrens, 3).midpoints for _ in 1:population]...\n",
    "        )\n",
    "    )\n",
    "    crossover!(childrens, 0.8)\n",
    "    mutate!(childrens, 0.8)\n",
    "    refine!(childrens)\n",
    "    @info fitness(\n",
    "        five_summary(\n",
    "            gen_slices(ayahs_emb, childrens)\n",
    "            ), \n",
    "        slicer\n",
    "    ).dist |> mean\n",
    "end"
   ]
  },
  {
   "cell_type": "code",
   "execution_count": null,
   "id": "a003e6c4-7b19-4258-a451-139a4d9cfa43",
   "metadata": {},
   "outputs": [],
   "source": []
  },
  {
   "cell_type": "code",
   "execution_count": 108,
   "id": "21d637b1-2ad4-4045-bce9-9291e304fcb2",
   "metadata": {},
   "outputs": [
    {
     "data": {
      "text/plain": [
       "AyahMidpoints{Int64}, 9×1000 Matrix{Int64}:\n",
       "   7    5    7    5    6    6    6    5  …    4    7    2    2    6    2    2\n",
       "  13   10   15    8   12   11   13    7      11   14    8    8   11    8   11\n",
       "  14   14   17   19   14   16   16   13      18   15   16   12   15   11   13\n",
       "  19   17   18   20   18   20   18   16      19   18   18   19   18   18   20\n",
       "  20   18   19   21   19   21   19   17      20   19   21   20   19   19   21\n",
       "  22   22   27   23   20   31   27   18  …   21   20   29   21   21   20   22\n",
       "  57   62   62   45   47   64   51   66      46   63   55   58   60   69   48\n",
       "  87   84   94   88   87   95   92   99      89   94   88  106   84   85   89\n",
       " 122  123  121  111  110  123  115  132     107  119  127  113  122  105  121"
      ]
     },
     "execution_count": 108,
     "metadata": {},
     "output_type": "execute_result"
    }
   ],
   "source": [
    "childrens"
   ]
  },
  {
   "cell_type": "code",
   "execution_count": 109,
   "id": "8600efdc-0883-4a93-949a-7c3ae2a09ad3",
   "metadata": {},
   "outputs": [
    {
     "data": {
      "image/png": "[encoded data removed]",
      "text/html": [
       "<img width=600 height=450 style='object-fit: contain; height: auto;' src=\"data:image/png;base64, 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\"/>"
      ]
     },
     "execution_count": 109,
     "metadata": {},
     "output_type": "execute_result"
    }
   ],
   "source": [
    "hist(vec(childrens.midpoints))"
   ]
  },
  {
   "cell_type": "code",
   "execution_count": 110,
   "id": "1e0e70b8-296a-4c91-9667-30e93d26fd39",
   "metadata": {},
   "outputs": [
    {
     "data": {
      "text/plain": [
       "1000-element Vector{Float64}:\n",
       " -3.167092651128769\n",
       " -3.091867446899414\n",
       " -4.018972218036652\n",
       " -2.6601788997650146\n",
       " -4.403760671615601\n",
       " -3.086856484413147\n",
       " -4.384459733963013\n",
       " -2.756562888622284\n",
       " -1.1792186349630356\n",
       " -3.1663190126419067\n",
       " -2.4643517434597015\n",
       " -3.1002570390701294\n",
       " -3.384040057659149\n",
       "  ⋮\n",
       " -3.322526693344116\n",
       " -3.0929200053215027\n",
       " -4.396116018295288\n",
       " -2.7764695584774017\n",
       " -3.0086830258369446\n",
       " -3.054956555366516\n",
       " -4.163662493228912\n",
       " -0.9906852394342422\n",
       " -3.0812140107154846\n",
       " -4.436249136924744\n",
       " -4.081524848937988\n",
       " -2.7642232179641724"
      ]
     },
     "execution_count": 110,
     "metadata": {},
     "output_type": "execute_result"
    }
   ],
   "source": [
    "children_scores = fitness(\n",
    "    five_summary(\n",
    "        gen_slices(ayahs_emb, childrens)\n",
    "        ), \n",
    "    slicer\n",
    ").dist "
   ]
  },
  {
   "cell_type": "code",
   "execution_count": 111,
   "id": "dca3a1ea-0f6f-451b-a8b3-efcef7f85a63",
   "metadata": {},
   "outputs": [
    {
     "data": {
      "text/plain": [
       "710"
      ]
     },
     "execution_count": 111,
     "metadata": {},
     "output_type": "execute_result"
    }
   ],
   "source": [
    "best_score = children_scores |> (x -> sortperm(x)[1])"
   ]
  },
  {
   "cell_type": "code",
   "execution_count": 112,
   "id": "2d4e7b22-c672-45dd-b14d-e15513c889ee",
   "metadata": {},
   "outputs": [
    {
     "data": {
      "text/plain": [
       "9-element Vector{Int64}:\n",
       "   4\n",
       "   9\n",
       "  14\n",
       "  18\n",
       "  19\n",
       "  21\n",
       "  59\n",
       "  84\n",
       " 113"
      ]
     },
     "execution_count": 112,
     "metadata": {},
     "output_type": "execute_result"
    }
   ],
   "source": [
    "childrens.midpoints[:, best_score]"
   ]
  },
  {
   "cell_type": "code",
   "execution_count": null,
   "id": "a3ccc531-e289-410a-95fa-9cc4aa9fe324",
   "metadata": {},
   "outputs": [],
   "source": []
  }
 ],
 "metadata": {
  "kernelspec": {
   "display_name": "Julia 1.11.4",
   "language": "julia",
   "name": "julia-1.11"
  },
  "language_info": {
   "file_extension": ".jl",
   "mimetype": "application/julia",
   "name": "julia",
   "version": "1.11.4"
  }
 },
 "nbformat": 4,
 "nbformat_minor": 5
}
